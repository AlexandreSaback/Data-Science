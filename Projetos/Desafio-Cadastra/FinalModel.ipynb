{
  "nbformat": 4,
  "nbformat_minor": 0,
  "metadata": {
    "colab": {
      "provenance": [],
      "gpuType": "T4"
    },
    "kernelspec": {
      "name": "python3",
      "display_name": "Python 3"
    },
    "language_info": {
      "name": "python"
    },
    "accelerator": "GPU"
  },
  "cells": [
    {
      "cell_type": "markdown",
      "source": [
        "# Estimação do Modelo Final\n",
        "### Autor: Alexandre Saback"
      ],
      "metadata": {
        "id": "2UgqTEVfXAZ-"
      }
    },
    {
      "cell_type": "markdown",
      "source": [
        "# Contextualização do Problema\n",
        "Agora que a base de dados já foi devidamente explorada, assim como os modelos iniciais, chegou o momento de encontrar um modelo mais robusto que seja capaz de explicar de forma mais precisa as relações presentes nos dados."
      ],
      "metadata": {
        "id": "NUDPOHmhXORm"
      }
    },
    {
      "cell_type": "markdown",
      "source": [
        "# Instalação de Pacotes Adicionais"
      ],
      "metadata": {
        "id": "P4JkNFXsXwQw"
      }
    },
    {
      "cell_type": "code",
      "source": [
        "!pip install statstests\n",
        "!pip install pyarrow"
      ],
      "metadata": {
        "colab": {
          "base_uri": "https://localhost:8080/"
        },
        "id": "24u9Lu_r3LdB",
        "outputId": "f212fe8e-33f5-490f-a269-3fbe5c7af09e"
      },
      "execution_count": 1,
      "outputs": [
        {
          "output_type": "stream",
          "name": "stdout",
          "text": [
            "Collecting statstests\n",
            "  Downloading statstests-1.0.7-py3-none-any.whl.metadata (1.7 kB)\n",
            "Downloading statstests-1.0.7-py3-none-any.whl (16 kB)\n",
            "Installing collected packages: statstests\n",
            "Successfully installed statstests-1.0.7\n",
            "Requirement already satisfied: pyarrow in /usr/local/lib/python3.10/dist-packages (14.0.2)\n",
            "Requirement already satisfied: numpy>=1.16.6 in /usr/local/lib/python3.10/dist-packages (from pyarrow) (1.26.4)\n"
          ]
        }
      ]
    },
    {
      "cell_type": "markdown",
      "source": [
        "# Começando\n",
        "O primeiro passo, mais uma vez, se concentra na importação dos pacotes necessários. A única adição aqui se concentra no _import_ do pacote _xgboost_, o qual possui modelos de _gradient boosting_ que serão utilizados nessa análise."
      ],
      "metadata": {
        "id": "mZnYQtVcX6tk"
      }
    },
    {
      "cell_type": "code",
      "execution_count": 57,
      "metadata": {
        "id": "Qw4yR9ft2YYA"
      },
      "outputs": [],
      "source": [
        "import pandas as pd\n",
        "from statstests.tests import shapiro_francia\n",
        "import pickle\n",
        "import numpy as np\n",
        "import matplotlib.pyplot as plt\n",
        "import seaborn as sns\n",
        "from sklearn.metrics import mean_squared_error as mse\n",
        "from sklearn.metrics import mean_absolute_error as mae\n",
        "from sklearn.metrics import mean_absolute_percentage_error as mape\n",
        "import xgboost as xgb\n",
        "from sklearn.model_selection import train_test_split\n",
        "from sklearn.model_selection import GridSearchCV"
      ]
    },
    {
      "cell_type": "markdown",
      "source": [
        "# Carregando os Dados"
      ],
      "metadata": {
        "id": "9ZY0snkzi54A"
      }
    },
    {
      "cell_type": "markdown",
      "source": [
        "## Carregando o Objeto StandardScaler"
      ],
      "metadata": {
        "id": "yi6_I5uki7TC"
      }
    },
    {
      "cell_type": "code",
      "source": [
        "with open('scaler.pickle', 'rb') as handle:\n",
        "  scaler = pickle.load(handle)"
      ],
      "metadata": {
        "colab": {
          "base_uri": "https://localhost:8080/"
        },
        "id": "52Zp2-flsZDu",
        "outputId": "9bdd2dd6-d0c6-4ff1-a9a9-226e553e5026"
      },
      "execution_count": 3,
      "outputs": [
        {
          "output_type": "stream",
          "name": "stderr",
          "text": [
            "/usr/local/lib/python3.10/dist-packages/sklearn/base.py:348: InconsistentVersionWarning: Trying to unpickle estimator StandardScaler from version 1.5.1 when using version 1.3.2. This might lead to breaking code or invalid results. Use at your own risk. For more info please refer to:\n",
            "https://scikit-learn.org/stable/model_persistence.html#security-maintainability-limitations\n",
            "  warnings.warn(\n"
          ]
        }
      ]
    },
    {
      "cell_type": "markdown",
      "source": [
        "## Carregando o Dataset Pré-processado"
      ],
      "metadata": {
        "id": "Iw-I-AKcjDSU"
      }
    },
    {
      "cell_type": "code",
      "source": [
        "dataset = pd.read_parquet(\"preprocessed_dataset.parquet\", engine=\"pyarrow\")"
      ],
      "metadata": {
        "id": "2DwHUginYdIH"
      },
      "execution_count": 4,
      "outputs": []
    },
    {
      "cell_type": "markdown",
      "source": [
        "## Selecionando Variáveis Quantitativas e Qualitativas"
      ],
      "metadata": {
        "id": "cGPmKTQnjFsj"
      }
    },
    {
      "cell_type": "code",
      "source": [
        "quanti_features = ['QT_VENDA_BRUTO',\n",
        " 'QT_DEVOLUCAO',\n",
        " 'VL_RECEITA_BRUTA',\n",
        " 'VL_RECEITA_LIQUIDA',\n",
        " 'PCT_DESCONTO',\n",
        " 'VL_PRECO']"
      ],
      "metadata": {
        "id": "63AYphXm6USM"
      },
      "execution_count": 5,
      "outputs": []
    },
    {
      "cell_type": "markdown",
      "source": [
        "# Definindo os Parâmetros Iniciais do Modelo"
      ],
      "metadata": {
        "id": "gf0luJjajNmc"
      }
    },
    {
      "cell_type": "markdown",
      "source": [
        "Como teste inicial, os parâmetros abaixo foram definidos de forma arbitrária apenas para produzir um resultado rápido e comparável."
      ],
      "metadata": {
        "id": "v7k71srBjQo4"
      }
    },
    {
      "cell_type": "code",
      "source": [
        "params = {\n",
        "    'objective': 'reg:squarederror',\n",
        "    'learning_rate': 0.1,\n",
        "    'max_depth': 6,\n",
        "    'alpha': 10,\n",
        "    'n_estimators': 100\n",
        "}"
      ],
      "metadata": {
        "id": "D_lXYIK43ihS"
      },
      "execution_count": 6,
      "outputs": []
    },
    {
      "cell_type": "code",
      "source": [
        "# Definição da Variável TARGET\n",
        "TARGET = \"QT_VENDA_BRUTO\""
      ],
      "metadata": {
        "id": "npE7mPlIpBfD"
      },
      "execution_count": 7,
      "outputs": []
    },
    {
      "cell_type": "code",
      "source": [
        "features = [feature for feature in list(dataset.columns) if feature != TARGET]\n",
        "features = [feature for feature in features if not feature.startswith(\"COD_MATERIAL\")]"
      ],
      "metadata": {
        "id": "XPokorDG4NEv"
      },
      "execution_count": 8,
      "outputs": []
    },
    {
      "cell_type": "markdown",
      "source": [
        "# Avaliando o Modelo Utilizando Todos os Dados"
      ],
      "metadata": {
        "id": "wy9G7yS58dQM"
      }
    },
    {
      "cell_type": "markdown",
      "source": [
        "Como etapa inicial, decidi não separar os dados em Treino/Teste para realizar comparações fidedignas entre o modelo estimado e os modelos desenvolvidos na exploração anterior."
      ],
      "metadata": {
        "id": "b9ngK_xGjYtz"
      }
    },
    {
      "cell_type": "markdown",
      "source": [
        "## Treinando o Modelo"
      ],
      "metadata": {
        "id": "S5yy8NX_jpxj"
      }
    },
    {
      "cell_type": "code",
      "source": [
        "dtrain = xgb.DMatrix(dataset[features], label=dataset[TARGET])"
      ],
      "metadata": {
        "id": "PZMBKINa4llw"
      },
      "execution_count": 9,
      "outputs": []
    },
    {
      "cell_type": "code",
      "source": [
        "model = xgb.train(params, dtrain, num_boost_round=100)"
      ],
      "metadata": {
        "colab": {
          "base_uri": "https://localhost:8080/"
        },
        "id": "Uhh_EELH31wt",
        "outputId": "f2059887-e6c3-4970-92f0-24815ace1b0c"
      },
      "execution_count": 10,
      "outputs": [
        {
          "output_type": "stream",
          "name": "stderr",
          "text": [
            "/usr/local/lib/python3.10/dist-packages/xgboost/core.py:158: UserWarning: [21:28:16] WARNING: /workspace/src/learner.cc:740: \n",
            "Parameters: { \"n_estimators\" } are not used.\n",
            "\n",
            "  warnings.warn(smsg, UserWarning)\n"
          ]
        }
      ]
    },
    {
      "cell_type": "code",
      "source": [
        "fitted_values = model.predict(dtrain)"
      ],
      "metadata": {
        "id": "2Sz3Iiji5Yx7"
      },
      "execution_count": 11,
      "outputs": []
    },
    {
      "cell_type": "markdown",
      "source": [
        "## Valores Reais x Valores Estimados"
      ],
      "metadata": {
        "id": "6O2rpu4uj0Mr"
      }
    },
    {
      "cell_type": "code",
      "source": [
        "clean_df = dataset.copy()\n",
        "clean_df[quanti_features] = scaler.inverse_transform(dataset[quanti_features])\n",
        "clean_df[\"fitted_values\"] = fitted_values * clean_df[TARGET].std() + clean_df[TARGET].mean()"
      ],
      "metadata": {
        "id": "CbAgDg0ZuxIE"
      },
      "execution_count": 12,
      "outputs": []
    },
    {
      "cell_type": "code",
      "source": [
        "comparison_df = pd.DataFrame(data=[clean_df[TARGET].values, clean_df[\"fitted_values\"]]).T\n",
        "comparison_df.columns = [\"true_values\", \"fitted_values\"]"
      ],
      "metadata": {
        "id": "xdnYaouusEy9"
      },
      "execution_count": 13,
      "outputs": []
    },
    {
      "cell_type": "markdown",
      "source": [
        "## Métricas de Erro"
      ],
      "metadata": {
        "id": "UgEVztw3j13V"
      }
    },
    {
      "cell_type": "code",
      "source": [
        "print(f\"MSE: {mse(comparison_df['true_values'].values, comparison_df['fitted_values'])}\")\n",
        "print(f\"MAE: {mae(comparison_df['true_values'].values, comparison_df['fitted_values'])}\")"
      ],
      "metadata": {
        "colab": {
          "base_uri": "https://localhost:8080/"
        },
        "id": "-4Ts6Nhw56bc",
        "outputId": "86e828d7-7e91-4ee5-8ce8-aea3365d452b"
      },
      "execution_count": 14,
      "outputs": [
        {
          "output_type": "stream",
          "name": "stdout",
          "text": [
            "MSE: 46235312.04605888\n",
            "MAE: 633.6535108196093\n"
          ]
        }
      ]
    },
    {
      "cell_type": "markdown",
      "source": [
        "Sem muito esforço, o modelo acima apresentou resultados melhores que os dois modelos estimados previamente, atingindo um MAE de 633 em comparação com 5069 do modelo linear e 4.05*10^22 do modelo não linear, se tornando a melhor opção até o momento."
      ],
      "metadata": {
        "id": "2WE494BUj5f7"
      }
    },
    {
      "cell_type": "markdown",
      "source": [
        "## Feature Importance"
      ],
      "metadata": {
        "id": "iFnFk06fkS5m"
      }
    },
    {
      "cell_type": "markdown",
      "source": [
        "Agora, vamos dar uma olhada na contribuição de algumas variáveis para a explicação da variável TARGET."
      ],
      "metadata": {
        "id": "t9nzralNkVOa"
      }
    },
    {
      "cell_type": "code",
      "source": [
        "feature_importances = model.get_score(importance_type='weight')\n",
        "total = sum(feature_importances.values())\n",
        "normalized_importances = {k: v / total for k, v in feature_importances.items()}\n",
        "\n",
        "features_df = pd.DataFrame({\n",
        "    'Feature': normalized_importances.keys(),\n",
        "    'Importance': normalized_importances.values()\n",
        "})\n",
        "\n",
        "features_df = features_df.sort_values(by='Importance', ascending=False)\n",
        "top_20_features = features_df.iloc[:20]"
      ],
      "metadata": {
        "id": "AbPUzZiLjno-"
      },
      "execution_count": 15,
      "outputs": []
    },
    {
      "cell_type": "code",
      "source": [
        "plt.figure(figsize=(12, 4))\n",
        "plt.barh(top_20_features['Feature'], top_20_features['Importance'])\n",
        "plt.gca().invert_yaxis()\n",
        "plt.xlabel('Importance')\n",
        "plt.ylabel('Feature')\n",
        "plt.title('Top 20 Feature Importances')\n",
        "plt.show()"
      ],
      "metadata": {
        "colab": {
          "base_uri": "https://localhost:8080/",
          "height": 407
        },
        "id": "yLPVonEGhkH_",
        "outputId": "73584b53-13f7-407d-f8fe-0799a2707b9e"
      },
      "execution_count": 16,
      "outputs": [
        {
          "output_type": "display_data",
          "data": {
            "text/plain": [
              "<Figure size 1200x400 with 1 Axes>"
            ],
            "image/png": "[encoded data removed]"
          },
          "metadata": {}
        }
      ]
    },
    {
      "cell_type": "markdown",
      "source": [
        "De acordo com o _plot_ acima, as variáveis `VL_PRECO` e `VL_RECEITA_BRUTA` contribuem fortemente para a explicação do comportamento da variável TARGET, representando cada uma mais de 20% dos pesos atribuídos a cada variável.\n",
        "\n",
        "É interessante lembrar que a variável `VL_RECEITA_BRUTA` apresentou uma forte correlação positiva com a variável TARGET (`QT_VENDA_BRUTA`) durante a análise exploratória dos dados. Dessa forma, era esperado que tal variável contribuísse fortemente para a explicação da variável dependente."
      ],
      "metadata": {
        "id": "SnracFgMkeCd"
      }
    },
    {
      "cell_type": "markdown",
      "source": [
        "# Dividindo os Dados em Treino/Teste"
      ],
      "metadata": {
        "id": "xGYeUdCn8sa9"
      }
    },
    {
      "cell_type": "markdown",
      "source": [
        "Agora, a ideia é dividir os dados em Treino/Teste para que seja possível realizar uma avaliação mais verdadeira do desempenho do modelo em dados não observados durante o treinamento (teste)."
      ],
      "metadata": {
        "id": "zbwEzOODk5zU"
      }
    },
    {
      "cell_type": "code",
      "source": [
        "train_data = dataset[features]\n",
        "target_variable = dataset[TARGET]"
      ],
      "metadata": {
        "id": "orAm0xWn7VUf"
      },
      "execution_count": 17,
      "outputs": []
    },
    {
      "cell_type": "code",
      "source": [
        "# Divisão dos dados\n",
        "X_train, X_test, y_train, y_test = train_test_split(train_data, target_variable, test_size=0.3, random_state=42)"
      ],
      "metadata": {
        "id": "PTQJ8BwM_uBP"
      },
      "execution_count": 18,
      "outputs": []
    },
    {
      "cell_type": "markdown",
      "source": [
        "# Ajuste de Hiperparâmetros"
      ],
      "metadata": {
        "id": "UOpUitxKBKJ-"
      }
    },
    {
      "cell_type": "markdown",
      "source": [
        "Antes de realizar o treino do modelo, optei por realizar um GridSearch de forma rápida e concentrada para encontrar parâmetros que consigam explicar de forma mais precisa os comportamentos observados nos dados."
      ],
      "metadata": {
        "id": "d5mRf5OQlEn3"
      }
    },
    {
      "cell_type": "code",
      "source": [
        "# Definindo o espaço de busca dos parâmetros\n",
        "param_grid = {\n",
        "    'max_depth': [3, 6, 10],\n",
        "    'learning_rate': [0.01, 0.1, 0.3],\n",
        "    'n_estimators': [100, 200, 300],\n",
        "    'alpha': [1, 10, 100]\n",
        "}"
      ],
      "metadata": {
        "id": "67jShhvjAIsB"
      },
      "execution_count": 19,
      "outputs": []
    },
    {
      "cell_type": "code",
      "source": [
        "# Definindo o modelo\n",
        "xgb_model = xgb.XGBRegressor(objective='reg:squarederror')"
      ],
      "metadata": {
        "id": "fi2nlsknBPiw"
      },
      "execution_count": 20,
      "outputs": []
    },
    {
      "cell_type": "code",
      "source": [
        "# Executando GridSearch\n",
        "grid_search = GridSearchCV(estimator=xgb_model, param_grid=param_grid, cv=2, scoring='neg_mean_squared_error', verbose=3, n_jobs=-1)\n",
        "grid_search.fit(X_train, y_train)"
      ],
      "metadata": {
        "colab": {
          "base_uri": "https://localhost:8080/",
          "height": 135
        },
        "id": "UyL0daNvBTP6",
        "outputId": "5a9872ec-fb7d-4dc7-8ac0-fc83f7104220"
      },
      "execution_count": 21,
      "outputs": [
        {
          "output_type": "stream",
          "name": "stdout",
          "text": [
            "Fitting 2 folds for each of 81 candidates, totalling 162 fits\n"
          ]
        },
        {
          "output_type": "execute_result",
          "data": {
            "text/plain": [
              "GridSearchCV(cv=2,\n",
              "             estimator=XGBRegressor(base_score=None, booster=None,\n",
              "                                    callbacks=None, colsample_bylevel=None,\n",
              "                                    colsample_bynode=None,\n",
              "                                    colsample_bytree=None, device=None,\n",
              "                                    early_stopping_rounds=None,\n",
              "                                    enable_categorical=False, eval_metric=None,\n",
              "                                    feature_types=None, gamma=None,\n",
              "                                    grow_policy=None, importance_type=None,\n",
              "                                    interaction_constraints=None,\n",
              "                                    learning_rate=None, m...\n",
              "                                    max_depth=None, max_leaves=None,\n",
              "                                    min_child_weight=None, missing=nan,\n",
              "                                    monotone_constraints=None,\n",
              "                                    multi_strategy=None, n_estimators=None,\n",
              "                                    n_jobs=None, num_parallel_tree=None,\n",
              "                                    random_state=None, ...),\n",
              "             n_jobs=-1,\n",
              "             param_grid={'alpha': [1, 10, 100],\n",
              "                         'learning_rate': [0.01, 0.1, 0.3],\n",
              "                         'max_depth': [3, 6, 10],\n",
              "                         'n_estimators': [100, 200, 300]},\n",
              "             scoring='neg_mean_squared_error', verbose=3)"
            ],
            "text/html": [
              "<style>#sk-container-id-1 {color: black;}#sk-container-id-1 pre{padding: 0;}#sk-container-id-1 div.sk-toggleable {background-color: white;}#sk-container-id-1 label.sk-toggleable__label {cursor: pointer;display: block;width: 100%;margin-bottom: 0;padding: 0.3em;box-sizing: border-box;text-align: center;}#sk-container-id-1 label.sk-toggleable__label-arrow:before {content: \"▸\";float: left;margin-right: 0.25em;color: #696969;}#sk-container-id-1 label.sk-toggleable__label-arrow:hover:before {color: black;}#sk-container-id-1 div.sk-estimator:hover label.sk-toggleable__label-arrow:before {color: black;}#sk-container-id-1 div.sk-toggleable__content {max-height: 0;max-width: 0;overflow: hidden;text-align: left;background-color: #f0f8ff;}#sk-container-id-1 div.sk-toggleable__content pre {margin: 0.2em;color: black;border-radius: 0.25em;background-color: #f0f8ff;}#sk-container-id-1 input.sk-toggleable__control:checked~div.sk-toggleable__content {max-height: 200px;max-width: 100%;overflow: auto;}#sk-container-id-1 input.sk-toggleable__control:checked~label.sk-toggleable__label-arrow:before {content: \"▾\";}#sk-container-id-1 div.sk-estimator input.sk-toggleable__control:checked~label.sk-toggleable__label {background-color: #d4ebff;}#sk-container-id-1 div.sk-label input.sk-toggleable__control:checked~label.sk-toggleable__label {background-color: #d4ebff;}#sk-container-id-1 input.sk-hidden--visually {border: 0;clip: rect(1px 1px 1px 1px);clip: rect(1px, 1px, 1px, 1px);height: 1px;margin: -1px;overflow: hidden;padding: 0;position: absolute;width: 1px;}#sk-container-id-1 div.sk-estimator {font-family: monospace;background-color: #f0f8ff;border: 1px dotted black;border-radius: 0.25em;box-sizing: border-box;margin-bottom: 0.5em;}#sk-container-id-1 div.sk-estimator:hover {background-color: #d4ebff;}#sk-container-id-1 div.sk-parallel-item::after {content: \"\";width: 100%;border-bottom: 1px solid gray;flex-grow: 1;}#sk-container-id-1 div.sk-label:hover label.sk-toggleable__label {background-color: #d4ebff;}#sk-container-id-1 div.sk-serial::before {content: \"\";position: absolute;border-left: 1px solid gray;box-sizing: border-box;top: 0;bottom: 0;left: 50%;z-index: 0;}#sk-container-id-1 div.sk-serial {display: flex;flex-direction: column;align-items: center;background-color: white;padding-right: 0.2em;padding-left: 0.2em;position: relative;}#sk-container-id-1 div.sk-item {position: relative;z-index: 1;}#sk-container-id-1 div.sk-parallel {display: flex;align-items: stretch;justify-content: center;background-color: white;position: relative;}#sk-container-id-1 div.sk-item::before, #sk-container-id-1 div.sk-parallel-item::before {content: \"\";position: absolute;border-left: 1px solid gray;box-sizing: border-box;top: 0;bottom: 0;left: 50%;z-index: -1;}#sk-container-id-1 div.sk-parallel-item {display: flex;flex-direction: column;z-index: 1;position: relative;background-color: white;}#sk-container-id-1 div.sk-parallel-item:first-child::after {align-self: flex-end;width: 50%;}#sk-container-id-1 div.sk-parallel-item:last-child::after {align-self: flex-start;width: 50%;}#sk-container-id-1 div.sk-parallel-item:only-child::after {width: 0;}#sk-container-id-1 div.sk-dashed-wrapped {border: 1px dashed gray;margin: 0 0.4em 0.5em 0.4em;box-sizing: border-box;padding-bottom: 0.4em;background-color: white;}#sk-container-id-1 div.sk-label label {font-family: monospace;font-weight: bold;display: inline-block;line-height: 1.2em;}#sk-container-id-1 div.sk-label-container {text-align: center;}#sk-container-id-1 div.sk-container {/* jupyter's `normalize.less` sets `[hidden] { display: none; }` but bootstrap.min.css set `[hidden] { display: none !important; }` so we also need the `!important` here to be able to override the default hidden behavior on the sphinx rendered scikit-learn.org. See: https://github.com/scikit-learn/scikit-learn/issues/21755 */display: inline-block !important;position: relative;}#sk-container-id-1 div.sk-text-repr-fallback {display: none;}</style><div id=\"sk-container-id-1\" class=\"sk-top-container\"><div class=\"sk-text-repr-fallback\"><pre>GridSearchCV(cv=2,\n",
              "             estimator=XGBRegressor(base_score=None, booster=None,\n",
              "                                    callbacks=None, colsample_bylevel=None,\n",
              "                                    colsample_bynode=None,\n",
              "                                    colsample_bytree=None, device=None,\n",
              "                                    early_stopping_rounds=None,\n",
              "                                    enable_categorical=False, eval_metric=None,\n",
              "                                    feature_types=None, gamma=None,\n",
              "                                    grow_policy=None, importance_type=None,\n",
              "                                    interaction_constraints=None,\n",
              "                                    learning_rate=None, m...\n",
              "                                    max_depth=None, max_leaves=None,\n",
              "                                    min_child_weight=None, missing=nan,\n",
              "                                    monotone_constraints=None,\n",
              "                                    multi_strategy=None, n_estimators=None,\n",
              "                                    n_jobs=None, num_parallel_tree=None,\n",
              "                                    random_state=None, ...),\n",
              "             n_jobs=-1,\n",
              "             param_grid={&#x27;alpha&#x27;: [1, 10, 100],\n",
              "                         &#x27;learning_rate&#x27;: [0.01, 0.1, 0.3],\n",
              "                         &#x27;max_depth&#x27;: [3, 6, 10],\n",
              "                         &#x27;n_estimators&#x27;: [100, 200, 300]},\n",
              "             scoring=&#x27;neg_mean_squared_error&#x27;, verbose=3)</pre><b>In a Jupyter environment, please rerun this cell to show the HTML representation or trust the notebook. <br />On GitHub, the HTML representation is unable to render, please try loading this page with nbviewer.org.</b></div><div class=\"sk-container\" hidden><div class=\"sk-item sk-dashed-wrapped\"><div class=\"sk-label-container\"><div class=\"sk-label sk-toggleable\"><input class=\"sk-toggleable__control sk-hidden--visually\" id=\"sk-estimator-id-1\" type=\"checkbox\" ><label for=\"sk-estimator-id-1\" class=\"sk-toggleable__label sk-toggleable__label-arrow\">GridSearchCV</label><div class=\"sk-toggleable__content\"><pre>GridSearchCV(cv=2,\n",
              "             estimator=XGBRegressor(base_score=None, booster=None,\n",
              "                                    callbacks=None, colsample_bylevel=None,\n",
              "                                    colsample_bynode=None,\n",
              "                                    colsample_bytree=None, device=None,\n",
              "                                    early_stopping_rounds=None,\n",
              "                                    enable_categorical=False, eval_metric=None,\n",
              "                                    feature_types=None, gamma=None,\n",
              "                                    grow_policy=None, importance_type=None,\n",
              "                                    interaction_constraints=None,\n",
              "                                    learning_rate=None, m...\n",
              "                                    max_depth=None, max_leaves=None,\n",
              "                                    min_child_weight=None, missing=nan,\n",
              "                                    monotone_constraints=None,\n",
              "                                    multi_strategy=None, n_estimators=None,\n",
              "                                    n_jobs=None, num_parallel_tree=None,\n",
              "                                    random_state=None, ...),\n",
              "             n_jobs=-1,\n",
              "             param_grid={&#x27;alpha&#x27;: [1, 10, 100],\n",
              "                         &#x27;learning_rate&#x27;: [0.01, 0.1, 0.3],\n",
              "                         &#x27;max_depth&#x27;: [3, 6, 10],\n",
              "                         &#x27;n_estimators&#x27;: [100, 200, 300]},\n",
              "             scoring=&#x27;neg_mean_squared_error&#x27;, verbose=3)</pre></div></div></div><div class=\"sk-parallel\"><div class=\"sk-parallel-item\"><div class=\"sk-item\"><div class=\"sk-label-container\"><div class=\"sk-label sk-toggleable\"><input class=\"sk-toggleable__control sk-hidden--visually\" id=\"sk-estimator-id-2\" type=\"checkbox\" ><label for=\"sk-estimator-id-2\" class=\"sk-toggleable__label sk-toggleable__label-arrow\">estimator: XGBRegressor</label><div class=\"sk-toggleable__content\"><pre>XGBRegressor(base_score=None, booster=None, callbacks=None,\n",
              "             colsample_bylevel=None, colsample_bynode=None,\n",
              "             colsample_bytree=None, device=None, early_stopping_rounds=None,\n",
              "             enable_categorical=False, eval_metric=None, feature_types=None,\n",
              "             gamma=None, grow_policy=None, importance_type=None,\n",
              "             interaction_constraints=None, learning_rate=None, max_bin=None,\n",
              "             max_cat_threshold=None, max_cat_to_onehot=None,\n",
              "             max_delta_step=None, max_depth=None, max_leaves=None,\n",
              "             min_child_weight=None, missing=nan, monotone_constraints=None,\n",
              "             multi_strategy=None, n_estimators=None, n_jobs=None,\n",
              "             num_parallel_tree=None, random_state=None, ...)</pre></div></div></div><div class=\"sk-serial\"><div class=\"sk-item\"><div class=\"sk-estimator sk-toggleable\"><input class=\"sk-toggleable__control sk-hidden--visually\" id=\"sk-estimator-id-3\" type=\"checkbox\" ><label for=\"sk-estimator-id-3\" class=\"sk-toggleable__label sk-toggleable__label-arrow\">XGBRegressor</label><div class=\"sk-toggleable__content\"><pre>XGBRegressor(base_score=None, booster=None, callbacks=None,\n",
              "             colsample_bylevel=None, colsample_bynode=None,\n",
              "             colsample_bytree=None, device=None, early_stopping_rounds=None,\n",
              "             enable_categorical=False, eval_metric=None, feature_types=None,\n",
              "             gamma=None, grow_policy=None, importance_type=None,\n",
              "             interaction_constraints=None, learning_rate=None, max_bin=None,\n",
              "             max_cat_threshold=None, max_cat_to_onehot=None,\n",
              "             max_delta_step=None, max_depth=None, max_leaves=None,\n",
              "             min_child_weight=None, missing=nan, monotone_constraints=None,\n",
              "             multi_strategy=None, n_estimators=None, n_jobs=None,\n",
              "             num_parallel_tree=None, random_state=None, ...)</pre></div></div></div></div></div></div></div></div></div></div>"
            ]
          },
          "metadata": {},
          "execution_count": 21
        }
      ]
    },
    {
      "cell_type": "markdown",
      "source": [
        "De acordo com o método de GridSearch, o modelo com os melhores resultados, dentro dos critérios analisados, possui os parâmetros definidos abaixo."
      ],
      "metadata": {
        "id": "vsz6KJb2la2g"
      }
    },
    {
      "cell_type": "code",
      "source": [
        "print(f\"Melhores Parâmetros: {grid_search.best_params_}\")"
      ],
      "metadata": {
        "colab": {
          "base_uri": "https://localhost:8080/"
        },
        "id": "sPrmVUMIB2xx",
        "outputId": "c27d7483-9e71-4efb-e483-49b8c483f499"
      },
      "execution_count": 22,
      "outputs": [
        {
          "output_type": "stream",
          "name": "stdout",
          "text": [
            "Melhores Parâmetros: {'alpha': 1, 'learning_rate': 0.1, 'max_depth': 6, 'n_estimators': 200}\n"
          ]
        }
      ]
    },
    {
      "cell_type": "code",
      "source": [
        "# Reajustando o modelo com os melhores parâmetros\n",
        "best_model = grid_search.best_estimator_"
      ],
      "metadata": {
        "id": "8yHcO7zNPo57"
      },
      "execution_count": 23,
      "outputs": []
    },
    {
      "cell_type": "code",
      "source": [
        "# Realizando predições\n",
        "best_predictions = best_model.predict(X_test)"
      ],
      "metadata": {
        "id": "Pps3xLAVPuN0"
      },
      "execution_count": 24,
      "outputs": []
    },
    {
      "cell_type": "markdown",
      "source": [
        "## Valores Reais x Valores Estimados - Base de Validação/Teste"
      ],
      "metadata": {
        "id": "wQL4_D_iQFi1"
      }
    },
    {
      "cell_type": "markdown",
      "source": [
        "Por fim, chegou o momento de avaliar o modelo no conjunto de teste. Os resultados obtidos aqui não são diretamente comparáveis com os resultados obtidos no modelo anterior, visto que, utilizei somente 70% da base de dados total para realizar o treinamento do modelo e estou avaliando sua performance em apenas 30% dos dados."
      ],
      "metadata": {
        "id": "txwGc4quljhn"
      }
    },
    {
      "cell_type": "code",
      "source": [
        "clean_df = dataset.copy()\n",
        "clean_df[quanti_features] = scaler.inverse_transform(dataset[quanti_features])\n",
        "\n",
        "comparison_df = pd.DataFrame()\n",
        "comparison_df[\"true_values\"] = y_test.values * clean_df[TARGET].std() + clean_df[TARGET].mean()\n",
        "comparison_df[\"fitted_values\"] = best_predictions * clean_df[TARGET].std() + clean_df[TARGET].mean()"
      ],
      "metadata": {
        "id": "UPttCDkTQFBZ"
      },
      "execution_count": 26,
      "outputs": []
    },
    {
      "cell_type": "markdown",
      "source": [
        "## Métricas de Erro"
      ],
      "metadata": {
        "id": "OhiNncJxmCh0"
      }
    },
    {
      "cell_type": "code",
      "source": [
        "print(f'MSE: {mse(comparison_df[\"true_values\"], comparison_df[\"fitted_values\"])}')\n",
        "print(f'MAE: {mae(comparison_df[\"true_values\"], comparison_df[\"fitted_values\"])}')"
      ],
      "metadata": {
        "colab": {
          "base_uri": "https://localhost:8080/"
        },
        "id": "zSny60FUPxIu",
        "outputId": "5019b0bb-fe23-45a0-c843-0d730782aa6d"
      },
      "execution_count": 27,
      "outputs": [
        {
          "output_type": "stream",
          "name": "stdout",
          "text": [
            "MSE: 112326289.8439899\n",
            "MAE: 774.2348513437599\n"
          ]
        }
      ]
    },
    {
      "cell_type": "markdown",
      "source": [
        "Embora não seja possível comparar de forma direta os dois modelos estimados nessa análise, é perceptível que o desempenho do modelo \"tunado\", quando comparado com o modelo inicial, apresenta piores resultados em termos de métricas de erro.\n",
        "\n",
        "No entanto, tal modelo pode ser mais confiável para realizar extrapolações, ou seja, dados que se distanciam, respeitando um certo limite, dos valores analisados na base de dados original."
      ],
      "metadata": {
        "id": "X5OnAuxJl1c7"
      }
    },
    {
      "cell_type": "markdown",
      "source": [
        "## Feature Importance"
      ],
      "metadata": {
        "id": "VfjMzMBgmEtS"
      }
    },
    {
      "cell_type": "code",
      "source": [
        "feature_importances = best_model.feature_importances_\n",
        "\n",
        "features_df = pd.DataFrame({\n",
        "    'Feature': X_train.columns,\n",
        "    'Importance': feature_importances\n",
        "})\n",
        "\n",
        "features_df = features_df.sort_values(by='Importance', ascending=False)"
      ],
      "metadata": {
        "id": "g6nTGMeVRRzV"
      },
      "execution_count": 28,
      "outputs": []
    },
    {
      "cell_type": "code",
      "source": [
        "plt.figure(figsize=(12, 4))\n",
        "plt.barh(features_df['Feature'].iloc[:20], features_df['Importance'].iloc[:20])\n",
        "plt.gca().invert_yaxis()\n",
        "plt.xlabel('Importance')\n",
        "plt.title('Top 20 Feature Importances')\n",
        "plt.show()"
      ],
      "metadata": {
        "colab": {
          "base_uri": "https://localhost:8080/",
          "height": 410
        },
        "id": "N_zF9bLfRoBJ",
        "outputId": "ec662536-1bd2-4cdd-af44-cf6be75fd0b0"
      },
      "execution_count": 30,
      "outputs": [
        {
          "output_type": "display_data",
          "data": {
            "text/plain": [
              "<Figure size 1200x400 with 1 Axes>"
            ],
            "image/png": "[encoded data removed]"
          },
          "metadata": {}
        }
      ]
    },
    {
      "cell_type": "markdown",
      "source": [
        "Diferente do modelo anterior, agora a variável `VL_RECEITA_BRUTA` tomou o primeiro lugar de nível de importância. Além disso, é possível observar que diversas variáveis relacionadas com períodos definidos pelo Marketing, como por exemplo, `COD_CICLO_202013` também apresentam um valor considerável de importância na explicação do comportamento da variável TARGET.\n",
        "\n",
        "Lembrando que, essa análise foi realizada utilizando apenas 70% dos dados disponíveis."
      ],
      "metadata": {
        "id": "6BZbUaNTmGml"
      }
    },
    {
      "cell_type": "markdown",
      "source": [
        "## Avaliando o Modelo Utilizando Todos os Dados\n",
        "Por fim, apenas para fins comparativos com o modelo inicial, treinarei o modelo com os parâmetros \"tunados\" utilizando toda a base de dados disponível."
      ],
      "metadata": {
        "id": "nMJwNdHjmjbe"
      }
    },
    {
      "cell_type": "code",
      "source": [
        "xgb_model = xgb.XGBRegressor(\n",
        "    objective='reg:squarederror',\n",
        "    alpha=1,\n",
        "    learning_rate=0.1,\n",
        "    max_depth=6,\n",
        "    n_estimators=200)"
      ],
      "metadata": {
        "id": "SY9WeqnLmqA1"
      },
      "execution_count": 40,
      "outputs": []
    },
    {
      "cell_type": "code",
      "source": [
        "xgb_fitted = xgb_model.fit(dataset[features], dataset[TARGET])"
      ],
      "metadata": {
        "id": "JbuGv9JPm4ed"
      },
      "execution_count": 41,
      "outputs": []
    },
    {
      "cell_type": "code",
      "source": [
        "fitted_values_final = xgb_fitted.predict(dataset[features])"
      ],
      "metadata": {
        "id": "DUKjtwhUnVpc"
      },
      "execution_count": 42,
      "outputs": []
    },
    {
      "cell_type": "code",
      "source": [
        "clean_df = dataset.copy()\n",
        "clean_df[quanti_features] = scaler.inverse_transform(dataset[quanti_features])\n",
        "clean_df[\"fitted_values\"] = fitted_values_final * clean_df[TARGET].std() + clean_df[TARGET].mean()"
      ],
      "metadata": {
        "id": "_GjjGbUYnolR"
      },
      "execution_count": 43,
      "outputs": []
    },
    {
      "cell_type": "code",
      "source": [
        "comparison_df = pd.DataFrame(data=[clean_df[TARGET].values, clean_df[\"fitted_values\"]]).T\n",
        "comparison_df.columns = [\"true_values\", \"fitted_values\"]"
      ],
      "metadata": {
        "id": "UjkVtfptnolZ"
      },
      "execution_count": 44,
      "outputs": []
    },
    {
      "cell_type": "markdown",
      "source": [
        "## Métricas de Erro"
      ],
      "metadata": {
        "id": "SmNwU3BwnzKm"
      }
    },
    {
      "cell_type": "code",
      "source": [
        "print(f'MSE: {mse(comparison_df[\"true_values\"], comparison_df[\"fitted_values\"])}')\n",
        "print(f'MAE: {mae(comparison_df[\"true_values\"], comparison_df[\"fitted_values\"])}')"
      ],
      "metadata": {
        "colab": {
          "base_uri": "https://localhost:8080/"
        },
        "outputId": "ea3899dd-e5d8-4cdc-a242-494d5a613723",
        "id": "5o2ceBslnzKv"
      },
      "execution_count": 45,
      "outputs": [
        {
          "output_type": "stream",
          "name": "stdout",
          "text": [
            "MSE: 24050192.16876017\n",
            "MAE: 530.4701784396418\n"
          ]
        }
      ]
    },
    {
      "cell_type": "markdown",
      "source": [
        "Agora, é possível compararmos de forma direta as métricas de erro entre os dois modelos estimados nessa análise. Tendo isso em vista, o modelo estimado utilizando GridSearch para \"tunar\" os parâmetros apresentou o melhor o resultado e, portanto, é o mais adequado para realizar predições no conjunto de dados em questão."
      ],
      "metadata": {
        "id": "q6l5Ct_5oCbx"
      }
    },
    {
      "cell_type": "markdown",
      "source": [
        "## Feature Importances"
      ],
      "metadata": {
        "id": "lwi1cCZMoAMh"
      }
    },
    {
      "cell_type": "code",
      "source": [
        "feature_importances = xgb_fitted.feature_importances_\n",
        "\n",
        "features_df = pd.DataFrame({\n",
        "    'Feature': dataset[features].columns,\n",
        "    'Importance': feature_importances\n",
        "})\n",
        "\n",
        "features_df = features_df.sort_values(by='Importance', ascending=False)"
      ],
      "metadata": {
        "id": "IbwS9ISCn5Nx"
      },
      "execution_count": 46,
      "outputs": []
    },
    {
      "cell_type": "code",
      "source": [
        "plt.figure(figsize=(12, 4))\n",
        "plt.barh(features_df['Feature'].iloc[:20], features_df['Importance'].iloc[:20])\n",
        "plt.gca().invert_yaxis()\n",
        "plt.xlabel('Importance')\n",
        "plt.title('Top 20 Feature Importances')\n",
        "plt.show()"
      ],
      "metadata": {
        "colab": {
          "base_uri": "https://localhost:8080/",
          "height": 410
        },
        "outputId": "c825fa34-f578-410d-a8dd-db90be92b312",
        "id": "ttM0Ea2Nn5Nx"
      },
      "execution_count": 47,
      "outputs": [
        {
          "output_type": "display_data",
          "data": {
            "text/plain": [
              "<Figure size 1200x400 with 1 Axes>"
            ],
            "image/png": "[encoded data removed]"
          },
          "metadata": {}
        }
      ]
    },
    {
      "cell_type": "markdown",
      "source": [
        "Devido a utilização de mais dados durante o treinamento, a ordem de importância de algumas variáveis foi alterada. No entanto, as duas variáveis mais influentes são justamente aquelas que possuem maior correlação com a variável TARGET, `VL_RECEITA_BRUTA` e `VL_RECEITA_LIQUIDA`.\n",
        "\n",
        "Além disso, produtos que possuem a marca de material `anon_S28` também apresentam certa importância na explicação da variável dependente (`QT_VENDAS_BRUTO`)."
      ],
      "metadata": {
        "id": "YRzrFT1eonRE"
      }
    },
    {
      "cell_type": "markdown",
      "source": [
        "# Analisando os Erros do Modelo"
      ],
      "metadata": {
        "id": "Z5zqNe7cvFJ4"
      }
    },
    {
      "cell_type": "code",
      "source": [
        "error_evaluation_df = comparison_df.copy()\n",
        "error_evaluation_df[\"absolute_error\"] = abs(error_evaluation_df[\"true_values\"] - error_evaluation_df[\"fitted_values\"])\n",
        "error_evaluation_df[\"squared_error\"] = (error_evaluation_df[\"true_values\"] - error_evaluation_df[\"fitted_values\"])**2"
      ],
      "metadata": {
        "id": "oUCd1sD6vEdJ"
      },
      "execution_count": 49,
      "outputs": []
    },
    {
      "cell_type": "code",
      "source": [
        "# Top 20 Maiores Erros Absolutos\n",
        "pd.set_option('display.float_format', lambda x: '%.5f' % x)\n",
        "error_evaluation_df.sort_values(\"absolute_error\", ascending=False).head(20)"
      ],
      "metadata": {
        "colab": {
          "base_uri": "https://localhost:8080/",
          "height": 677
        },
        "id": "Q4lK0sKZvdOs",
        "outputId": "749af903-9e61-4637-9e10-eac5e16ff965"
      },
      "execution_count": 55,
      "outputs": [
        {
          "output_type": "execute_result",
          "data": {
            "text/plain": [
              "         true_values  fitted_values  absolute_error      squared_error\n",
              "104024 1101456.00000   698484.62500    402971.37500 162385929069.39062\n",
              "133525  803700.00000   448911.96875    354788.03125 125874547118.25098\n",
              "137451 1059516.00000   725506.25000    334009.75000 111562513095.06250\n",
              "63080  1744584.00000  1413441.87500    331142.12500 109655106949.51562\n",
              "128030  827928.00000   530985.93750    296942.06250  88174588481.75391\n",
              "147818 1250064.00000   953841.56250    296222.43750  87747732478.44141\n",
              "58825   789972.00000   516133.71875    273838.28125  74987404277.95410\n",
              "99542   531336.00000   783489.06250    252153.06250  63581166928.12891\n",
              "156667 1591062.00000  1339472.62500    251589.37500  63297213612.89062\n",
              "105491  841338.00000   604406.93750    236931.06250  56136328377.37891\n",
              "69338   581322.00000   349715.15625    231606.84375  53641730071.83691\n",
              "117844 1744098.00000  1514350.12500    229747.87500  52784086067.01573\n",
              "160959 1529094.00000  1301623.25000    227470.75000  51742942105.56250\n",
              "142819  591054.00000   367357.90625    223696.09375  50039942359.00879\n",
              "83968   612480.00000   390924.28125    221555.71875  49086936510.82910\n",
              "83018  1865862.00000  1645072.75000    220789.25000  48747892915.56250\n",
              "8198   1312890.00000  1096557.50000    216332.50000  46799750556.25000\n",
              "68943   659454.00000   448142.75000    211311.25000  44652444376.56250\n",
              "83294   936690.00000   729913.06250    206776.93750  42756701881.87891\n",
              "158758  848880.00000   645845.68750    203034.31250  41222932052.34766"
            ],
            "text/html": [
              "\n",
              "  <div id=\"df-d335d7b3-4887-47b4-af25-490887bca8d0\" class=\"colab-df-container\">\n",
              "    <div>\n",
              "<style scoped>\n",
              "    .dataframe tbody tr th:only-of-type {\n",
              "        vertical-align: middle;\n",
              "    }\n",
              "\n",
              "    .dataframe tbody tr th {\n",
              "        vertical-align: top;\n",
              "    }\n",
              "\n",
              "    .dataframe thead th {\n",
              "        text-align: right;\n",
              "    }\n",
              "</style>\n",
              "<table border=\"1\" class=\"dataframe\">\n",
              "  <thead>\n",
              "    <tr style=\"text-align: right;\">\n",
              "      <th></th>\n",
              "      <th>true_values</th>\n",
              "      <th>fitted_values</th>\n",
              "      <th>absolute_error</th>\n",
              "      <th>squared_error</th>\n",
              "    </tr>\n",
              "  </thead>\n",
              "  <tbody>\n",
              "    <tr>\n",
              "      <th>104024</th>\n",
              "      <td>1101456.00000</td>\n",
              "      <td>698484.62500</td>\n",
              "      <td>402971.37500</td>\n",
              "      <td>162385929069.39062</td>\n",
              "    </tr>\n",
              "    <tr>\n",
              "      <th>133525</th>\n",
              "      <td>803700.00000</td>\n",
              "      <td>448911.96875</td>\n",
              "      <td>354788.03125</td>\n",
              "      <td>125874547118.25098</td>\n",
              "    </tr>\n",
              "    <tr>\n",
              "      <th>137451</th>\n",
              "      <td>1059516.00000</td>\n",
              "      <td>725506.25000</td>\n",
              "      <td>334009.75000</td>\n",
              "      <td>111562513095.06250</td>\n",
              "    </tr>\n",
              "    <tr>\n",
              "      <th>63080</th>\n",
              "      <td>1744584.00000</td>\n",
              "      <td>1413441.87500</td>\n",
              "      <td>331142.12500</td>\n",
              "      <td>109655106949.51562</td>\n",
              "    </tr>\n",
              "    <tr>\n",
              "      <th>128030</th>\n",
              "      <td>827928.00000</td>\n",
              "      <td>530985.93750</td>\n",
              "      <td>296942.06250</td>\n",
              "      <td>88174588481.75391</td>\n",
              "    </tr>\n",
              "    <tr>\n",
              "      <th>147818</th>\n",
              "      <td>1250064.00000</td>\n",
              "      <td>953841.56250</td>\n",
              "      <td>296222.43750</td>\n",
              "      <td>87747732478.44141</td>\n",
              "    </tr>\n",
              "    <tr>\n",
              "      <th>58825</th>\n",
              "      <td>789972.00000</td>\n",
              "      <td>516133.71875</td>\n",
              "      <td>273838.28125</td>\n",
              "      <td>74987404277.95410</td>\n",
              "    </tr>\n",
              "    <tr>\n",
              "      <th>99542</th>\n",
              "      <td>531336.00000</td>\n",
              "      <td>783489.06250</td>\n",
              "      <td>252153.06250</td>\n",
              "      <td>63581166928.12891</td>\n",
              "    </tr>\n",
              "    <tr>\n",
              "      <th>156667</th>\n",
              "      <td>1591062.00000</td>\n",
              "      <td>1339472.62500</td>\n",
              "      <td>251589.37500</td>\n",
              "      <td>63297213612.89062</td>\n",
              "    </tr>\n",
              "    <tr>\n",
              "      <th>105491</th>\n",
              "      <td>841338.00000</td>\n",
              "      <td>604406.93750</td>\n",
              "      <td>236931.06250</td>\n",
              "      <td>56136328377.37891</td>\n",
              "    </tr>\n",
              "    <tr>\n",
              "      <th>69338</th>\n",
              "      <td>581322.00000</td>\n",
              "      <td>349715.15625</td>\n",
              "      <td>231606.84375</td>\n",
              "      <td>53641730071.83691</td>\n",
              "    </tr>\n",
              "    <tr>\n",
              "      <th>117844</th>\n",
              "      <td>1744098.00000</td>\n",
              "      <td>1514350.12500</td>\n",
              "      <td>229747.87500</td>\n",
              "      <td>52784086067.01573</td>\n",
              "    </tr>\n",
              "    <tr>\n",
              "      <th>160959</th>\n",
              "      <td>1529094.00000</td>\n",
              "      <td>1301623.25000</td>\n",
              "      <td>227470.75000</td>\n",
              "      <td>51742942105.56250</td>\n",
              "    </tr>\n",
              "    <tr>\n",
              "      <th>142819</th>\n",
              "      <td>591054.00000</td>\n",
              "      <td>367357.90625</td>\n",
              "      <td>223696.09375</td>\n",
              "      <td>50039942359.00879</td>\n",
              "    </tr>\n",
              "    <tr>\n",
              "      <th>83968</th>\n",
              "      <td>612480.00000</td>\n",
              "      <td>390924.28125</td>\n",
              "      <td>221555.71875</td>\n",
              "      <td>49086936510.82910</td>\n",
              "    </tr>\n",
              "    <tr>\n",
              "      <th>83018</th>\n",
              "      <td>1865862.00000</td>\n",
              "      <td>1645072.75000</td>\n",
              "      <td>220789.25000</td>\n",
              "      <td>48747892915.56250</td>\n",
              "    </tr>\n",
              "    <tr>\n",
              "      <th>8198</th>\n",
              "      <td>1312890.00000</td>\n",
              "      <td>1096557.50000</td>\n",
              "      <td>216332.50000</td>\n",
              "      <td>46799750556.25000</td>\n",
              "    </tr>\n",
              "    <tr>\n",
              "      <th>68943</th>\n",
              "      <td>659454.00000</td>\n",
              "      <td>448142.75000</td>\n",
              "      <td>211311.25000</td>\n",
              "      <td>44652444376.56250</td>\n",
              "    </tr>\n",
              "    <tr>\n",
              "      <th>83294</th>\n",
              "      <td>936690.00000</td>\n",
              "      <td>729913.06250</td>\n",
              "      <td>206776.93750</td>\n",
              "      <td>42756701881.87891</td>\n",
              "    </tr>\n",
              "    <tr>\n",
              "      <th>158758</th>\n",
              "      <td>848880.00000</td>\n",
              "      <td>645845.68750</td>\n",
              "      <td>203034.31250</td>\n",
              "      <td>41222932052.34766</td>\n",
              "    </tr>\n",
              "  </tbody>\n",
              "</table>\n",
              "</div>\n",
              "    <div class=\"colab-df-buttons\">\n",
              "\n",
              "  <div class=\"colab-df-container\">\n",
              "    <button class=\"colab-df-convert\" onclick=\"convertToInteractive('df-d335d7b3-4887-47b4-af25-490887bca8d0')\"\n",
              "            title=\"Convert this dataframe to an interactive table.\"\n",
              "            style=\"display:none;\">\n",
              "\n",
              "  <svg xmlns=\"http://www.w3.org/2000/svg\" height=\"24px\" viewBox=\"0 -960 960 960\">\n",
              "    <path d=\"M120-120v-720h720v720H120Zm60-500h600v-160H180v160Zm220 220h160v-160H400v160Zm0 220h160v-160H400v160ZM180-400h160v-160H180v160Zm440 0h160v-160H620v160ZM180-180h160v-160H180v160Zm440 0h160v-160H620v160Z\"/>\n",
              "  </svg>\n",
              "    </button>\n",
              "\n",
              "  <style>\n",
              "    .colab-df-container {\n",
              "      display:flex;\n",
              "      gap: 12px;\n",
              "    }\n",
              "\n",
              "    .colab-df-convert {\n",
              "      background-color: #E8F0FE;\n",
              "      border: none;\n",
              "      border-radius: 50%;\n",
              "      cursor: pointer;\n",
              "      display: none;\n",
              "      fill: #1967D2;\n",
              "      height: 32px;\n",
              "      padding: 0 0 0 0;\n",
              "      width: 32px;\n",
              "    }\n",
              "\n",
              "    .colab-df-convert:hover {\n",
              "      background-color: #E2EBFA;\n",
              "      box-shadow: 0px 1px 2px rgba(60, 64, 67, 0.3), 0px 1px 3px 1px rgba(60, 64, 67, 0.15);\n",
              "      fill: #174EA6;\n",
              "    }\n",
              "\n",
              "    .colab-df-buttons div {\n",
              "      margin-bottom: 4px;\n",
              "    }\n",
              "\n",
              "    [theme=dark] .colab-df-convert {\n",
              "      background-color: #3B4455;\n",
              "      fill: #D2E3FC;\n",
              "    }\n",
              "\n",
              "    [theme=dark] .colab-df-convert:hover {\n",
              "      background-color: #434B5C;\n",
              "      box-shadow: 0px 1px 3px 1px rgba(0, 0, 0, 0.15);\n",
              "      filter: drop-shadow(0px 1px 2px rgba(0, 0, 0, 0.3));\n",
              "      fill: #FFFFFF;\n",
              "    }\n",
              "  </style>\n",
              "\n",
              "    <script>\n",
              "      const buttonEl =\n",
              "        document.querySelector('#df-d335d7b3-4887-47b4-af25-490887bca8d0 button.colab-df-convert');\n",
              "      buttonEl.style.display =\n",
              "        google.colab.kernel.accessAllowed ? 'block' : 'none';\n",
              "\n",
              "      async function convertToInteractive(key) {\n",
              "        const element = document.querySelector('#df-d335d7b3-4887-47b4-af25-490887bca8d0');\n",
              "        const dataTable =\n",
              "          await google.colab.kernel.invokeFunction('convertToInteractive',\n",
              "                                                    [key], {});\n",
              "        if (!dataTable) return;\n",
              "\n",
              "        const docLinkHtml = 'Like what you see? Visit the ' +\n",
              "          '<a target=\"_blank\" href=https://colab.research.google.com/notebooks/data_table.ipynb>data table notebook</a>'\n",
              "          + ' to learn more about interactive tables.';\n",
              "        element.innerHTML = '';\n",
              "        dataTable['output_type'] = 'display_data';\n",
              "        await google.colab.output.renderOutput(dataTable, element);\n",
              "        const docLink = document.createElement('div');\n",
              "        docLink.innerHTML = docLinkHtml;\n",
              "        element.appendChild(docLink);\n",
              "      }\n",
              "    </script>\n",
              "  </div>\n",
              "\n",
              "\n",
              "<div id=\"df-f9bf17f5-c988-44a4-872c-2e83f63f94fc\">\n",
              "  <button class=\"colab-df-quickchart\" onclick=\"quickchart('df-f9bf17f5-c988-44a4-872c-2e83f63f94fc')\"\n",
              "            title=\"Suggest charts\"\n",
              "            style=\"display:none;\">\n",
              "\n",
              "<svg xmlns=\"http://www.w3.org/2000/svg\" height=\"24px\"viewBox=\"0 0 24 24\"\n",
              "     width=\"24px\">\n",
              "    <g>\n",
              "        <path d=\"M19 3H5c-1.1 0-2 .9-2 2v14c0 1.1.9 2 2 2h14c1.1 0 2-.9 2-2V5c0-1.1-.9-2-2-2zM9 17H7v-7h2v7zm4 0h-2V7h2v10zm4 0h-2v-4h2v4z\"/>\n",
              "    </g>\n",
              "</svg>\n",
              "  </button>\n",
              "\n",
              "<style>\n",
              "  .colab-df-quickchart {\n",
              "      --bg-color: #E8F0FE;\n",
              "      --fill-color: #1967D2;\n",
              "      --hover-bg-color: #E2EBFA;\n",
              "      --hover-fill-color: #174EA6;\n",
              "      --disabled-fill-color: #AAA;\n",
              "      --disabled-bg-color: #DDD;\n",
              "  }\n",
              "\n",
              "  [theme=dark] .colab-df-quickchart {\n",
              "      --bg-color: #3B4455;\n",
              "      --fill-color: #D2E3FC;\n",
              "      --hover-bg-color: #434B5C;\n",
              "      --hover-fill-color: #FFFFFF;\n",
              "      --disabled-bg-color: #3B4455;\n",
              "      --disabled-fill-color: #666;\n",
              "  }\n",
              "\n",
              "  .colab-df-quickchart {\n",
              "    background-color: var(--bg-color);\n",
              "    border: none;\n",
              "    border-radius: 50%;\n",
              "    cursor: pointer;\n",
              "    display: none;\n",
              "    fill: var(--fill-color);\n",
              "    height: 32px;\n",
              "    padding: 0;\n",
              "    width: 32px;\n",
              "  }\n",
              "\n",
              "  .colab-df-quickchart:hover {\n",
              "    background-color: var(--hover-bg-color);\n",
              "    box-shadow: 0 1px 2px rgba(60, 64, 67, 0.3), 0 1px 3px 1px rgba(60, 64, 67, 0.15);\n",
              "    fill: var(--button-hover-fill-color);\n",
              "  }\n",
              "\n",
              "  .colab-df-quickchart-complete:disabled,\n",
              "  .colab-df-quickchart-complete:disabled:hover {\n",
              "    background-color: var(--disabled-bg-color);\n",
              "    fill: var(--disabled-fill-color);\n",
              "    box-shadow: none;\n",
              "  }\n",
              "\n",
              "  .colab-df-spinner {\n",
              "    border: 2px solid var(--fill-color);\n",
              "    border-color: transparent;\n",
              "    border-bottom-color: var(--fill-color);\n",
              "    animation:\n",
              "      spin 1s steps(1) infinite;\n",
              "  }\n",
              "\n",
              "  @keyframes spin {\n",
              "    0% {\n",
              "      border-color: transparent;\n",
              "      border-bottom-color: var(--fill-color);\n",
              "      border-left-color: var(--fill-color);\n",
              "    }\n",
              "    20% {\n",
              "      border-color: transparent;\n",
              "      border-left-color: var(--fill-color);\n",
              "      border-top-color: var(--fill-color);\n",
              "    }\n",
              "    30% {\n",
              "      border-color: transparent;\n",
              "      border-left-color: var(--fill-color);\n",
              "      border-top-color: var(--fill-color);\n",
              "      border-right-color: var(--fill-color);\n",
              "    }\n",
              "    40% {\n",
              "      border-color: transparent;\n",
              "      border-right-color: var(--fill-color);\n",
              "      border-top-color: var(--fill-color);\n",
              "    }\n",
              "    60% {\n",
              "      border-color: transparent;\n",
              "      border-right-color: var(--fill-color);\n",
              "    }\n",
              "    80% {\n",
              "      border-color: transparent;\n",
              "      border-right-color: var(--fill-color);\n",
              "      border-bottom-color: var(--fill-color);\n",
              "    }\n",
              "    90% {\n",
              "      border-color: transparent;\n",
              "      border-bottom-color: var(--fill-color);\n",
              "    }\n",
              "  }\n",
              "</style>\n",
              "\n",
              "  <script>\n",
              "    async function quickchart(key) {\n",
              "      const quickchartButtonEl =\n",
              "        document.querySelector('#' + key + ' button');\n",
              "      quickchartButtonEl.disabled = true;  // To prevent multiple clicks.\n",
              "      quickchartButtonEl.classList.add('colab-df-spinner');\n",
              "      try {\n",
              "        const charts = await google.colab.kernel.invokeFunction(\n",
              "            'suggestCharts', [key], {});\n",
              "      } catch (error) {\n",
              "        console.error('Error during call to suggestCharts:', error);\n",
              "      }\n",
              "      quickchartButtonEl.classList.remove('colab-df-spinner');\n",
              "      quickchartButtonEl.classList.add('colab-df-quickchart-complete');\n",
              "    }\n",
              "    (() => {\n",
              "      let quickchartButtonEl =\n",
              "        document.querySelector('#df-f9bf17f5-c988-44a4-872c-2e83f63f94fc button');\n",
              "      quickchartButtonEl.style.display =\n",
              "        google.colab.kernel.accessAllowed ? 'block' : 'none';\n",
              "    })();\n",
              "  </script>\n",
              "</div>\n",
              "\n",
              "    </div>\n",
              "  </div>\n"
            ],
            "application/vnd.google.colaboratory.intrinsic+json": {
              "type": "dataframe",
              "summary": "{\n  \"name\": \"error_evaluation_df\",\n  \"rows\": 20,\n  \"fields\": [\n    {\n      \"column\": \"true_values\",\n      \"properties\": {\n        \"dtype\": \"number\",\n        \"std\": 434026.29310822074,\n        \"min\": 531336.0,\n        \"max\": 1865862.0,\n        \"num_unique_values\": 20,\n        \"samples\": [\n          1101456.0,\n          659454.0,\n          1865862.0\n        ],\n        \"semantic_type\": \"\",\n        \"description\": \"\"\n      }\n    },\n    {\n      \"column\": \"fitted_values\",\n      \"properties\": {\n        \"dtype\": \"number\",\n        \"std\": 415658.5544793643,\n        \"min\": 349715.15625,\n        \"max\": 1645072.75,\n        \"num_unique_values\": 20,\n        \"samples\": [\n          698484.625,\n          448142.75,\n          1645072.75\n        ],\n        \"semantic_type\": \"\",\n        \"description\": \"\"\n      }\n    },\n    {\n      \"column\": \"absolute_error\",\n      \"properties\": {\n        \"dtype\": \"number\",\n        \"std\": 56633.13109126129,\n        \"min\": 203034.3125,\n        \"max\": 402971.375,\n        \"num_unique_values\": 20,\n        \"samples\": [\n          402971.375,\n          211311.25,\n          220789.25\n        ],\n        \"semantic_type\": \"\",\n        \"description\": \"\"\n      }\n    },\n    {\n      \"column\": \"squared_error\",\n      \"properties\": {\n        \"dtype\": \"number\",\n        \"std\": 33095103456.469536,\n        \"min\": 41222932052.34766,\n        \"max\": 162385929069.39062,\n        \"num_unique_values\": 20,\n        \"samples\": [\n          162385929069.39062,\n          44652444376.5625,\n          48747892915.5625\n        ],\n        \"semantic_type\": \"\",\n        \"description\": \"\"\n      }\n    }\n  ]\n}"
            }
          },
          "metadata": {},
          "execution_count": 55
        }
      ]
    },
    {
      "cell_type": "markdown",
      "source": [
        "Devido à escala dos dados, o valor médio das métricas de erro é altamente influenciado por valores muito elevados. Sendo assim, não é possível afirmar que o modelo não entrega resultados satisfatórios por apresentar um erro elevado, ainda mais quando o valor do MSE é analisado.\n",
        "\n",
        "Tendo isso em vista, acredito que seja mais interessante analisar o erro percentual absoluto médio (`MAPE`) em conjunto com o `MAE`, visando obter uma análise métrica mais precisa."
      ],
      "metadata": {
        "id": "Ugal0Z2uwDbC"
      }
    },
    {
      "cell_type": "markdown",
      "source": [
        "## Interpretando o Erro Percentual Absoluto Médio (MAPE)"
      ],
      "metadata": {
        "id": "unvXQ0aux2F2"
      }
    },
    {
      "cell_type": "code",
      "source": [
        "print(f'MAPE: {mape(comparison_df[\"true_values\"], comparison_df[\"fitted_values\"])}')"
      ],
      "metadata": {
        "colab": {
          "base_uri": "https://localhost:8080/"
        },
        "id": "UNE0Ds1PwvN6",
        "outputId": "e93de991-6e75-47fa-d383-92c38bc8cab3"
      },
      "execution_count": 58,
      "outputs": [
        {
          "output_type": "stream",
          "name": "stdout",
          "text": [
            "MAPE: 0.06853759603225396\n"
          ]
        }
      ]
    },
    {
      "cell_type": "markdown",
      "source": [
        "O resultado acima indica um erro percentual relativamente baixo (6.85%), sugerindo que o modelo está performando bem na tarefa de predição de vendas. Um MAPE abaixo de 10% é geralmente considerado bom para muitos cenários de negócios, especialmente no _case_ em questão, onde há muitas variáveis influenciando os resultados."
      ],
      "metadata": {
        "id": "pa_FLoi9yCzW"
      }
    },
    {
      "cell_type": "markdown",
      "source": [
        "# Conclusão\n",
        "Tendo em vista tudo o que foi realizado e discutido nessa e análises prévias, o modelo mais adequado para a realização de previsão de vendas é o modelo XGBoost utilizando os parâmetros definidos através do GridSearch.\n",
        "\n",
        "No entanto, ainda existe espaço para melhorias, visando reduzir os valores das métricas de erro analisadas. Para isso, seria necessário realizar uma análise mais detalhada, investigando quais variáveis influenciaram de forma negativa a estimativa do modelo nos piores casos.\n",
        "\n",
        "Além disso, também pode ser interessante utilizar uma arquitetura de redes neurais, o que aumentaria consideravelmente o nível de complexidade do modelo estimado, mas possivelmente entregaria melhores resultados.\n",
        "\n",
        "De qualquer forma, quando analisada a métrica de erro MAPE, acredito que o modelo estimado entrega bons resultados para o problema de regressão proposto.\n",
        "\n",
        "Por fim, abaixo ilustro uma tabela comparando os modelos desenvolvidos até então."
      ],
      "metadata": {
        "id": "b40ShJb4oxr0"
      }
    },
    {
      "cell_type": "code",
      "source": [
        "comparison_table = pd.DataFrame(columns=[\"modelo\", \"MSE\", \"MAE\"])\n",
        "comparison_table[\"modelo\"] = [\"OLS Linear\", \"OLS Não-Linear\", \"XGBoost Sem-Tuning\", \"XGBoost Tunado\"]\n",
        "comparison_table[\"MAE\"] = [5069, \"4.05e+22,2\", 633.65, 530.47]\n",
        "comparison_table[\"MSE\"] = [159507782, \"2.84e+50\", 46235312, 24050192]"
      ],
      "metadata": {
        "id": "i6JVhlQhpsA5"
      },
      "execution_count": 64,
      "outputs": []
    },
    {
      "cell_type": "code",
      "source": [
        "comparison_table"
      ],
      "metadata": {
        "colab": {
          "base_uri": "https://localhost:8080/",
          "height": 175
        },
        "id": "dInhhbcEqYP_",
        "outputId": "bc9f4cc2-994d-4c25-cd65-fa4a4c6111e5"
      },
      "execution_count": 67,
      "outputs": [
        {
          "output_type": "execute_result",
          "data": {
            "text/plain": [
              "               modelo        MSE         MAE\n",
              "0          OLS Linear  159507782        5069\n",
              "1      OLS Não-Linear   2.84e+50  4.05e+22,2\n",
              "2  XGBoost Sem-Tuning   46235312   633.65000\n",
              "3      XGBoost Tunado   24050192   530.47000"
            ],
            "text/html": [
              "\n",
              "  <div id=\"df-fe46e011-6b85-46f3-b247-8b7515ca73ea\" class=\"colab-df-container\">\n",
              "    <div>\n",
              "<style scoped>\n",
              "    .dataframe tbody tr th:only-of-type {\n",
              "        vertical-align: middle;\n",
              "    }\n",
              "\n",
              "    .dataframe tbody tr th {\n",
              "        vertical-align: top;\n",
              "    }\n",
              "\n",
              "    .dataframe thead th {\n",
              "        text-align: right;\n",
              "    }\n",
              "</style>\n",
              "<table border=\"1\" class=\"dataframe\">\n",
              "  <thead>\n",
              "    <tr style=\"text-align: right;\">\n",
              "      <th></th>\n",
              "      <th>modelo</th>\n",
              "      <th>MSE</th>\n",
              "      <th>MAE</th>\n",
              "    </tr>\n",
              "  </thead>\n",
              "  <tbody>\n",
              "    <tr>\n",
              "      <th>0</th>\n",
              "      <td>OLS Linear</td>\n",
              "      <td>159507782</td>\n",
              "      <td>5069</td>\n",
              "    </tr>\n",
              "    <tr>\n",
              "      <th>1</th>\n",
              "      <td>OLS Não-Linear</td>\n",
              "      <td>2.84e+50</td>\n",
              "      <td>4.05e+22,2</td>\n",
              "    </tr>\n",
              "    <tr>\n",
              "      <th>2</th>\n",
              "      <td>XGBoost Sem-Tuning</td>\n",
              "      <td>46235312</td>\n",
              "      <td>633.65000</td>\n",
              "    </tr>\n",
              "    <tr>\n",
              "      <th>3</th>\n",
              "      <td>XGBoost Tunado</td>\n",
              "      <td>24050192</td>\n",
              "      <td>530.47000</td>\n",
              "    </tr>\n",
              "  </tbody>\n",
              "</table>\n",
              "</div>\n",
              "    <div class=\"colab-df-buttons\">\n",
              "\n",
              "  <div class=\"colab-df-container\">\n",
              "    <button class=\"colab-df-convert\" onclick=\"convertToInteractive('df-fe46e011-6b85-46f3-b247-8b7515ca73ea')\"\n",
              "            title=\"Convert this dataframe to an interactive table.\"\n",
              "            style=\"display:none;\">\n",
              "\n",
              "  <svg xmlns=\"http://www.w3.org/2000/svg\" height=\"24px\" viewBox=\"0 -960 960 960\">\n",
              "    <path d=\"M120-120v-720h720v720H120Zm60-500h600v-160H180v160Zm220 220h160v-160H400v160Zm0 220h160v-160H400v160ZM180-400h160v-160H180v160Zm440 0h160v-160H620v160ZM180-180h160v-160H180v160Zm440 0h160v-160H620v160Z\"/>\n",
              "  </svg>\n",
              "    </button>\n",
              "\n",
              "  <style>\n",
              "    .colab-df-container {\n",
              "      display:flex;\n",
              "      gap: 12px;\n",
              "    }\n",
              "\n",
              "    .colab-df-convert {\n",
              "      background-color: #E8F0FE;\n",
              "      border: none;\n",
              "      border-radius: 50%;\n",
              "      cursor: pointer;\n",
              "      display: none;\n",
              "      fill: #1967D2;\n",
              "      height: 32px;\n",
              "      padding: 0 0 0 0;\n",
              "      width: 32px;\n",
              "    }\n",
              "\n",
              "    .colab-df-convert:hover {\n",
              "      background-color: #E2EBFA;\n",
              "      box-shadow: 0px 1px 2px rgba(60, 64, 67, 0.3), 0px 1px 3px 1px rgba(60, 64, 67, 0.15);\n",
              "      fill: #174EA6;\n",
              "    }\n",
              "\n",
              "    .colab-df-buttons div {\n",
              "      margin-bottom: 4px;\n",
              "    }\n",
              "\n",
              "    [theme=dark] .colab-df-convert {\n",
              "      background-color: #3B4455;\n",
              "      fill: #D2E3FC;\n",
              "    }\n",
              "\n",
              "    [theme=dark] .colab-df-convert:hover {\n",
              "      background-color: #434B5C;\n",
              "      box-shadow: 0px 1px 3px 1px rgba(0, 0, 0, 0.15);\n",
              "      filter: drop-shadow(0px 1px 2px rgba(0, 0, 0, 0.3));\n",
              "      fill: #FFFFFF;\n",
              "    }\n",
              "  </style>\n",
              "\n",
              "    <script>\n",
              "      const buttonEl =\n",
              "        document.querySelector('#df-fe46e011-6b85-46f3-b247-8b7515ca73ea button.colab-df-convert');\n",
              "      buttonEl.style.display =\n",
              "        google.colab.kernel.accessAllowed ? 'block' : 'none';\n",
              "\n",
              "      async function convertToInteractive(key) {\n",
              "        const element = document.querySelector('#df-fe46e011-6b85-46f3-b247-8b7515ca73ea');\n",
              "        const dataTable =\n",
              "          await google.colab.kernel.invokeFunction('convertToInteractive',\n",
              "                                                    [key], {});\n",
              "        if (!dataTable) return;\n",
              "\n",
              "        const docLinkHtml = 'Like what you see? Visit the ' +\n",
              "          '<a target=\"_blank\" href=https://colab.research.google.com/notebooks/data_table.ipynb>data table notebook</a>'\n",
              "          + ' to learn more about interactive tables.';\n",
              "        element.innerHTML = '';\n",
              "        dataTable['output_type'] = 'display_data';\n",
              "        await google.colab.output.renderOutput(dataTable, element);\n",
              "        const docLink = document.createElement('div');\n",
              "        docLink.innerHTML = docLinkHtml;\n",
              "        element.appendChild(docLink);\n",
              "      }\n",
              "    </script>\n",
              "  </div>\n",
              "\n",
              "\n",
              "<div id=\"df-a3e035ec-8287-4c1a-a9d4-9826f3ea76a2\">\n",
              "  <button class=\"colab-df-quickchart\" onclick=\"quickchart('df-a3e035ec-8287-4c1a-a9d4-9826f3ea76a2')\"\n",
              "            title=\"Suggest charts\"\n",
              "            style=\"display:none;\">\n",
              "\n",
              "<svg xmlns=\"http://www.w3.org/2000/svg\" height=\"24px\"viewBox=\"0 0 24 24\"\n",
              "     width=\"24px\">\n",
              "    <g>\n",
              "        <path d=\"M19 3H5c-1.1 0-2 .9-2 2v14c0 1.1.9 2 2 2h14c1.1 0 2-.9 2-2V5c0-1.1-.9-2-2-2zM9 17H7v-7h2v7zm4 0h-2V7h2v10zm4 0h-2v-4h2v4z\"/>\n",
              "    </g>\n",
              "</svg>\n",
              "  </button>\n",
              "\n",
              "<style>\n",
              "  .colab-df-quickchart {\n",
              "      --bg-color: #E8F0FE;\n",
              "      --fill-color: #1967D2;\n",
              "      --hover-bg-color: #E2EBFA;\n",
              "      --hover-fill-color: #174EA6;\n",
              "      --disabled-fill-color: #AAA;\n",
              "      --disabled-bg-color: #DDD;\n",
              "  }\n",
              "\n",
              "  [theme=dark] .colab-df-quickchart {\n",
              "      --bg-color: #3B4455;\n",
              "      --fill-color: #D2E3FC;\n",
              "      --hover-bg-color: #434B5C;\n",
              "      --hover-fill-color: #FFFFFF;\n",
              "      --disabled-bg-color: #3B4455;\n",
              "      --disabled-fill-color: #666;\n",
              "  }\n",
              "\n",
              "  .colab-df-quickchart {\n",
              "    background-color: var(--bg-color);\n",
              "    border: none;\n",
              "    border-radius: 50%;\n",
              "    cursor: pointer;\n",
              "    display: none;\n",
              "    fill: var(--fill-color);\n",
              "    height: 32px;\n",
              "    padding: 0;\n",
              "    width: 32px;\n",
              "  }\n",
              "\n",
              "  .colab-df-quickchart:hover {\n",
              "    background-color: var(--hover-bg-color);\n",
              "    box-shadow: 0 1px 2px rgba(60, 64, 67, 0.3), 0 1px 3px 1px rgba(60, 64, 67, 0.15);\n",
              "    fill: var(--button-hover-fill-color);\n",
              "  }\n",
              "\n",
              "  .colab-df-quickchart-complete:disabled,\n",
              "  .colab-df-quickchart-complete:disabled:hover {\n",
              "    background-color: var(--disabled-bg-color);\n",
              "    fill: var(--disabled-fill-color);\n",
              "    box-shadow: none;\n",
              "  }\n",
              "\n",
              "  .colab-df-spinner {\n",
              "    border: 2px solid var(--fill-color);\n",
              "    border-color: transparent;\n",
              "    border-bottom-color: var(--fill-color);\n",
              "    animation:\n",
              "      spin 1s steps(1) infinite;\n",
              "  }\n",
              "\n",
              "  @keyframes spin {\n",
              "    0% {\n",
              "      border-color: transparent;\n",
              "      border-bottom-color: var(--fill-color);\n",
              "      border-left-color: var(--fill-color);\n",
              "    }\n",
              "    20% {\n",
              "      border-color: transparent;\n",
              "      border-left-color: var(--fill-color);\n",
              "      border-top-color: var(--fill-color);\n",
              "    }\n",
              "    30% {\n",
              "      border-color: transparent;\n",
              "      border-left-color: var(--fill-color);\n",
              "      border-top-color: var(--fill-color);\n",
              "      border-right-color: var(--fill-color);\n",
              "    }\n",
              "    40% {\n",
              "      border-color: transparent;\n",
              "      border-right-color: var(--fill-color);\n",
              "      border-top-color: var(--fill-color);\n",
              "    }\n",
              "    60% {\n",
              "      border-color: transparent;\n",
              "      border-right-color: var(--fill-color);\n",
              "    }\n",
              "    80% {\n",
              "      border-color: transparent;\n",
              "      border-right-color: var(--fill-color);\n",
              "      border-bottom-color: var(--fill-color);\n",
              "    }\n",
              "    90% {\n",
              "      border-color: transparent;\n",
              "      border-bottom-color: var(--fill-color);\n",
              "    }\n",
              "  }\n",
              "</style>\n",
              "\n",
              "  <script>\n",
              "    async function quickchart(key) {\n",
              "      const quickchartButtonEl =\n",
              "        document.querySelector('#' + key + ' button');\n",
              "      quickchartButtonEl.disabled = true;  // To prevent multiple clicks.\n",
              "      quickchartButtonEl.classList.add('colab-df-spinner');\n",
              "      try {\n",
              "        const charts = await google.colab.kernel.invokeFunction(\n",
              "            'suggestCharts', [key], {});\n",
              "      } catch (error) {\n",
              "        console.error('Error during call to suggestCharts:', error);\n",
              "      }\n",
              "      quickchartButtonEl.classList.remove('colab-df-spinner');\n",
              "      quickchartButtonEl.classList.add('colab-df-quickchart-complete');\n",
              "    }\n",
              "    (() => {\n",
              "      let quickchartButtonEl =\n",
              "        document.querySelector('#df-a3e035ec-8287-4c1a-a9d4-9826f3ea76a2 button');\n",
              "      quickchartButtonEl.style.display =\n",
              "        google.colab.kernel.accessAllowed ? 'block' : 'none';\n",
              "    })();\n",
              "  </script>\n",
              "</div>\n",
              "\n",
              "  <div id=\"id_9f82d012-3d3a-43a9-880e-4b205fc2e28c\">\n",
              "    <style>\n",
              "      .colab-df-generate {\n",
              "        background-color: #E8F0FE;\n",
              "        border: none;\n",
              "        border-radius: 50%;\n",
              "        cursor: pointer;\n",
              "        display: none;\n",
              "        fill: #1967D2;\n",
              "        height: 32px;\n",
              "        padding: 0 0 0 0;\n",
              "        width: 32px;\n",
              "      }\n",
              "\n",
              "      .colab-df-generate:hover {\n",
              "        background-color: #E2EBFA;\n",
              "        box-shadow: 0px 1px 2px rgba(60, 64, 67, 0.3), 0px 1px 3px 1px rgba(60, 64, 67, 0.15);\n",
              "        fill: #174EA6;\n",
              "      }\n",
              "\n",
              "      [theme=dark] .colab-df-generate {\n",
              "        background-color: #3B4455;\n",
              "        fill: #D2E3FC;\n",
              "      }\n",
              "\n",
              "      [theme=dark] .colab-df-generate:hover {\n",
              "        background-color: #434B5C;\n",
              "        box-shadow: 0px 1px 3px 1px rgba(0, 0, 0, 0.15);\n",
              "        filter: drop-shadow(0px 1px 2px rgba(0, 0, 0, 0.3));\n",
              "        fill: #FFFFFF;\n",
              "      }\n",
              "    </style>\n",
              "    <button class=\"colab-df-generate\" onclick=\"generateWithVariable('comparison_table')\"\n",
              "            title=\"Generate code using this dataframe.\"\n",
              "            style=\"display:none;\">\n",
              "\n",
              "  <svg xmlns=\"http://www.w3.org/2000/svg\" height=\"24px\"viewBox=\"0 0 24 24\"\n",
              "       width=\"24px\">\n",
              "    <path d=\"M7,19H8.4L18.45,9,17,7.55,7,17.6ZM5,21V16.75L18.45,3.32a2,2,0,0,1,2.83,0l1.4,1.43a1.91,1.91,0,0,1,.58,1.4,1.91,1.91,0,0,1-.58,1.4L9.25,21ZM18.45,9,17,7.55Zm-12,3A5.31,5.31,0,0,0,4.9,8.1,5.31,5.31,0,0,0,1,6.5,5.31,5.31,0,0,0,4.9,4.9,5.31,5.31,0,0,0,6.5,1,5.31,5.31,0,0,0,8.1,4.9,5.31,5.31,0,0,0,12,6.5,5.46,5.46,0,0,0,6.5,12Z\"/>\n",
              "  </svg>\n",
              "    </button>\n",
              "    <script>\n",
              "      (() => {\n",
              "      const buttonEl =\n",
              "        document.querySelector('#id_9f82d012-3d3a-43a9-880e-4b205fc2e28c button.colab-df-generate');\n",
              "      buttonEl.style.display =\n",
              "        google.colab.kernel.accessAllowed ? 'block' : 'none';\n",
              "\n",
              "      buttonEl.onclick = () => {\n",
              "        google.colab.notebook.generateWithVariable('comparison_table');\n",
              "      }\n",
              "      })();\n",
              "    </script>\n",
              "  </div>\n",
              "\n",
              "    </div>\n",
              "  </div>\n"
            ],
            "application/vnd.google.colaboratory.intrinsic+json": {
              "type": "dataframe",
              "variable_name": "comparison_table",
              "summary": "{\n  \"name\": \"comparison_table\",\n  \"rows\": 4,\n  \"fields\": [\n    {\n      \"column\": \"modelo\",\n      \"properties\": {\n        \"dtype\": \"string\",\n        \"num_unique_values\": 4,\n        \"samples\": [\n          \"OLS N\\u00e3o-Linear\",\n          \"XGBoost Tunado\",\n          \"OLS Linear\"\n        ],\n        \"semantic_type\": \"\",\n        \"description\": \"\"\n      }\n    },\n    {\n      \"column\": \"MSE\",\n      \"properties\": {\n        \"dtype\": \"string\",\n        \"num_unique_values\": 4,\n        \"samples\": [\n          \"2.84e+50\",\n          24050192,\n          159507782\n        ],\n        \"semantic_type\": \"\",\n        \"description\": \"\"\n      }\n    },\n    {\n      \"column\": \"MAE\",\n      \"properties\": {\n        \"dtype\": \"string\",\n        \"num_unique_values\": 4,\n        \"samples\": [\n          \"4.05e+22,2\",\n          530.47,\n          5069\n        ],\n        \"semantic_type\": \"\",\n        \"description\": \"\"\n      }\n    }\n  ]\n}"
            }
          },
          "metadata": {},
          "execution_count": 67
        }
      ]
    },
    {
      "cell_type": "markdown",
      "source": [
        "## Modelo com Melhor Performance"
      ],
      "metadata": {
        "id": "K-Pl3ZSOz4-5"
      }
    },
    {
      "cell_type": "code",
      "source": [
        "best_model = pd.DataFrame(\n",
        "    columns=[\"modelo\", \"MSE\", \"MAE\", \"MAPE (%)\"],\n",
        "    data=[[\"XGBoost Tunado\", 24050192, 530.47000, 6.85]])"
      ],
      "metadata": {
        "id": "OE8J0yvuziQG"
      },
      "execution_count": 76,
      "outputs": []
    },
    {
      "cell_type": "code",
      "source": [
        "best_model"
      ],
      "metadata": {
        "colab": {
          "base_uri": "https://localhost:8080/",
          "height": 89
        },
        "id": "NcAlRQpi0juu",
        "outputId": "ba4fd777-3e2a-429c-b760-0e36d0530f48"
      },
      "execution_count": 77,
      "outputs": [
        {
          "output_type": "execute_result",
          "data": {
            "text/plain": [
              "           modelo       MSE       MAE  MAPE (%)\n",
              "0  XGBoost Tunado  24050192 530.47000   6.85000"
            ],
            "text/html": [
              "\n",
              "  <div id=\"df-65a89e99-f893-4106-8a96-f33612be63a2\" class=\"colab-df-container\">\n",
              "    <div>\n",
              "<style scoped>\n",
              "    .dataframe tbody tr th:only-of-type {\n",
              "        vertical-align: middle;\n",
              "    }\n",
              "\n",
              "    .dataframe tbody tr th {\n",
              "        vertical-align: top;\n",
              "    }\n",
              "\n",
              "    .dataframe thead th {\n",
              "        text-align: right;\n",
              "    }\n",
              "</style>\n",
              "<table border=\"1\" class=\"dataframe\">\n",
              "  <thead>\n",
              "    <tr style=\"text-align: right;\">\n",
              "      <th></th>\n",
              "      <th>modelo</th>\n",
              "      <th>MSE</th>\n",
              "      <th>MAE</th>\n",
              "      <th>MAPE (%)</th>\n",
              "    </tr>\n",
              "  </thead>\n",
              "  <tbody>\n",
              "    <tr>\n",
              "      <th>0</th>\n",
              "      <td>XGBoost Tunado</td>\n",
              "      <td>24050192</td>\n",
              "      <td>530.47000</td>\n",
              "      <td>6.85000</td>\n",
              "    </tr>\n",
              "  </tbody>\n",
              "</table>\n",
              "</div>\n",
              "    <div class=\"colab-df-buttons\">\n",
              "\n",
              "  <div class=\"colab-df-container\">\n",
              "    <button class=\"colab-df-convert\" onclick=\"convertToInteractive('df-65a89e99-f893-4106-8a96-f33612be63a2')\"\n",
              "            title=\"Convert this dataframe to an interactive table.\"\n",
              "            style=\"display:none;\">\n",
              "\n",
              "  <svg xmlns=\"http://www.w3.org/2000/svg\" height=\"24px\" viewBox=\"0 -960 960 960\">\n",
              "    <path d=\"M120-120v-720h720v720H120Zm60-500h600v-160H180v160Zm220 220h160v-160H400v160Zm0 220h160v-160H400v160ZM180-400h160v-160H180v160Zm440 0h160v-160H620v160ZM180-180h160v-160H180v160Zm440 0h160v-160H620v160Z\"/>\n",
              "  </svg>\n",
              "    </button>\n",
              "\n",
              "  <style>\n",
              "    .colab-df-container {\n",
              "      display:flex;\n",
              "      gap: 12px;\n",
              "    }\n",
              "\n",
              "    .colab-df-convert {\n",
              "      background-color: #E8F0FE;\n",
              "      border: none;\n",
              "      border-radius: 50%;\n",
              "      cursor: pointer;\n",
              "      display: none;\n",
              "      fill: #1967D2;\n",
              "      height: 32px;\n",
              "      padding: 0 0 0 0;\n",
              "      width: 32px;\n",
              "    }\n",
              "\n",
              "    .colab-df-convert:hover {\n",
              "      background-color: #E2EBFA;\n",
              "      box-shadow: 0px 1px 2px rgba(60, 64, 67, 0.3), 0px 1px 3px 1px rgba(60, 64, 67, 0.15);\n",
              "      fill: #174EA6;\n",
              "    }\n",
              "\n",
              "    .colab-df-buttons div {\n",
              "      margin-bottom: 4px;\n",
              "    }\n",
              "\n",
              "    [theme=dark] .colab-df-convert {\n",
              "      background-color: #3B4455;\n",
              "      fill: #D2E3FC;\n",
              "    }\n",
              "\n",
              "    [theme=dark] .colab-df-convert:hover {\n",
              "      background-color: #434B5C;\n",
              "      box-shadow: 0px 1px 3px 1px rgba(0, 0, 0, 0.15);\n",
              "      filter: drop-shadow(0px 1px 2px rgba(0, 0, 0, 0.3));\n",
              "      fill: #FFFFFF;\n",
              "    }\n",
              "  </style>\n",
              "\n",
              "    <script>\n",
              "      const buttonEl =\n",
              "        document.querySelector('#df-65a89e99-f893-4106-8a96-f33612be63a2 button.colab-df-convert');\n",
              "      buttonEl.style.display =\n",
              "        google.colab.kernel.accessAllowed ? 'block' : 'none';\n",
              "\n",
              "      async function convertToInteractive(key) {\n",
              "        const element = document.querySelector('#df-65a89e99-f893-4106-8a96-f33612be63a2');\n",
              "        const dataTable =\n",
              "          await google.colab.kernel.invokeFunction('convertToInteractive',\n",
              "                                                    [key], {});\n",
              "        if (!dataTable) return;\n",
              "\n",
              "        const docLinkHtml = 'Like what you see? Visit the ' +\n",
              "          '<a target=\"_blank\" href=https://colab.research.google.com/notebooks/data_table.ipynb>data table notebook</a>'\n",
              "          + ' to learn more about interactive tables.';\n",
              "        element.innerHTML = '';\n",
              "        dataTable['output_type'] = 'display_data';\n",
              "        await google.colab.output.renderOutput(dataTable, element);\n",
              "        const docLink = document.createElement('div');\n",
              "        docLink.innerHTML = docLinkHtml;\n",
              "        element.appendChild(docLink);\n",
              "      }\n",
              "    </script>\n",
              "  </div>\n",
              "\n",
              "\n",
              "  <div id=\"id_f5fe06b1-ef65-420d-b81c-664711c1b5cd\">\n",
              "    <style>\n",
              "      .colab-df-generate {\n",
              "        background-color: #E8F0FE;\n",
              "        border: none;\n",
              "        border-radius: 50%;\n",
              "        cursor: pointer;\n",
              "        display: none;\n",
              "        fill: #1967D2;\n",
              "        height: 32px;\n",
              "        padding: 0 0 0 0;\n",
              "        width: 32px;\n",
              "      }\n",
              "\n",
              "      .colab-df-generate:hover {\n",
              "        background-color: #E2EBFA;\n",
              "        box-shadow: 0px 1px 2px rgba(60, 64, 67, 0.3), 0px 1px 3px 1px rgba(60, 64, 67, 0.15);\n",
              "        fill: #174EA6;\n",
              "      }\n",
              "\n",
              "      [theme=dark] .colab-df-generate {\n",
              "        background-color: #3B4455;\n",
              "        fill: #D2E3FC;\n",
              "      }\n",
              "\n",
              "      [theme=dark] .colab-df-generate:hover {\n",
              "        background-color: #434B5C;\n",
              "        box-shadow: 0px 1px 3px 1px rgba(0, 0, 0, 0.15);\n",
              "        filter: drop-shadow(0px 1px 2px rgba(0, 0, 0, 0.3));\n",
              "        fill: #FFFFFF;\n",
              "      }\n",
              "    </style>\n",
              "    <button class=\"colab-df-generate\" onclick=\"generateWithVariable('best_model')\"\n",
              "            title=\"Generate code using this dataframe.\"\n",
              "            style=\"display:none;\">\n",
              "\n",
              "  <svg xmlns=\"http://www.w3.org/2000/svg\" height=\"24px\"viewBox=\"0 0 24 24\"\n",
              "       width=\"24px\">\n",
              "    <path d=\"M7,19H8.4L18.45,9,17,7.55,7,17.6ZM5,21V16.75L18.45,3.32a2,2,0,0,1,2.83,0l1.4,1.43a1.91,1.91,0,0,1,.58,1.4,1.91,1.91,0,0,1-.58,1.4L9.25,21ZM18.45,9,17,7.55Zm-12,3A5.31,5.31,0,0,0,4.9,8.1,5.31,5.31,0,0,0,1,6.5,5.31,5.31,0,0,0,4.9,4.9,5.31,5.31,0,0,0,6.5,1,5.31,5.31,0,0,0,8.1,4.9,5.31,5.31,0,0,0,12,6.5,5.46,5.46,0,0,0,6.5,12Z\"/>\n",
              "  </svg>\n",
              "    </button>\n",
              "    <script>\n",
              "      (() => {\n",
              "      const buttonEl =\n",
              "        document.querySelector('#id_f5fe06b1-ef65-420d-b81c-664711c1b5cd button.colab-df-generate');\n",
              "      buttonEl.style.display =\n",
              "        google.colab.kernel.accessAllowed ? 'block' : 'none';\n",
              "\n",
              "      buttonEl.onclick = () => {\n",
              "        google.colab.notebook.generateWithVariable('best_model');\n",
              "      }\n",
              "      })();\n",
              "    </script>\n",
              "  </div>\n",
              "\n",
              "    </div>\n",
              "  </div>\n"
            ],
            "application/vnd.google.colaboratory.intrinsic+json": {
              "type": "dataframe",
              "variable_name": "best_model",
              "summary": "{\n  \"name\": \"best_model\",\n  \"rows\": 1,\n  \"fields\": [\n    {\n      \"column\": \"modelo\",\n      \"properties\": {\n        \"dtype\": \"string\",\n        \"num_unique_values\": 1,\n        \"samples\": [\n          \"XGBoost Tunado\"\n        ],\n        \"semantic_type\": \"\",\n        \"description\": \"\"\n      }\n    },\n    {\n      \"column\": \"MSE\",\n      \"properties\": {\n        \"dtype\": \"number\",\n        \"std\": null,\n        \"min\": 24050192,\n        \"max\": 24050192,\n        \"num_unique_values\": 1,\n        \"samples\": [\n          24050192\n        ],\n        \"semantic_type\": \"\",\n        \"description\": \"\"\n      }\n    },\n    {\n      \"column\": \"MAE\",\n      \"properties\": {\n        \"dtype\": \"number\",\n        \"std\": null,\n        \"min\": 530.47,\n        \"max\": 530.47,\n        \"num_unique_values\": 1,\n        \"samples\": [\n          530.47\n        ],\n        \"semantic_type\": \"\",\n        \"description\": \"\"\n      }\n    },\n    {\n      \"column\": \"MAPE (%)\",\n      \"properties\": {\n        \"dtype\": \"number\",\n        \"std\": null,\n        \"min\": 6.85,\n        \"max\": 6.85,\n        \"num_unique_values\": 1,\n        \"samples\": [\n          6.85\n        ],\n        \"semantic_type\": \"\",\n        \"description\": \"\"\n      }\n    }\n  ]\n}"
            }
          },
          "metadata": {},
          "execution_count": 77
        }
      ]
    }
  ]
}