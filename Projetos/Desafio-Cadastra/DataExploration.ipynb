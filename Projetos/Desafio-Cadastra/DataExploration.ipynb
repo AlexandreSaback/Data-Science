{
 "cells": [
  {
   "cell_type": "markdown",
   "id": "5be08bfc-a22d-4427-895c-ccaca8647282",
   "metadata": {},
   "source": [
    "# Análise Exploratória e Descritiva dos Dados\n",
    "### Autor: Alexandre Saback"
   ]
  },
  {
   "cell_type": "markdown",
   "id": "0f74fe32-ee43-4d14-bba6-08a1c4a4f94d",
   "metadata": {},
   "source": [
    "# Contextualização do Problema"
   ]
  },
  {
   "cell_type": "markdown",
   "id": "2c776be0-0c14-40dd-9fbd-59237d0f4af2",
   "metadata": {},
   "source": [
    "O objetivo dessa análise é desenvolver um modelo para previsão de vendas (sell-out) para integrar o processo de planejamento de demanda do grupo. Este processo tem como objetivo orientar o plano de produção da indústria."
   ]
  },
  {
   "cell_type": "markdown",
   "id": "c7cd6ae5-a8f9-4d01-b3ec-118430af6f23",
   "metadata": {},
   "source": [
    "# Instalação de Pacotes Adicionais"
   ]
  },
  {
   "cell_type": "code",
   "execution_count": null,
   "id": "43417ff4-2de1-4d8b-a4e1-2ac5c339f9fb",
   "metadata": {},
   "outputs": [],
   "source": [
    "!pip install statstests\n",
    "!pip install pyarrow"
   ]
  },
  {
   "cell_type": "markdown",
   "id": "d3a30499-8824-4978-96b6-05ff61772d95",
   "metadata": {},
   "source": [
    "# Começando"
   ]
  },
  {
   "cell_type": "markdown",
   "id": "ea9d9606-b6b3-433d-aa94-8a8deb33eef1",
   "metadata": {},
   "source": [
    "O primeiro passo da análise consiste em carregar as bibliotecas necessárias, e os dados a serem analisados.\n",
    "\n",
    "Aqui, utilizaremos a biblioteca `Pandas`, que permite trabalhar com arquivos csv com mais facilidade, em um formato tabular, que lembra as tabelas do Excel.\n",
    "\n",
    "`Matplotlib` e `Seaborn` são bibliotecas gráficas que utilizarei para _plotar_ visualizações.\n",
    "\n",
    "`Numpy` é uma das bibliotecas mais utilizadas em Data Science, e nos dá suporte para trabalharmos com arrays multidimensionais, matrizes, etc.\n",
    "\n",
    "`Scipy` é um ecosistema de softwares open-source baseado em Python para matemática, ciência e engenharia.\n",
    "\n",
    "`Sklearn` é uma biblioteca de machine learning (aprendizado de máquina) open-source para Python.\n",
    "\n",
    "`Statsmodels` é uma biblioteca Python que possui classes e funções destinadas a estimação de modelos estatísticos.\n",
    "\n",
    "Outros pacotes, os quais estão citados abaixo, também foram importados para auxiliar em partes específicas da análise.\n",
    "- `Prince`;\n",
    "- `Pickle`;\n",
    "- `Itertools`."
   ]
  },
  {
   "cell_type": "code",
   "execution_count": 181,
   "id": "a38addaa-905d-4db5-bff6-ee75ea29ef75",
   "metadata": {
    "tags": []
   },
   "outputs": [],
   "source": [
    "# Imports\n",
    "import pandas as pd\n",
    "import matplotlib.pyplot as plt\n",
    "import seaborn as sns\n",
    "import numpy as np\n",
    "from sklearn.preprocessing import StandardScaler\n",
    "from scipy.stats import boxcox\n",
    "import statsmodels.api as sm\n",
    "from scipy.stats import chi2_contingency\n",
    "from scipy.stats import iqr\n",
    "from itertools import combinations\n",
    "import prince\n",
    "import pickle"
   ]
  },
  {
   "cell_type": "markdown",
   "id": "cd0bd14d-c271-4da9-8707-2b375dc13c66",
   "metadata": {},
   "source": [
    "# Carregando os Dados"
   ]
  },
  {
   "cell_type": "code",
   "execution_count": 7,
   "id": "ab69da0a-5e80-445d-baf6-862cb3f3e6d0",
   "metadata": {
    "tags": []
   },
   "outputs": [],
   "source": [
    "data = pd.read_csv(\"dataset.csv\", sep=\";\")\n",
    "data_dict = pd.read_csv(\"dicionario de dados.csv\", header=1)"
   ]
  },
  {
   "cell_type": "markdown",
   "id": "e9132cc4-f4f6-4993-aeec-028e09081e66",
   "metadata": {},
   "source": [
    "# Análise Geral dos Dados"
   ]
  },
  {
   "cell_type": "code",
   "execution_count": 9,
   "id": "0b30c136-fec4-4939-ba5f-d5d63432c823",
   "metadata": {
    "tags": []
   },
   "outputs": [
    {
     "data": {
      "text/html": [
       "<div>\n",
       "<style scoped>\n",
       "    .dataframe tbody tr th:only-of-type {\n",
       "        vertical-align: middle;\n",
       "    }\n",
       "\n",
       "    .dataframe tbody tr th {\n",
       "        vertical-align: top;\n",
       "    }\n",
       "\n",
       "    .dataframe thead th {\n",
       "        text-align: right;\n",
       "    }\n",
       "</style>\n",
       "<table border=\"1\" class=\"dataframe\">\n",
       "  <thead>\n",
       "    <tr style=\"text-align: right;\">\n",
       "      <th></th>\n",
       "      <th>COD_CICLO</th>\n",
       "      <th>FLG_DATA</th>\n",
       "      <th>COD_MATERIAL</th>\n",
       "      <th>COD_CANAL</th>\n",
       "      <th>DES_CATEGORIA_MATERIAL</th>\n",
       "      <th>DES_MARCA_MATERIAL</th>\n",
       "      <th>COD_REGIAO</th>\n",
       "      <th>QT_VENDA_BRUTO</th>\n",
       "      <th>QT_DEVOLUCAO</th>\n",
       "      <th>VL_RECEITA_BRUTA</th>\n",
       "      <th>VL_RECEITA_LIQUIDA</th>\n",
       "      <th>FLG_CAMPANHA_MKT_A</th>\n",
       "      <th>FLG_CAMPANHA_MKT_B</th>\n",
       "      <th>FLG_CAMPANHA_MKT_C</th>\n",
       "      <th>FLG_CAMPANHA_MKT_D</th>\n",
       "      <th>FLG_CAMPANHA_MKT_E</th>\n",
       "      <th>PCT_DESCONTO</th>\n",
       "      <th>VL_PRECO</th>\n",
       "    </tr>\n",
       "  </thead>\n",
       "  <tbody>\n",
       "    <tr>\n",
       "      <th>0</th>\n",
       "      <td>201917</td>\n",
       "      <td>1</td>\n",
       "      <td>431148</td>\n",
       "      <td>anon_S0</td>\n",
       "      <td>anon_S2</td>\n",
       "      <td>anon_S3</td>\n",
       "      <td>anon_S1</td>\n",
       "      <td>11934,000000</td>\n",
       "      <td>414.0</td>\n",
       "      <td>431869,080000</td>\n",
       "      <td>431869,080000</td>\n",
       "      <td>0</td>\n",
       "      <td>0</td>\n",
       "      <td>0</td>\n",
       "      <td>0</td>\n",
       "      <td>0</td>\n",
       "      <td>NaN</td>\n",
       "      <td>455,400000</td>\n",
       "    </tr>\n",
       "    <tr>\n",
       "      <th>1</th>\n",
       "      <td>202005</td>\n",
       "      <td>0</td>\n",
       "      <td>177816</td>\n",
       "      <td>anon_S0</td>\n",
       "      <td>anon_S2</td>\n",
       "      <td>anon_S4</td>\n",
       "      <td>anon_S1</td>\n",
       "      <td>540,000000</td>\n",
       "      <td>252.0</td>\n",
       "      <td>27743,400000</td>\n",
       "      <td>27743,400000</td>\n",
       "      <td>0</td>\n",
       "      <td>0</td>\n",
       "      <td>0</td>\n",
       "      <td>0</td>\n",
       "      <td>0</td>\n",
       "      <td>NaN</td>\n",
       "      <td>773,400000</td>\n",
       "    </tr>\n",
       "    <tr>\n",
       "      <th>2</th>\n",
       "      <td>201901</td>\n",
       "      <td>0</td>\n",
       "      <td>171786</td>\n",
       "      <td>anon_S0</td>\n",
       "      <td>anon_S5</td>\n",
       "      <td>anon_S6</td>\n",
       "      <td>anon_S1</td>\n",
       "      <td>54012,000000</td>\n",
       "      <td>1410.0</td>\n",
       "      <td>962860,200000</td>\n",
       "      <td>962860,200000</td>\n",
       "      <td>0</td>\n",
       "      <td>1</td>\n",
       "      <td>0</td>\n",
       "      <td>0</td>\n",
       "      <td>0</td>\n",
       "      <td>35,000000</td>\n",
       "      <td>341,400000</td>\n",
       "    </tr>\n",
       "    <tr>\n",
       "      <th>3</th>\n",
       "      <td>201813</td>\n",
       "      <td>0</td>\n",
       "      <td>177774</td>\n",
       "      <td>anon_S7</td>\n",
       "      <td>anon_S2</td>\n",
       "      <td>anon_S8</td>\n",
       "      <td>anon_S1</td>\n",
       "      <td>438,000000</td>\n",
       "      <td>NaN</td>\n",
       "      <td>7608,600000</td>\n",
       "      <td>7608,600000</td>\n",
       "      <td>0</td>\n",
       "      <td>0</td>\n",
       "      <td>0</td>\n",
       "      <td>0</td>\n",
       "      <td>0</td>\n",
       "      <td>NaN</td>\n",
       "      <td>450,900000</td>\n",
       "    </tr>\n",
       "    <tr>\n",
       "      <th>4</th>\n",
       "      <td>202006</td>\n",
       "      <td>1</td>\n",
       "      <td>446592</td>\n",
       "      <td>anon_S0</td>\n",
       "      <td>anon_S5</td>\n",
       "      <td>anon_S9</td>\n",
       "      <td>anon_S1</td>\n",
       "      <td>2760,000000</td>\n",
       "      <td>240.0</td>\n",
       "      <td>83339,400000</td>\n",
       "      <td>83339,400000</td>\n",
       "      <td>0</td>\n",
       "      <td>0</td>\n",
       "      <td>0</td>\n",
       "      <td>0</td>\n",
       "      <td>0</td>\n",
       "      <td>NaN</td>\n",
       "      <td>431,400000</td>\n",
       "    </tr>\n",
       "  </tbody>\n",
       "</table>\n",
       "</div>"
      ],
      "text/plain": [
       "   COD_CICLO  FLG_DATA  COD_MATERIAL COD_CANAL DES_CATEGORIA_MATERIAL  \\\n",
       "0     201917         1        431148   anon_S0                anon_S2   \n",
       "1     202005         0        177816   anon_S0                anon_S2   \n",
       "2     201901         0        171786   anon_S0                anon_S5   \n",
       "3     201813         0        177774   anon_S7                anon_S2   \n",
       "4     202006         1        446592   anon_S0                anon_S5   \n",
       "\n",
       "  DES_MARCA_MATERIAL COD_REGIAO QT_VENDA_BRUTO  QT_DEVOLUCAO VL_RECEITA_BRUTA  \\\n",
       "0            anon_S3    anon_S1   11934,000000         414.0    431869,080000   \n",
       "1            anon_S4    anon_S1     540,000000         252.0     27743,400000   \n",
       "2            anon_S6    anon_S1   54012,000000        1410.0    962860,200000   \n",
       "3            anon_S8    anon_S1     438,000000           NaN      7608,600000   \n",
       "4            anon_S9    anon_S1    2760,000000         240.0     83339,400000   \n",
       "\n",
       "  VL_RECEITA_LIQUIDA  FLG_CAMPANHA_MKT_A  FLG_CAMPANHA_MKT_B  \\\n",
       "0      431869,080000                   0                   0   \n",
       "1       27743,400000                   0                   0   \n",
       "2      962860,200000                   0                   1   \n",
       "3        7608,600000                   0                   0   \n",
       "4       83339,400000                   0                   0   \n",
       "\n",
       "   FLG_CAMPANHA_MKT_C  FLG_CAMPANHA_MKT_D  FLG_CAMPANHA_MKT_E PCT_DESCONTO  \\\n",
       "0                   0                   0                   0          NaN   \n",
       "1                   0                   0                   0          NaN   \n",
       "2                   0                   0                   0    35,000000   \n",
       "3                   0                   0                   0          NaN   \n",
       "4                   0                   0                   0          NaN   \n",
       "\n",
       "     VL_PRECO  \n",
       "0  455,400000  \n",
       "1  773,400000  \n",
       "2  341,400000  \n",
       "3  450,900000  \n",
       "4  431,400000  "
      ]
     },
     "execution_count": 9,
     "metadata": {},
     "output_type": "execute_result"
    }
   ],
   "source": [
    "data.head()"
   ]
  },
  {
   "cell_type": "code",
   "execution_count": 10,
   "id": "a435c744-25cf-431f-91b3-f3792b9e9aac",
   "metadata": {
    "tags": []
   },
   "outputs": [
    {
     "data": {
      "text/html": [
       "<div>\n",
       "<style scoped>\n",
       "    .dataframe tbody tr th:only-of-type {\n",
       "        vertical-align: middle;\n",
       "    }\n",
       "\n",
       "    .dataframe tbody tr th {\n",
       "        vertical-align: top;\n",
       "    }\n",
       "\n",
       "    .dataframe thead th {\n",
       "        text-align: right;\n",
       "    }\n",
       "</style>\n",
       "<table border=\"1\" class=\"dataframe\">\n",
       "  <thead>\n",
       "    <tr style=\"text-align: right;\">\n",
       "      <th></th>\n",
       "      <th>Feature</th>\n",
       "      <th>Tipo Variável</th>\n",
       "      <th>Descrição</th>\n",
       "    </tr>\n",
       "  </thead>\n",
       "  <tbody>\n",
       "    <tr>\n",
       "      <th>0</th>\n",
       "      <td>COD_CICLO</td>\n",
       "      <td>Ordinal</td>\n",
       "      <td>Indicação de período definido por marketing</td>\n",
       "    </tr>\n",
       "    <tr>\n",
       "      <th>1</th>\n",
       "      <td>FLG_DATA_COMEMORATIVA</td>\n",
       "      <td>FLAG</td>\n",
       "      <td>Indicação se o ciclo pertence a alguma data co...</td>\n",
       "    </tr>\n",
       "    <tr>\n",
       "      <th>2</th>\n",
       "      <td>COD_MATERIAL</td>\n",
       "      <td>Categórica</td>\n",
       "      <td>Código referente ao material - SKU</td>\n",
       "    </tr>\n",
       "    <tr>\n",
       "      <th>3</th>\n",
       "      <td>COD_CANAL</td>\n",
       "      <td>Categórica</td>\n",
       "      <td>Em qual canal de vendas foi efetuada a venda d...</td>\n",
       "    </tr>\n",
       "    <tr>\n",
       "      <th>4</th>\n",
       "      <td>DES_CATEGORIA_MATERIAL</td>\n",
       "      <td>Categórica</td>\n",
       "      <td>Qual a categoria do material</td>\n",
       "    </tr>\n",
       "    <tr>\n",
       "      <th>5</th>\n",
       "      <td>DES_MARCA_MATERIAL</td>\n",
       "      <td>Categórica</td>\n",
       "      <td>Qual a marca do material</td>\n",
       "    </tr>\n",
       "    <tr>\n",
       "      <th>6</th>\n",
       "      <td>COD_REGIAO</td>\n",
       "      <td>Categórica</td>\n",
       "      <td>Região a qual foi efetuada a venda</td>\n",
       "    </tr>\n",
       "    <tr>\n",
       "      <th>7</th>\n",
       "      <td>QT_VENDA_BRUTO</td>\n",
       "      <td>Continua</td>\n",
       "      <td>Quantidade de itens vendidos</td>\n",
       "    </tr>\n",
       "    <tr>\n",
       "      <th>8</th>\n",
       "      <td>QT_DEVOLUCAO</td>\n",
       "      <td>Continua</td>\n",
       "      <td>Quantidade de itens devolvidos</td>\n",
       "    </tr>\n",
       "    <tr>\n",
       "      <th>9</th>\n",
       "      <td>VL_RECEITA_BRUTA</td>\n",
       "      <td>Continua</td>\n",
       "      <td>Valor da receita bruta</td>\n",
       "    </tr>\n",
       "    <tr>\n",
       "      <th>10</th>\n",
       "      <td>VL_RECEITA_LIQUIDA</td>\n",
       "      <td>Continua</td>\n",
       "      <td>Valor da receita liquida</td>\n",
       "    </tr>\n",
       "    <tr>\n",
       "      <th>11</th>\n",
       "      <td>FLG_CAMPANHA_MKT_A</td>\n",
       "      <td>FLAG</td>\n",
       "      <td>Campanha de Marketing - TIPO A</td>\n",
       "    </tr>\n",
       "    <tr>\n",
       "      <th>12</th>\n",
       "      <td>FLG_CAMPANHA_MKT_B</td>\n",
       "      <td>FLAG</td>\n",
       "      <td>Campanha de Marketing - TIPO B</td>\n",
       "    </tr>\n",
       "    <tr>\n",
       "      <th>13</th>\n",
       "      <td>FLG_CAMPANHA_MKT_C</td>\n",
       "      <td>FLAG</td>\n",
       "      <td>Campanha de Marketing - TIPO C</td>\n",
       "    </tr>\n",
       "    <tr>\n",
       "      <th>14</th>\n",
       "      <td>FLG_CAMPANHA_MKT_D</td>\n",
       "      <td>FLAG</td>\n",
       "      <td>Campanha de Marketing - TIPO D</td>\n",
       "    </tr>\n",
       "    <tr>\n",
       "      <th>15</th>\n",
       "      <td>FLG_CAMPANHA_MKT_E</td>\n",
       "      <td>FLAG</td>\n",
       "      <td>Campanha de Marketing - TIPO E</td>\n",
       "    </tr>\n",
       "    <tr>\n",
       "      <th>16</th>\n",
       "      <td>PCT_DESCONTO</td>\n",
       "      <td>Continua</td>\n",
       "      <td>Percentual de desconto feito por Marketing</td>\n",
       "    </tr>\n",
       "    <tr>\n",
       "      <th>17</th>\n",
       "      <td>VL_PRECO</td>\n",
       "      <td>Continua</td>\n",
       "      <td>Valor do preço do Produto</td>\n",
       "    </tr>\n",
       "  </tbody>\n",
       "</table>\n",
       "</div>"
      ],
      "text/plain": [
       "                   Feature Tipo Variável  \\\n",
       "0                COD_CICLO       Ordinal   \n",
       "1    FLG_DATA_COMEMORATIVA          FLAG   \n",
       "2             COD_MATERIAL    Categórica   \n",
       "3                COD_CANAL    Categórica   \n",
       "4   DES_CATEGORIA_MATERIAL    Categórica   \n",
       "5       DES_MARCA_MATERIAL    Categórica   \n",
       "6               COD_REGIAO    Categórica   \n",
       "7           QT_VENDA_BRUTO      Continua   \n",
       "8             QT_DEVOLUCAO      Continua   \n",
       "9         VL_RECEITA_BRUTA      Continua   \n",
       "10      VL_RECEITA_LIQUIDA      Continua   \n",
       "11      FLG_CAMPANHA_MKT_A          FLAG   \n",
       "12      FLG_CAMPANHA_MKT_B          FLAG   \n",
       "13      FLG_CAMPANHA_MKT_C          FLAG   \n",
       "14      FLG_CAMPANHA_MKT_D          FLAG   \n",
       "15      FLG_CAMPANHA_MKT_E          FLAG   \n",
       "16            PCT_DESCONTO      Continua   \n",
       "17                VL_PRECO      Continua   \n",
       "\n",
       "                                            Descrição  \n",
       "0         Indicação de período definido por marketing  \n",
       "1   Indicação se o ciclo pertence a alguma data co...  \n",
       "2                  Código referente ao material - SKU  \n",
       "3   Em qual canal de vendas foi efetuada a venda d...  \n",
       "4                        Qual a categoria do material  \n",
       "5                            Qual a marca do material  \n",
       "6                  Região a qual foi efetuada a venda  \n",
       "7                        Quantidade de itens vendidos  \n",
       "8                      Quantidade de itens devolvidos  \n",
       "9                              Valor da receita bruta  \n",
       "10                           Valor da receita liquida  \n",
       "11                     Campanha de Marketing - TIPO A  \n",
       "12                     Campanha de Marketing - TIPO B  \n",
       "13                     Campanha de Marketing - TIPO C  \n",
       "14                     Campanha de Marketing - TIPO D  \n",
       "15                     Campanha de Marketing - TIPO E  \n",
       "16         Percentual de desconto feito por Marketing  \n",
       "17                          Valor do preço do Produto  "
      ]
     },
     "execution_count": 10,
     "metadata": {},
     "output_type": "execute_result"
    }
   ],
   "source": [
    "data_dict"
   ]
  },
  {
   "cell_type": "markdown",
   "id": "eb401476-8225-44a3-952a-a7af477f60f7",
   "metadata": {},
   "source": [
    "A variável acima descreve o tipo e a finalidade de cada variável presente no conjunto de dados.\n",
    "\n",
    "Nesse conjunto, a variável dependente (TARGET) possui a alcunha de `VL_PRECO`. Sendo assim, todas as outras variáveis são _explicativas_ e podem ou não contribuirem na definição do valor da variável TARGET."
   ]
  },
  {
   "cell_type": "markdown",
   "id": "8f0d3d83-3298-4d48-8265-927eb63b3ae6",
   "metadata": {},
   "source": [
    "## Variáveis Quantitativas"
   ]
  },
  {
   "cell_type": "markdown",
   "id": "913b74b2-e160-43bb-a6a7-3ca8b7bf2fdb",
   "metadata": {},
   "source": [
    "É possível observar no _output_ acima que existem 6 variáveis quantitativas (contínuas). Sendo assim, é importante realizar um conjunto específico de técnicas nessas variáveis para garantir a integridade e fidelidade dos dados ao longo da análise."
   ]
  },
  {
   "cell_type": "markdown",
   "id": "de9fbcbc-c63b-4f2a-b24e-50f3a515cc28",
   "metadata": {},
   "source": [
    "### Pré-processamento"
   ]
  },
  {
   "cell_type": "code",
   "execution_count": 13,
   "id": "4c42fb28-9348-4d10-ad0c-ff2d2bb570d5",
   "metadata": {
    "tags": []
   },
   "outputs": [],
   "source": [
    "# Separação de variáveis quantitativas\n",
    "quanti_features = list(data_dict.loc[data_dict['Tipo Variável'] == 'Continua']['Feature'].values)"
   ]
  },
  {
   "cell_type": "code",
   "execution_count": 14,
   "id": "b0747aab-aea8-4e65-9605-b2567e09dbe5",
   "metadata": {
    "tags": []
   },
   "outputs": [
    {
     "data": {
      "text/html": [
       "<div>\n",
       "<style scoped>\n",
       "    .dataframe tbody tr th:only-of-type {\n",
       "        vertical-align: middle;\n",
       "    }\n",
       "\n",
       "    .dataframe tbody tr th {\n",
       "        vertical-align: top;\n",
       "    }\n",
       "\n",
       "    .dataframe thead th {\n",
       "        text-align: right;\n",
       "    }\n",
       "</style>\n",
       "<table border=\"1\" class=\"dataframe\">\n",
       "  <thead>\n",
       "    <tr style=\"text-align: right;\">\n",
       "      <th></th>\n",
       "      <th>QT_VENDA_BRUTO</th>\n",
       "      <th>QT_DEVOLUCAO</th>\n",
       "      <th>VL_RECEITA_BRUTA</th>\n",
       "      <th>VL_RECEITA_LIQUIDA</th>\n",
       "      <th>PCT_DESCONTO</th>\n",
       "      <th>VL_PRECO</th>\n",
       "    </tr>\n",
       "  </thead>\n",
       "  <tbody>\n",
       "    <tr>\n",
       "      <th>0</th>\n",
       "      <td>11934,000000</td>\n",
       "      <td>414.0</td>\n",
       "      <td>431869,080000</td>\n",
       "      <td>431869,080000</td>\n",
       "      <td>NaN</td>\n",
       "      <td>455,400000</td>\n",
       "    </tr>\n",
       "    <tr>\n",
       "      <th>1</th>\n",
       "      <td>540,000000</td>\n",
       "      <td>252.0</td>\n",
       "      <td>27743,400000</td>\n",
       "      <td>27743,400000</td>\n",
       "      <td>NaN</td>\n",
       "      <td>773,400000</td>\n",
       "    </tr>\n",
       "    <tr>\n",
       "      <th>2</th>\n",
       "      <td>54012,000000</td>\n",
       "      <td>1410.0</td>\n",
       "      <td>962860,200000</td>\n",
       "      <td>962860,200000</td>\n",
       "      <td>35,000000</td>\n",
       "      <td>341,400000</td>\n",
       "    </tr>\n",
       "    <tr>\n",
       "      <th>3</th>\n",
       "      <td>438,000000</td>\n",
       "      <td>NaN</td>\n",
       "      <td>7608,600000</td>\n",
       "      <td>7608,600000</td>\n",
       "      <td>NaN</td>\n",
       "      <td>450,900000</td>\n",
       "    </tr>\n",
       "    <tr>\n",
       "      <th>4</th>\n",
       "      <td>2760,000000</td>\n",
       "      <td>240.0</td>\n",
       "      <td>83339,400000</td>\n",
       "      <td>83339,400000</td>\n",
       "      <td>NaN</td>\n",
       "      <td>431,400000</td>\n",
       "    </tr>\n",
       "    <tr>\n",
       "      <th>...</th>\n",
       "      <td>...</td>\n",
       "      <td>...</td>\n",
       "      <td>...</td>\n",
       "      <td>...</td>\n",
       "      <td>...</td>\n",
       "      <td>...</td>\n",
       "    </tr>\n",
       "    <tr>\n",
       "      <th>173918</th>\n",
       "      <td>4266,000000</td>\n",
       "      <td>NaN</td>\n",
       "      <td>102125,580000</td>\n",
       "      <td>102125,580000</td>\n",
       "      <td>NaN</td>\n",
       "      <td>389,400000</td>\n",
       "    </tr>\n",
       "    <tr>\n",
       "      <th>173919</th>\n",
       "      <td>7224,000000</td>\n",
       "      <td>NaN</td>\n",
       "      <td>295911,000000</td>\n",
       "      <td>295911,000000</td>\n",
       "      <td>NaN</td>\n",
       "      <td>490,320000</td>\n",
       "    </tr>\n",
       "    <tr>\n",
       "      <th>173920</th>\n",
       "      <td>360,000000</td>\n",
       "      <td>NaN</td>\n",
       "      <td>10516,200000</td>\n",
       "      <td>10516,200000</td>\n",
       "      <td>NaN</td>\n",
       "      <td>724,380000</td>\n",
       "    </tr>\n",
       "    <tr>\n",
       "      <th>173921</th>\n",
       "      <td>384,000000</td>\n",
       "      <td>NaN</td>\n",
       "      <td>5562,180000</td>\n",
       "      <td>5562,180000</td>\n",
       "      <td>NaN</td>\n",
       "      <td>491,400000</td>\n",
       "    </tr>\n",
       "    <tr>\n",
       "      <th>173922</th>\n",
       "      <td>888,000000</td>\n",
       "      <td>240.0</td>\n",
       "      <td>17172,600000</td>\n",
       "      <td>12602,100000</td>\n",
       "      <td>NaN</td>\n",
       "      <td>389,400000</td>\n",
       "    </tr>\n",
       "  </tbody>\n",
       "</table>\n",
       "<p>173923 rows × 6 columns</p>\n",
       "</div>"
      ],
      "text/plain": [
       "       QT_VENDA_BRUTO  QT_DEVOLUCAO VL_RECEITA_BRUTA VL_RECEITA_LIQUIDA  \\\n",
       "0        11934,000000         414.0    431869,080000      431869,080000   \n",
       "1          540,000000         252.0     27743,400000       27743,400000   \n",
       "2        54012,000000        1410.0    962860,200000      962860,200000   \n",
       "3          438,000000           NaN      7608,600000        7608,600000   \n",
       "4         2760,000000         240.0     83339,400000       83339,400000   \n",
       "...               ...           ...              ...                ...   \n",
       "173918    4266,000000           NaN    102125,580000      102125,580000   \n",
       "173919    7224,000000           NaN    295911,000000      295911,000000   \n",
       "173920     360,000000           NaN     10516,200000       10516,200000   \n",
       "173921     384,000000           NaN      5562,180000        5562,180000   \n",
       "173922     888,000000         240.0     17172,600000       12602,100000   \n",
       "\n",
       "       PCT_DESCONTO    VL_PRECO  \n",
       "0               NaN  455,400000  \n",
       "1               NaN  773,400000  \n",
       "2         35,000000  341,400000  \n",
       "3               NaN  450,900000  \n",
       "4               NaN  431,400000  \n",
       "...             ...         ...  \n",
       "173918          NaN  389,400000  \n",
       "173919          NaN  490,320000  \n",
       "173920          NaN  724,380000  \n",
       "173921          NaN  491,400000  \n",
       "173922          NaN  389,400000  \n",
       "\n",
       "[173923 rows x 6 columns]"
      ]
     },
     "execution_count": 14,
     "metadata": {},
     "output_type": "execute_result"
    }
   ],
   "source": [
    "data[quanti_features]"
   ]
  },
  {
   "cell_type": "code",
   "execution_count": 15,
   "id": "a2b8a464-9286-4ee5-9d49-9f6c43e14ccf",
   "metadata": {
    "tags": []
   },
   "outputs": [
    {
     "data": {
      "text/plain": [
       "QT_VENDA_BRUTO         object\n",
       "QT_DEVOLUCAO          float64\n",
       "VL_RECEITA_BRUTA       object\n",
       "VL_RECEITA_LIQUIDA     object\n",
       "PCT_DESCONTO           object\n",
       "VL_PRECO               object\n",
       "dtype: object"
      ]
     },
     "execution_count": 15,
     "metadata": {},
     "output_type": "execute_result"
    }
   ],
   "source": [
    "# Verificando o tipo das variáveis quantitativas\n",
    "data[quanti_features].dtypes"
   ]
  },
  {
   "cell_type": "code",
   "execution_count": 16,
   "id": "501959c1-9c49-4036-8ba6-28cb2e720239",
   "metadata": {
    "tags": []
   },
   "outputs": [],
   "source": [
    "# Convertendo as variáveis quantitativas para o tipo correto (float)\n",
    "for col in quanti_features:\n",
    "    data[col] = data[col].replace(\",\", \".\", regex=True)\n",
    "    data[col] = data[col].astype(float)"
   ]
  },
  {
   "cell_type": "markdown",
   "id": "3a0b0384-c460-48fa-a946-2b574a36f42e",
   "metadata": {},
   "source": [
    "### Análise das Variáveis"
   ]
  },
  {
   "cell_type": "markdown",
   "id": "03a5a8e7-7835-4935-96ad-286fa01eda83",
   "metadata": {},
   "source": [
    "#### Verificando e Tratando Valores Nulos"
   ]
  },
  {
   "cell_type": "code",
   "execution_count": 19,
   "id": "1e30b643-3a64-4f7e-a52d-9cd3c061af77",
   "metadata": {
    "tags": []
   },
   "outputs": [
    {
     "data": {
      "text/plain": [
       "QT_VENDA_BRUTO             0\n",
       "QT_DEVOLUCAO           86759\n",
       "VL_RECEITA_BRUTA           0\n",
       "VL_RECEITA_LIQUIDA         0\n",
       "PCT_DESCONTO          116972\n",
       "VL_PRECO                   0\n",
       "dtype: int64"
      ]
     },
     "execution_count": 19,
     "metadata": {},
     "output_type": "execute_result"
    }
   ],
   "source": [
    "data[quanti_features].isna().sum()"
   ]
  },
  {
   "cell_type": "code",
   "execution_count": 20,
   "id": "0426369d-4907-4357-a307-87b28131d0f3",
   "metadata": {
    "tags": []
   },
   "outputs": [],
   "source": [
    "data[quanti_features] = data[quanti_features].fillna(0)"
   ]
  },
  {
   "cell_type": "markdown",
   "id": "9462e8cf-a715-4182-8227-7bb9a8fa3aa9",
   "metadata": {},
   "source": [
    "#### Análise Descritiva"
   ]
  },
  {
   "cell_type": "code",
   "execution_count": 22,
   "id": "d26a2824-ef97-49bd-96e3-ffc4a0924eeb",
   "metadata": {
    "tags": []
   },
   "outputs": [
    {
     "data": {
      "text/html": [
       "<div>\n",
       "<style scoped>\n",
       "    .dataframe tbody tr th:only-of-type {\n",
       "        vertical-align: middle;\n",
       "    }\n",
       "\n",
       "    .dataframe tbody tr th {\n",
       "        vertical-align: top;\n",
       "    }\n",
       "\n",
       "    .dataframe thead th {\n",
       "        text-align: right;\n",
       "    }\n",
       "</style>\n",
       "<table border=\"1\" class=\"dataframe\">\n",
       "  <thead>\n",
       "    <tr style=\"text-align: right;\">\n",
       "      <th></th>\n",
       "      <th>QT_VENDA_BRUTO</th>\n",
       "      <th>QT_DEVOLUCAO</th>\n",
       "      <th>VL_RECEITA_BRUTA</th>\n",
       "      <th>VL_RECEITA_LIQUIDA</th>\n",
       "      <th>PCT_DESCONTO</th>\n",
       "      <th>VL_PRECO</th>\n",
       "    </tr>\n",
       "  </thead>\n",
       "  <tbody>\n",
       "    <tr>\n",
       "      <th>count</th>\n",
       "      <td>1.739230e+05</td>\n",
       "      <td>173923.000000</td>\n",
       "      <td>1.739230e+05</td>\n",
       "      <td>1.739230e+05</td>\n",
       "      <td>173923.000000</td>\n",
       "      <td>173923.000000</td>\n",
       "    </tr>\n",
       "    <tr>\n",
       "      <th>mean</th>\n",
       "      <td>1.050377e+04</td>\n",
       "      <td>246.472968</td>\n",
       "      <td>6.475499e+05</td>\n",
       "      <td>6.421887e+05</td>\n",
       "      <td>6.607484</td>\n",
       "      <td>543.703809</td>\n",
       "    </tr>\n",
       "    <tr>\n",
       "      <th>std</th>\n",
       "      <td>3.327551e+04</td>\n",
       "      <td>567.751683</td>\n",
       "      <td>2.790452e+06</td>\n",
       "      <td>2.780483e+06</td>\n",
       "      <td>11.019168</td>\n",
       "      <td>243.974723</td>\n",
       "    </tr>\n",
       "    <tr>\n",
       "      <th>min</th>\n",
       "      <td>2.345454e+02</td>\n",
       "      <td>0.000000</td>\n",
       "      <td>2.340600e+02</td>\n",
       "      <td>2.340600e+02</td>\n",
       "      <td>0.000000</td>\n",
       "      <td>234.060000</td>\n",
       "    </tr>\n",
       "    <tr>\n",
       "      <th>25%</th>\n",
       "      <td>3.960000e+02</td>\n",
       "      <td>0.000000</td>\n",
       "      <td>6.369720e+03</td>\n",
       "      <td>6.273450e+03</td>\n",
       "      <td>0.000000</td>\n",
       "      <td>389.400000</td>\n",
       "    </tr>\n",
       "    <tr>\n",
       "      <th>50%</th>\n",
       "      <td>2.070000e+03</td>\n",
       "      <td>234.000000</td>\n",
       "      <td>6.738048e+04</td>\n",
       "      <td>6.663558e+04</td>\n",
       "      <td>0.000000</td>\n",
       "      <td>461.400000</td>\n",
       "    </tr>\n",
       "    <tr>\n",
       "      <th>75%</th>\n",
       "      <td>8.634000e+03</td>\n",
       "      <td>270.000000</td>\n",
       "      <td>3.468348e+05</td>\n",
       "      <td>3.427422e+05</td>\n",
       "      <td>15.000000</td>\n",
       "      <td>593.400000</td>\n",
       "    </tr>\n",
       "    <tr>\n",
       "      <th>max</th>\n",
       "      <td>1.865862e+06</td>\n",
       "      <td>31662.000000</td>\n",
       "      <td>2.292459e+08</td>\n",
       "      <td>2.292459e+08</td>\n",
       "      <td>35.000000</td>\n",
       "      <td>5539.620000</td>\n",
       "    </tr>\n",
       "  </tbody>\n",
       "</table>\n",
       "</div>"
      ],
      "text/plain": [
       "       QT_VENDA_BRUTO   QT_DEVOLUCAO  VL_RECEITA_BRUTA  VL_RECEITA_LIQUIDA  \\\n",
       "count    1.739230e+05  173923.000000      1.739230e+05        1.739230e+05   \n",
       "mean     1.050377e+04     246.472968      6.475499e+05        6.421887e+05   \n",
       "std      3.327551e+04     567.751683      2.790452e+06        2.780483e+06   \n",
       "min      2.345454e+02       0.000000      2.340600e+02        2.340600e+02   \n",
       "25%      3.960000e+02       0.000000      6.369720e+03        6.273450e+03   \n",
       "50%      2.070000e+03     234.000000      6.738048e+04        6.663558e+04   \n",
       "75%      8.634000e+03     270.000000      3.468348e+05        3.427422e+05   \n",
       "max      1.865862e+06   31662.000000      2.292459e+08        2.292459e+08   \n",
       "\n",
       "        PCT_DESCONTO       VL_PRECO  \n",
       "count  173923.000000  173923.000000  \n",
       "mean        6.607484     543.703809  \n",
       "std        11.019168     243.974723  \n",
       "min         0.000000     234.060000  \n",
       "25%         0.000000     389.400000  \n",
       "50%         0.000000     461.400000  \n",
       "75%        15.000000     593.400000  \n",
       "max        35.000000    5539.620000  "
      ]
     },
     "execution_count": 22,
     "metadata": {},
     "output_type": "execute_result"
    }
   ],
   "source": [
    "data[quanti_features].describe()"
   ]
  },
  {
   "cell_type": "markdown",
   "id": "1fa2515e-59ff-4459-b4fb-31117043e8c0",
   "metadata": {},
   "source": [
    "No _output_ acima é possível observar que tais variáveis possuem escalas diferentes entre sim. Por exemplo, o valor máximo da variável `QT_VENDA_BRUTO` é igual a 31662, enquanto que o valor máximo da variável `VL_PRECO` é igual a 5539.62. Dessa forma, torna-se fundamental aplicar alguma ténica de _padronização_ antes de estimar algum modelo."
   ]
  },
  {
   "cell_type": "markdown",
   "id": "2be4d659-6905-4750-8392-4d32f3bfafaf",
   "metadata": {},
   "source": [
    "#### Análise de Correlação\n",
    "\n",
    "A análise de correlação pode ser aplicada exclusivamente em variáveis quantitativas e tem como objetivo investigar as possíveis relações lineares entre as variáveis presentes em um conjunto de dados. Seu valor varia de -1 até +1, onde -1 corresponde a uma correlação negativa perfeita, +1 corresponde a uma correlação positiva perfeita, e 0 implica que não existe relação entre os dados explorados.\n",
    "\n",
    "Essa técnica é útil para análisar se existe alguma relação entre as variáveis _explicativas_ e a variável _dependente_."
   ]
  },
  {
   "cell_type": "code",
   "execution_count": 23,
   "id": "076d832b-4a29-4d4b-b41e-2b8cc4087eb9",
   "metadata": {
    "tags": []
   },
   "outputs": [
    {
     "data": {
      "image/png": "[encoded data removed]",
      "text/plain": [
       "<Figure size 864x288 with 2 Axes>"
      ]
     },
     "metadata": {
      "needs_background": "light"
     },
     "output_type": "display_data"
    }
   ],
   "source": [
    "# Criando e plotando a matriz de correlação\n",
    "corr_matrix = data[quanti_features].corr()\n",
    "\n",
    "fig, ax = plt.subplots(figsize = (12,4))\n",
    "sns.heatmap(corr_matrix, annot=True, cmap='coolwarm')\n",
    "plt.show()"
   ]
  },
  {
   "cell_type": "markdown",
   "id": "59b11125-ea13-40e3-9383-1d4358ccebfb",
   "metadata": {},
   "source": [
    "Na matriz acima é possível observar que não existe correlação significativa entre a variável `VL_PRECO` (TARGET) e as demais variáveis, indicando que não existe uma relação linear entre tais variáveis. No entanto, é possível observar casos de _multicolinearidade_, onde as variáveis `VL_RECEITA_BRUTA`, `VL_RECEITA_LIQUIDA` e `QT_VENDA_BRUTO` possuem uma alta correlação entre si, devido as suas naturezas, e não possuem correlação com a variável TARGET.\n",
    "\n",
    "A ausência de uma relação linear entre as variáveis _explicativas_ e a variável _dependente_ fica ainda mais clara quando visualizamos os _plots_ abaixo. Dessa forma, é possível concluir que será necessário utilizar modelos não lineares para encontrar uma relação capaz de explicar o comportamento da variável `VL_PRECO` em função das demais variáveis."
   ]
  },
  {
   "cell_type": "code",
   "execution_count": 24,
   "id": "a1b60bdb-e232-4b23-84df-d6234a4464d0",
   "metadata": {
    "tags": []
   },
   "outputs": [
    {
     "data": {
      "image/png": "[encoded data removed]",
      "text/plain": [
       "<Figure size 1080x1080 with 42 Axes>"
      ]
     },
     "metadata": {
      "needs_background": "light"
     },
     "output_type": "display_data"
    }
   ],
   "source": [
    "sns.pairplot(data[quanti_features].sample(frac=0.10))\n",
    "plt.show()"
   ]
  },
  {
   "cell_type": "markdown",
   "id": "d9d05bee-e25e-42ac-9a4d-8ecf0e48eaa4",
   "metadata": {},
   "source": [
    "### Variável TARGET (\"VL_PRECO\")"
   ]
  },
  {
   "cell_type": "markdown",
   "id": "61728bb8-b711-4269-9d69-818002d8781d",
   "metadata": {},
   "source": [
    "Antes de aprofundarmos a análise, também é importante analisar isoladamente a variável TARGET para tentar entender seu comportamento de forma mais clara.\n",
    "\n",
    "Sendo assim, as células abaixo possuem como objetivo principal visualizar a distribuição de tal variável e analisar seu comportamento."
   ]
  },
  {
   "cell_type": "code",
   "execution_count": 26,
   "id": "f7258842-f533-4c6b-a646-26ab87abfd75",
   "metadata": {
    "tags": []
   },
   "outputs": [
    {
     "data": {
      "text/plain": [
       "count    173923.000000\n",
       "mean        543.703809\n",
       "std         243.974723\n",
       "min         234.060000\n",
       "25%         389.400000\n",
       "50%         461.400000\n",
       "75%         593.400000\n",
       "max        5539.620000\n",
       "Name: VL_PRECO, dtype: float64"
      ]
     },
     "execution_count": 26,
     "metadata": {},
     "output_type": "execute_result"
    }
   ],
   "source": [
    "data[\"VL_PRECO\"].describe()"
   ]
  },
  {
   "cell_type": "markdown",
   "id": "7ba25bc5-bed9-4f9c-9c65-fab59994ea74",
   "metadata": {},
   "source": [
    "#### Distribuição de Valores"
   ]
  },
  {
   "cell_type": "code",
   "execution_count": 28,
   "id": "136af2a3-cda8-46c1-a11a-f0613c59c5de",
   "metadata": {
    "tags": []
   },
   "outputs": [
    {
     "data": {
      "image/png": "[encoded data removed]",
      "text/plain": [
       "<Figure size 864x288 with 1 Axes>"
      ]
     },
     "metadata": {
      "needs_background": "light"
     },
     "output_type": "display_data"
    }
   ],
   "source": [
    "fig, ax = plt.subplots(figsize = (12,4))\n",
    "sns.histplot(data[\"VL_PRECO\"], kde=True)\n",
    "plt.show()"
   ]
  },
  {
   "cell_type": "markdown",
   "id": "3893fed3-5145-4676-88a6-674e534daffe",
   "metadata": {},
   "source": [
    "É possível observar no gráfico de distribuição acima que existem alguns _outliers_ (valores extremos) em tal variável. “Um outlier é uma observação que se diferencia tanto das demais observações que levanta suspeitas de que aquela observação foi gerada por um mecanismo distinto” (Hawkins, 1980), em outras palavras os outliers são dados que se distanciam radicalmente de todos os outros. São pontos fora da curva normal, valores que fogem da normalidade e que podem causar desequilíbrio nos resultados obtidos.\n",
    "\n",
    "Dependendo da natureza desse tipo de dado, a modelagem do modelo pode ser impactada negativamente. Sendo assim, caso se mostre necessário, será preciso realizar uma análise mais detalhada para lidar adequadamente com esses valores.\n",
    "\n",
    "Por ora, optarei por visualizar os dados em um _boxplot_ sem omitir os _outliers_."
   ]
  },
  {
   "cell_type": "markdown",
   "id": "c71c02b3-8771-4fd7-8a11-f1d3840cdbf5",
   "metadata": {},
   "source": [
    "#### Visualizando Outliers"
   ]
  },
  {
   "cell_type": "code",
   "execution_count": 168,
   "id": "37904f26-85b9-4faa-8961-310d77a5c3dd",
   "metadata": {
    "tags": []
   },
   "outputs": [
    {
     "data": {
      "image/png": "[encoded data removed]",
      "text/plain": [
       "<Figure size 864x288 with 1 Axes>"
      ]
     },
     "metadata": {
      "needs_background": "light"
     },
     "output_type": "display_data"
    }
   ],
   "source": [
    "fig, ax = plt.subplots(figsize=(12,4))\n",
    "sns.boxplot(data[\"VL_PRECO\"])\n",
    "plt.show()"
   ]
  },
  {
   "cell_type": "markdown",
   "id": "18e5d97b-e692-48eb-81bf-5a2f838213b0",
   "metadata": {},
   "source": [
    "#### Distribuição de Valores (Com Filtro)"
   ]
  },
  {
   "cell_type": "markdown",
   "id": "a593b8d9-9227-4c72-ad2f-a7d0bd93ecd1",
   "metadata": {},
   "source": [
    "O _plot_ abaixo ilustra a distribuição da variável TARGET com um filtro aplicado (valores < 1000). "
   ]
  },
  {
   "cell_type": "code",
   "execution_count": 30,
   "id": "e14e2977-4d51-417d-9805-7df419298088",
   "metadata": {
    "tags": []
   },
   "outputs": [
    {
     "data": {
      "image/png": "[encoded data removed]",
      "text/plain": [
       "<Figure size 864x288 with 1 Axes>"
      ]
     },
     "metadata": {
      "needs_background": "light"
     },
     "output_type": "display_data"
    }
   ],
   "source": [
    "fig, ax = plt.subplots(figsize = (12,4))\n",
    "sns.histplot(data.loc[data[\"VL_PRECO\"] < 1000][\"VL_PRECO\"], kde=True)\n",
    "plt.show()"
   ]
  },
  {
   "cell_type": "markdown",
   "id": "c72cc10d-61de-4cac-a3d1-0a1a1ab42c1a",
   "metadata": {
    "tags": []
   },
   "source": [
    "Através do _plot_ acima, podemos concluir o seguinte:\n",
    "- A distribuição dos dados não é aderente a uma distribuição normal;\n",
    "- Trata-se de uma distribuição assimetricamente positiva.\n",
    "\n",
    "Essas conclusões reforçam mais ainda a necessidade de utilizar um modelo não linear para explicar a variável dependente."
   ]
  },
  {
   "cell_type": "markdown",
   "id": "40a8f17f-4244-47be-80de-d066283a1f7e",
   "metadata": {},
   "source": [
    "# Variáveis Qualitativas"
   ]
  },
  {
   "cell_type": "markdown",
   "id": "a0b094b9-b335-4174-b6a2-5f359f33ed51",
   "metadata": {},
   "source": [
    "Agora chegou o momento de analisarmos as 12 variáveis qualitativas presentes no conjunto de dados. Como estamos lidando com um problema de regressão, no qual queremos estimar uma variável contínua, será necessário aplicar algum tipo de transformação, como operações _dummy_, nessas variáveis antes de estimarmos algum modelo.\n",
    "\n",
    "Contudo, antes de realizar qualquer transformação, é importante analisarmos o comportamento dos dados."
   ]
  },
  {
   "cell_type": "markdown",
   "id": "0af01674-fd87-4508-9079-6eba95ac12f3",
   "metadata": {},
   "source": [
    "## Pré-processamento"
   ]
  },
  {
   "cell_type": "code",
   "execution_count": 37,
   "id": "e520c72f-5ed6-4799-ae8d-4c93696baa33",
   "metadata": {
    "tags": []
   },
   "outputs": [],
   "source": [
    "# Separando variáveis qualitativas\n",
    "quali_features = list(data_dict.loc[data_dict['Tipo Variável'].isin(['Ordinal', 'FLAG', 'Categórica'])]['Feature'].values)\n",
    "quali_features[1] = \"FLG_DATA\""
   ]
  },
  {
   "cell_type": "code",
   "execution_count": 38,
   "id": "95592681-3bbb-4e08-9c11-14765dd30244",
   "metadata": {
    "tags": []
   },
   "outputs": [
    {
     "data": {
      "text/plain": [
       "['COD_CICLO',\n",
       " 'FLG_DATA',\n",
       " 'COD_MATERIAL',\n",
       " 'COD_CANAL',\n",
       " 'DES_CATEGORIA_MATERIAL',\n",
       " 'DES_MARCA_MATERIAL',\n",
       " 'COD_REGIAO',\n",
       " 'FLG_CAMPANHA_MKT_A',\n",
       " 'FLG_CAMPANHA_MKT_B',\n",
       " 'FLG_CAMPANHA_MKT_C',\n",
       " 'FLG_CAMPANHA_MKT_D',\n",
       " 'FLG_CAMPANHA_MKT_E']"
      ]
     },
     "execution_count": 38,
     "metadata": {},
     "output_type": "execute_result"
    }
   ],
   "source": [
    "quali_features"
   ]
  },
  {
   "cell_type": "code",
   "execution_count": 39,
   "id": "914a862e-e2c0-4f81-9637-74f39df6dbab",
   "metadata": {
    "tags": []
   },
   "outputs": [],
   "source": [
    "# Atribuindo o tipo correto às variáveis qualitativas\n",
    "data[quali_features] = data[quali_features].astype(\"object\")"
   ]
  },
  {
   "cell_type": "markdown",
   "id": "d28273a6-808a-410e-9c9b-0aa316f6f808",
   "metadata": {},
   "source": [
    "## Análise das Variáveis"
   ]
  },
  {
   "cell_type": "markdown",
   "id": "e2fa3889-425d-453a-a483-ff8b724219d2",
   "metadata": {},
   "source": [
    "### Análise Descritiva"
   ]
  },
  {
   "cell_type": "code",
   "execution_count": 42,
   "id": "01932eb6-0cd0-4431-9d0a-63f09473eda2",
   "metadata": {
    "tags": []
   },
   "outputs": [
    {
     "data": {
      "text/html": [
       "<div>\n",
       "<style scoped>\n",
       "    .dataframe tbody tr th:only-of-type {\n",
       "        vertical-align: middle;\n",
       "    }\n",
       "\n",
       "    .dataframe tbody tr th {\n",
       "        vertical-align: top;\n",
       "    }\n",
       "\n",
       "    .dataframe thead th {\n",
       "        text-align: right;\n",
       "    }\n",
       "</style>\n",
       "<table border=\"1\" class=\"dataframe\">\n",
       "  <thead>\n",
       "    <tr style=\"text-align: right;\">\n",
       "      <th></th>\n",
       "      <th>COD_CICLO</th>\n",
       "      <th>FLG_DATA</th>\n",
       "      <th>COD_MATERIAL</th>\n",
       "      <th>COD_CANAL</th>\n",
       "      <th>DES_CATEGORIA_MATERIAL</th>\n",
       "      <th>DES_MARCA_MATERIAL</th>\n",
       "      <th>COD_REGIAO</th>\n",
       "      <th>FLG_CAMPANHA_MKT_A</th>\n",
       "      <th>FLG_CAMPANHA_MKT_B</th>\n",
       "      <th>FLG_CAMPANHA_MKT_C</th>\n",
       "      <th>FLG_CAMPANHA_MKT_D</th>\n",
       "      <th>FLG_CAMPANHA_MKT_E</th>\n",
       "    </tr>\n",
       "  </thead>\n",
       "  <tbody>\n",
       "    <tr>\n",
       "      <th>count</th>\n",
       "      <td>173923</td>\n",
       "      <td>173923</td>\n",
       "      <td>173923</td>\n",
       "      <td>173923</td>\n",
       "      <td>173923</td>\n",
       "      <td>173923</td>\n",
       "      <td>173923</td>\n",
       "      <td>173923</td>\n",
       "      <td>173923</td>\n",
       "      <td>173923</td>\n",
       "      <td>173923</td>\n",
       "      <td>173923</td>\n",
       "    </tr>\n",
       "    <tr>\n",
       "      <th>unique</th>\n",
       "      <td>53</td>\n",
       "      <td>2</td>\n",
       "      <td>2252</td>\n",
       "      <td>2</td>\n",
       "      <td>6</td>\n",
       "      <td>85</td>\n",
       "      <td>2</td>\n",
       "      <td>2</td>\n",
       "      <td>2</td>\n",
       "      <td>2</td>\n",
       "      <td>2</td>\n",
       "      <td>1</td>\n",
       "    </tr>\n",
       "    <tr>\n",
       "      <th>top</th>\n",
       "      <td>202101</td>\n",
       "      <td>0</td>\n",
       "      <td>425172</td>\n",
       "      <td>anon_S0</td>\n",
       "      <td>anon_S2</td>\n",
       "      <td>anon_S8</td>\n",
       "      <td>anon_S1</td>\n",
       "      <td>0</td>\n",
       "      <td>0</td>\n",
       "      <td>0</td>\n",
       "      <td>0</td>\n",
       "      <td>0</td>\n",
       "    </tr>\n",
       "    <tr>\n",
       "      <th>freq</th>\n",
       "      <td>3708</td>\n",
       "      <td>123621</td>\n",
       "      <td>212</td>\n",
       "      <td>87164</td>\n",
       "      <td>44292</td>\n",
       "      <td>35297</td>\n",
       "      <td>87700</td>\n",
       "      <td>170974</td>\n",
       "      <td>125331</td>\n",
       "      <td>165937</td>\n",
       "      <td>161230</td>\n",
       "      <td>173923</td>\n",
       "    </tr>\n",
       "  </tbody>\n",
       "</table>\n",
       "</div>"
      ],
      "text/plain": [
       "        COD_CICLO  FLG_DATA  COD_MATERIAL COD_CANAL DES_CATEGORIA_MATERIAL  \\\n",
       "count      173923    173923        173923    173923                 173923   \n",
       "unique         53         2          2252         2                      6   \n",
       "top        202101         0        425172   anon_S0                anon_S2   \n",
       "freq         3708    123621           212     87164                  44292   \n",
       "\n",
       "       DES_MARCA_MATERIAL COD_REGIAO  FLG_CAMPANHA_MKT_A  FLG_CAMPANHA_MKT_B  \\\n",
       "count              173923     173923              173923              173923   \n",
       "unique                 85          2                   2                   2   \n",
       "top               anon_S8    anon_S1                   0                   0   \n",
       "freq                35297      87700              170974              125331   \n",
       "\n",
       "        FLG_CAMPANHA_MKT_C  FLG_CAMPANHA_MKT_D  FLG_CAMPANHA_MKT_E  \n",
       "count               173923              173923              173923  \n",
       "unique                   2                   2                   1  \n",
       "top                      0                   0                   0  \n",
       "freq                165937              161230              173923  "
      ]
     },
     "execution_count": 42,
     "metadata": {},
     "output_type": "execute_result"
    }
   ],
   "source": [
    "data[quali_features].describe()"
   ]
  },
  {
   "cell_type": "markdown",
   "id": "ac0eb1e3-c183-4032-b4e1-b612fe9a087b",
   "metadata": {},
   "source": [
    "### Teste Estatístico X²"
   ]
  },
  {
   "cell_type": "markdown",
   "id": "f6b73889-5364-4fb1-8e9e-f12e670e2043",
   "metadata": {},
   "source": [
    "Assim como podemos analisar a correlação entre variáveis quantitativas, também é possível realizar uma análise análoga em variáveis quantitativas efetuando uma análise de correspondência. No entanto, antes de realizar esse tipo de análise, é importante verificar se existe alguma associação entre as variáveis quantitativas em questão.\n",
    "\n",
    "Para isso, é possível utilizar o teste estatístico _X²_ para variáveis qualitativas, o qual verifica se a frequência com que um determinado acontecimento observado em uma amostra se desvia significativamente ou não da frequência com que ele é esperado. Em outras palavras, o teste verificar se existe ou não associação entre pares de variáveis categóricas."
   ]
  },
  {
   "cell_type": "code",
   "execution_count": 44,
   "id": "e4cccd4d-7c90-4283-b19b-952439071971",
   "metadata": {
    "tags": []
   },
   "outputs": [],
   "source": [
    "# Analisando variáveis qualitativas e selecionando apenas pares estatisticamente significantes\n",
    "significant_cols = []\n",
    "for item in list(combinations(quali_features, 2)):\n",
    "    # print(item, \"\\n\")\n",
    "    table = pd.crosstab(data[item[0]], data[item[1]])\n",
    "    \n",
    "    # print(f\"{item[0]} x {item[1]}\")\n",
    "    \n",
    "    chi2, pvalue, gl, freq_esp = chi2_contingency(table)\n",
    "\n",
    "    # print(f\"estatística qui²: {round(chi2, 2)}\")\n",
    "    # print(f\"p-valor da estatística: {round(pvalue, 4)}\", \"\\n\")\n",
    "    \n",
    "    if pvalue <= 0.05:\n",
    "        if item[0] not in significant_cols:\n",
    "            significant_cols.append(item[0])\n",
    "            \n",
    "        if item[1] not in significant_cols:   \n",
    "            significant_cols.append(item[1])"
   ]
  },
  {
   "cell_type": "code",
   "execution_count": 45,
   "id": "ae5ab4cf-26d8-45b7-a4fe-4bedb789729a",
   "metadata": {
    "tags": []
   },
   "outputs": [
    {
     "data": {
      "text/plain": [
       "['COD_CICLO',\n",
       " 'FLG_DATA',\n",
       " 'COD_MATERIAL',\n",
       " 'DES_CATEGORIA_MATERIAL',\n",
       " 'DES_MARCA_MATERIAL',\n",
       " 'FLG_CAMPANHA_MKT_A',\n",
       " 'FLG_CAMPANHA_MKT_B',\n",
       " 'FLG_CAMPANHA_MKT_C',\n",
       " 'FLG_CAMPANHA_MKT_D',\n",
       " 'COD_CANAL',\n",
       " 'COD_REGIAO']"
      ]
     },
     "execution_count": 45,
     "metadata": {},
     "output_type": "execute_result"
    }
   ],
   "source": [
    "significant_cols"
   ]
  },
  {
   "cell_type": "markdown",
   "id": "e48d47c6-1506-4e44-a164-cc9468f35361",
   "metadata": {},
   "source": [
    "Acima estão ilustradas as variáveis qualitativas que apresentaram associação com pelo menos uma outra variável do conjunto de dados. Sendo assim, utilizaremos apenas essas variáveis durante a análise de correspondência."
   ]
  },
  {
   "cell_type": "markdown",
   "id": "cb74cbaf-cc7c-4478-ac65-08af62c03b59",
   "metadata": {},
   "source": [
    "### Análise de Correspondência Múltipla (MCA)"
   ]
  },
  {
   "cell_type": "markdown",
   "id": "6a038d0c-311e-418b-8b51-97e4cb6c0771",
   "metadata": {},
   "source": [
    "A análise de correspondência múltipla tem como objetivo verificar a associação entre variáveis e também identificar a proximidade dessas variáveis em um mapa perceptual. Esse tipo de análise não influência a escolha de um modelo de regressão ou sua modelagem, visto que, estou analisando apenas as variáveis qualitativas e suas relações entre si, excluindo a variável TARGET.\n",
    "\n",
    "No entanto, é interessante realizar esse tipo de análise para conhecer melhor os dados."
   ]
  },
  {
   "cell_type": "code",
   "execution_count": 47,
   "id": "a3087f57-57ce-4354-92b1-61e32f506ea9",
   "metadata": {
    "tags": []
   },
   "outputs": [],
   "source": [
    "mca = prince.MCA(n_components=len(significant_cols)).fit(data[significant_cols])"
   ]
  },
  {
   "cell_type": "code",
   "execution_count": 48,
   "id": "5d2a0833-a166-4b6c-bfd0-69e8346db2fb",
   "metadata": {
    "tags": []
   },
   "outputs": [],
   "source": [
    "eigenvalues_table = mca.eigenvalues_summary"
   ]
  },
  {
   "cell_type": "code",
   "execution_count": 49,
   "id": "1523cfed-fe05-4c41-9e7b-9a0d961c3187",
   "metadata": {
    "tags": []
   },
   "outputs": [
    {
     "data": {
      "text/html": [
       "<div>\n",
       "<style scoped>\n",
       "    .dataframe tbody tr th:only-of-type {\n",
       "        vertical-align: middle;\n",
       "    }\n",
       "\n",
       "    .dataframe tbody tr th {\n",
       "        vertical-align: top;\n",
       "    }\n",
       "\n",
       "    .dataframe thead th {\n",
       "        text-align: right;\n",
       "    }\n",
       "</style>\n",
       "<table border=\"1\" class=\"dataframe\">\n",
       "  <thead>\n",
       "    <tr style=\"text-align: right;\">\n",
       "      <th></th>\n",
       "      <th>eigenvalue</th>\n",
       "      <th>% of variance</th>\n",
       "      <th>% of variance (cumulative)</th>\n",
       "    </tr>\n",
       "    <tr>\n",
       "      <th>component</th>\n",
       "      <th></th>\n",
       "      <th></th>\n",
       "      <th></th>\n",
       "    </tr>\n",
       "  </thead>\n",
       "  <tbody>\n",
       "    <tr>\n",
       "      <th>0</th>\n",
       "      <td>0.260</td>\n",
       "      <td>0.12%</td>\n",
       "      <td>0.12%</td>\n",
       "    </tr>\n",
       "    <tr>\n",
       "      <th>1</th>\n",
       "      <td>0.232</td>\n",
       "      <td>0.11%</td>\n",
       "      <td>0.23%</td>\n",
       "    </tr>\n",
       "    <tr>\n",
       "      <th>2</th>\n",
       "      <td>0.215</td>\n",
       "      <td>0.10%</td>\n",
       "      <td>0.32%</td>\n",
       "    </tr>\n",
       "    <tr>\n",
       "      <th>3</th>\n",
       "      <td>0.207</td>\n",
       "      <td>0.10%</td>\n",
       "      <td>0.42%</td>\n",
       "    </tr>\n",
       "    <tr>\n",
       "      <th>4</th>\n",
       "      <td>0.198</td>\n",
       "      <td>0.09%</td>\n",
       "      <td>0.51%</td>\n",
       "    </tr>\n",
       "    <tr>\n",
       "      <th>5</th>\n",
       "      <td>0.186</td>\n",
       "      <td>0.09%</td>\n",
       "      <td>0.60%</td>\n",
       "    </tr>\n",
       "    <tr>\n",
       "      <th>6</th>\n",
       "      <td>0.184</td>\n",
       "      <td>0.08%</td>\n",
       "      <td>0.68%</td>\n",
       "    </tr>\n",
       "    <tr>\n",
       "      <th>7</th>\n",
       "      <td>0.182</td>\n",
       "      <td>0.08%</td>\n",
       "      <td>0.76%</td>\n",
       "    </tr>\n",
       "    <tr>\n",
       "      <th>8</th>\n",
       "      <td>0.182</td>\n",
       "      <td>0.08%</td>\n",
       "      <td>0.85%</td>\n",
       "    </tr>\n",
       "    <tr>\n",
       "      <th>9</th>\n",
       "      <td>0.182</td>\n",
       "      <td>0.08%</td>\n",
       "      <td>0.93%</td>\n",
       "    </tr>\n",
       "    <tr>\n",
       "      <th>10</th>\n",
       "      <td>0.182</td>\n",
       "      <td>0.08%</td>\n",
       "      <td>1.01%</td>\n",
       "    </tr>\n",
       "  </tbody>\n",
       "</table>\n",
       "</div>"
      ],
      "text/plain": [
       "          eigenvalue % of variance % of variance (cumulative)\n",
       "component                                                    \n",
       "0              0.260         0.12%                      0.12%\n",
       "1              0.232         0.11%                      0.23%\n",
       "2              0.215         0.10%                      0.32%\n",
       "3              0.207         0.10%                      0.42%\n",
       "4              0.198         0.09%                      0.51%\n",
       "5              0.186         0.09%                      0.60%\n",
       "6              0.184         0.08%                      0.68%\n",
       "7              0.182         0.08%                      0.76%\n",
       "8              0.182         0.08%                      0.85%\n",
       "9              0.182         0.08%                      0.93%\n",
       "10             0.182         0.08%                      1.01%"
      ]
     },
     "execution_count": 49,
     "metadata": {},
     "output_type": "execute_result"
    }
   ],
   "source": [
    "eigenvalues_table"
   ]
  },
  {
   "cell_type": "markdown",
   "id": "eefc08c0-26e1-4b00-ad5b-1341dc3fd7f2",
   "metadata": {},
   "source": [
    "A tabela acima ilustra o percentual de variância que cada fator/componente armazena. No cenário acima, cada fator representa uma variável qualitativa do conjunto de dados e, caso fosse necessário diminuir o número de variáveis, poderíamos utilizar o percentual de variância acumulada para definir quantos fatores (variáveis) utilizar numa análise final.\n",
    "\n",
    "Como nenhum dos componentes armazena variância de forma significativa para explicar os dados, devido a presença de outras variáveis (quantitativas) no conjunto de dados, nenhuma variável qualitativa será descartada. Além disso, como existe um número considerável de categórias, não realizarei o _plot_ do mapa perceptual."
   ]
  },
  {
   "cell_type": "code",
   "execution_count": 50,
   "id": "894a550f-692c-4d5b-b907-5dbb686c8370",
   "metadata": {
    "tags": []
   },
   "outputs": [],
   "source": [
    "obs_coords = mca.row_coordinates(data[significant_cols])"
   ]
  },
  {
   "cell_type": "code",
   "execution_count": 51,
   "id": "a34b2a74-3d42-46b0-aa8a-b45eba337858",
   "metadata": {
    "tags": []
   },
   "outputs": [],
   "source": [
    "obs_coords[\"VL_PRECO\"] = data[\"VL_PRECO\"]"
   ]
  },
  {
   "cell_type": "code",
   "execution_count": 52,
   "id": "35cd851d-080d-4c5f-910b-204039a9fcd3",
   "metadata": {
    "tags": []
   },
   "outputs": [
    {
     "data": {
      "image/png": "[encoded data removed]",
      "text/plain": [
       "<Figure size 864x288 with 1 Axes>"
      ]
     },
     "metadata": {
      "needs_background": "light"
     },
     "output_type": "display_data"
    }
   ],
   "source": [
    "fig, ax = plt.subplots(figsize = (12,4))\n",
    "sns.scatterplot(data=obs_coords, x=0, y=1, hue='VL_PRECO', s=20)\n",
    "plt.title(\"Mapa das Observações - MCA\", fontsize=12)\n",
    "plt.xlabel(\"Dimensão 1\", fontsize=8)\n",
    "plt.ylabel(\"Dimensão 2\", fontsize=8)\n",
    "plt.show()"
   ]
  },
  {
   "cell_type": "markdown",
   "id": "b9af5a1a-7ca8-4e95-8705-930b1ce5e835",
   "metadata": {},
   "source": [
    "O _plot_ acima foi feito com base nas coordenadas espaciais geradas para cada variável qualitativa presente no conjunto de dados utilizando a MCA. Esse tipo de técnica é util quando queremos converter variáveis qualitativas em variáveis quantitativas sem cometer ponderação arbitrária."
   ]
  },
  {
   "cell_type": "code",
   "execution_count": 53,
   "id": "9fd002b5-666a-42b6-b1d6-57e0903c6104",
   "metadata": {
    "tags": []
   },
   "outputs": [
    {
     "data": {
      "text/html": [
       "<div>\n",
       "<style scoped>\n",
       "    .dataframe tbody tr th:only-of-type {\n",
       "        vertical-align: middle;\n",
       "    }\n",
       "\n",
       "    .dataframe tbody tr th {\n",
       "        vertical-align: top;\n",
       "    }\n",
       "\n",
       "    .dataframe thead th {\n",
       "        text-align: right;\n",
       "    }\n",
       "</style>\n",
       "<table border=\"1\" class=\"dataframe\">\n",
       "  <thead>\n",
       "    <tr style=\"text-align: right;\">\n",
       "      <th></th>\n",
       "      <th>COD_CICLO</th>\n",
       "      <th>FLG_DATA</th>\n",
       "      <th>COD_MATERIAL</th>\n",
       "      <th>DES_CATEGORIA_MATERIAL</th>\n",
       "      <th>DES_MARCA_MATERIAL</th>\n",
       "      <th>FLG_CAMPANHA_MKT_A</th>\n",
       "      <th>FLG_CAMPANHA_MKT_B</th>\n",
       "      <th>FLG_CAMPANHA_MKT_C</th>\n",
       "      <th>FLG_CAMPANHA_MKT_D</th>\n",
       "      <th>COD_CANAL</th>\n",
       "      <th>COD_REGIAO</th>\n",
       "      <th>VL_PRECO</th>\n",
       "    </tr>\n",
       "  </thead>\n",
       "  <tbody>\n",
       "    <tr>\n",
       "      <th>0</th>\n",
       "      <td>-0.055947</td>\n",
       "      <td>-0.659821</td>\n",
       "      <td>0.194551</td>\n",
       "      <td>0.222322</td>\n",
       "      <td>0.208142</td>\n",
       "      <td>-1.345467</td>\n",
       "      <td>0.056281</td>\n",
       "      <td>-0.451179</td>\n",
       "      <td>0.160428</td>\n",
       "      <td>0.444923</td>\n",
       "      <td>0.288069</td>\n",
       "      <td>455.40</td>\n",
       "    </tr>\n",
       "    <tr>\n",
       "      <th>1</th>\n",
       "      <td>-0.072017</td>\n",
       "      <td>-0.591647</td>\n",
       "      <td>0.309597</td>\n",
       "      <td>0.177047</td>\n",
       "      <td>-0.129282</td>\n",
       "      <td>-0.002650</td>\n",
       "      <td>0.148204</td>\n",
       "      <td>-0.253743</td>\n",
       "      <td>-0.963298</td>\n",
       "      <td>-0.210100</td>\n",
       "      <td>-0.024975</td>\n",
       "      <td>773.40</td>\n",
       "    </tr>\n",
       "    <tr>\n",
       "      <th>2</th>\n",
       "      <td>-0.364362</td>\n",
       "      <td>0.138583</td>\n",
       "      <td>-0.398935</td>\n",
       "      <td>-0.206433</td>\n",
       "      <td>0.014308</td>\n",
       "      <td>-0.239907</td>\n",
       "      <td>0.119946</td>\n",
       "      <td>-0.032368</td>\n",
       "      <td>0.047982</td>\n",
       "      <td>-0.056761</td>\n",
       "      <td>0.274415</td>\n",
       "      <td>341.40</td>\n",
       "    </tr>\n",
       "    <tr>\n",
       "      <th>3</th>\n",
       "      <td>0.151242</td>\n",
       "      <td>-0.685267</td>\n",
       "      <td>-0.019091</td>\n",
       "      <td>0.179393</td>\n",
       "      <td>0.140299</td>\n",
       "      <td>0.143472</td>\n",
       "      <td>-0.007871</td>\n",
       "      <td>0.098803</td>\n",
       "      <td>-0.039077</td>\n",
       "      <td>0.066023</td>\n",
       "      <td>-0.045462</td>\n",
       "      <td>450.90</td>\n",
       "    </tr>\n",
       "    <tr>\n",
       "      <th>4</th>\n",
       "      <td>-0.344064</td>\n",
       "      <td>0.202896</td>\n",
       "      <td>-0.582630</td>\n",
       "      <td>-0.164437</td>\n",
       "      <td>0.319019</td>\n",
       "      <td>-0.314917</td>\n",
       "      <td>-0.326729</td>\n",
       "      <td>-0.292140</td>\n",
       "      <td>-0.085841</td>\n",
       "      <td>0.142287</td>\n",
       "      <td>0.098559</td>\n",
       "      <td>431.40</td>\n",
       "    </tr>\n",
       "    <tr>\n",
       "      <th>...</th>\n",
       "      <td>...</td>\n",
       "      <td>...</td>\n",
       "      <td>...</td>\n",
       "      <td>...</td>\n",
       "      <td>...</td>\n",
       "      <td>...</td>\n",
       "      <td>...</td>\n",
       "      <td>...</td>\n",
       "      <td>...</td>\n",
       "      <td>...</td>\n",
       "      <td>...</td>\n",
       "      <td>...</td>\n",
       "    </tr>\n",
       "    <tr>\n",
       "      <th>173918</th>\n",
       "      <td>-0.321769</td>\n",
       "      <td>0.158051</td>\n",
       "      <td>-0.356330</td>\n",
       "      <td>-0.282127</td>\n",
       "      <td>0.034865</td>\n",
       "      <td>-0.786104</td>\n",
       "      <td>0.222065</td>\n",
       "      <td>-0.234849</td>\n",
       "      <td>0.144142</td>\n",
       "      <td>-0.324168</td>\n",
       "      <td>0.545133</td>\n",
       "      <td>389.40</td>\n",
       "    </tr>\n",
       "    <tr>\n",
       "      <th>173919</th>\n",
       "      <td>0.092103</td>\n",
       "      <td>-0.665388</td>\n",
       "      <td>-0.069543</td>\n",
       "      <td>0.175638</td>\n",
       "      <td>-0.603569</td>\n",
       "      <td>0.004296</td>\n",
       "      <td>0.294851</td>\n",
       "      <td>-0.056642</td>\n",
       "      <td>0.130939</td>\n",
       "      <td>-0.024694</td>\n",
       "      <td>0.006998</td>\n",
       "      <td>490.32</td>\n",
       "    </tr>\n",
       "    <tr>\n",
       "      <th>173920</th>\n",
       "      <td>-0.348925</td>\n",
       "      <td>0.229932</td>\n",
       "      <td>0.331334</td>\n",
       "      <td>-0.282236</td>\n",
       "      <td>-0.006707</td>\n",
       "      <td>-0.096436</td>\n",
       "      <td>0.224890</td>\n",
       "      <td>0.126754</td>\n",
       "      <td>0.569380</td>\n",
       "      <td>0.044667</td>\n",
       "      <td>-0.432451</td>\n",
       "      <td>724.38</td>\n",
       "    </tr>\n",
       "    <tr>\n",
       "      <th>173921</th>\n",
       "      <td>-0.150233</td>\n",
       "      <td>-0.324689</td>\n",
       "      <td>-0.088707</td>\n",
       "      <td>-0.002923</td>\n",
       "      <td>-0.227400</td>\n",
       "      <td>0.062038</td>\n",
       "      <td>-0.086054</td>\n",
       "      <td>0.098047</td>\n",
       "      <td>0.517253</td>\n",
       "      <td>0.044721</td>\n",
       "      <td>-0.433623</td>\n",
       "      <td>491.40</td>\n",
       "    </tr>\n",
       "    <tr>\n",
       "      <th>173922</th>\n",
       "      <td>-0.432583</td>\n",
       "      <td>0.466296</td>\n",
       "      <td>-0.513400</td>\n",
       "      <td>0.028841</td>\n",
       "      <td>-0.013862</td>\n",
       "      <td>0.276208</td>\n",
       "      <td>0.200841</td>\n",
       "      <td>0.126959</td>\n",
       "      <td>-0.308441</td>\n",
       "      <td>-0.010166</td>\n",
       "      <td>0.185158</td>\n",
       "      <td>389.40</td>\n",
       "    </tr>\n",
       "  </tbody>\n",
       "</table>\n",
       "<p>173923 rows × 12 columns</p>\n",
       "</div>"
      ],
      "text/plain": [
       "        COD_CICLO  FLG_DATA  COD_MATERIAL  DES_CATEGORIA_MATERIAL  \\\n",
       "0       -0.055947 -0.659821      0.194551                0.222322   \n",
       "1       -0.072017 -0.591647      0.309597                0.177047   \n",
       "2       -0.364362  0.138583     -0.398935               -0.206433   \n",
       "3        0.151242 -0.685267     -0.019091                0.179393   \n",
       "4       -0.344064  0.202896     -0.582630               -0.164437   \n",
       "...           ...       ...           ...                     ...   \n",
       "173918  -0.321769  0.158051     -0.356330               -0.282127   \n",
       "173919   0.092103 -0.665388     -0.069543                0.175638   \n",
       "173920  -0.348925  0.229932      0.331334               -0.282236   \n",
       "173921  -0.150233 -0.324689     -0.088707               -0.002923   \n",
       "173922  -0.432583  0.466296     -0.513400                0.028841   \n",
       "\n",
       "        DES_MARCA_MATERIAL  FLG_CAMPANHA_MKT_A  FLG_CAMPANHA_MKT_B  \\\n",
       "0                 0.208142           -1.345467            0.056281   \n",
       "1                -0.129282           -0.002650            0.148204   \n",
       "2                 0.014308           -0.239907            0.119946   \n",
       "3                 0.140299            0.143472           -0.007871   \n",
       "4                 0.319019           -0.314917           -0.326729   \n",
       "...                    ...                 ...                 ...   \n",
       "173918            0.034865           -0.786104            0.222065   \n",
       "173919           -0.603569            0.004296            0.294851   \n",
       "173920           -0.006707           -0.096436            0.224890   \n",
       "173921           -0.227400            0.062038           -0.086054   \n",
       "173922           -0.013862            0.276208            0.200841   \n",
       "\n",
       "        FLG_CAMPANHA_MKT_C  FLG_CAMPANHA_MKT_D  COD_CANAL  COD_REGIAO  \\\n",
       "0                -0.451179            0.160428   0.444923    0.288069   \n",
       "1                -0.253743           -0.963298  -0.210100   -0.024975   \n",
       "2                -0.032368            0.047982  -0.056761    0.274415   \n",
       "3                 0.098803           -0.039077   0.066023   -0.045462   \n",
       "4                -0.292140           -0.085841   0.142287    0.098559   \n",
       "...                    ...                 ...        ...         ...   \n",
       "173918           -0.234849            0.144142  -0.324168    0.545133   \n",
       "173919           -0.056642            0.130939  -0.024694    0.006998   \n",
       "173920            0.126754            0.569380   0.044667   -0.432451   \n",
       "173921            0.098047            0.517253   0.044721   -0.433623   \n",
       "173922            0.126959           -0.308441  -0.010166    0.185158   \n",
       "\n",
       "        VL_PRECO  \n",
       "0         455.40  \n",
       "1         773.40  \n",
       "2         341.40  \n",
       "3         450.90  \n",
       "4         431.40  \n",
       "...          ...  \n",
       "173918    389.40  \n",
       "173919    490.32  \n",
       "173920    724.38  \n",
       "173921    491.40  \n",
       "173922    389.40  \n",
       "\n",
       "[173923 rows x 12 columns]"
      ]
     },
     "execution_count": 53,
     "metadata": {},
     "output_type": "execute_result"
    }
   ],
   "source": [
    "obs_coords.columns = significant_cols + [\"VL_PRECO\"]\n",
    "obs_coords"
   ]
  },
  {
   "cell_type": "markdown",
   "id": "747f2a0e-c7e4-4c2a-be6a-296e291f235d",
   "metadata": {},
   "source": [
    "# Pré-Processamento Geral"
   ]
  },
  {
   "cell_type": "markdown",
   "id": "611eb89f-3d90-43f9-b0ca-ac15f57b129c",
   "metadata": {},
   "source": [
    "Por fim, após realizar uma análise geral de cada tipo de variável, é hora de preparar os dados para serem utilizados durante a estimação de modelos de regressão. \n",
    "\n",
    "- Para as variáveis quantitativas, o processo de padronização pela subtração da média e divisão pelo desvio padrão será realizado para garantir que as variáveis se situem em escalas próximas, facilitando o processo de aprendizagem do modelo.\n",
    "\n",
    "- Para as variáveis qualitativas, o processo de criação de variáveis dummies será efetuado para garantir que tais _features_ sejam interpretadas da maneira correta pelos modelos de regressão, os quais trabalham com variáveis quantitativas.\n",
    "\n",
    "Por último, os dados serão salvos em uma estrutura _parquet_ para uso posterior."
   ]
  },
  {
   "cell_type": "markdown",
   "id": "3771aa87-cff2-4194-8a94-f861a8641f55",
   "metadata": {},
   "source": [
    "## Padronização dos Dados"
   ]
  },
  {
   "cell_type": "code",
   "execution_count": 56,
   "id": "4f4277a9-128b-4b0a-b95b-ae2bc2be24b4",
   "metadata": {
    "tags": []
   },
   "outputs": [],
   "source": [
    "# Padronizando os dados\n",
    "preprocessed_data = data.copy()\n",
    "preprocessed_data[quanti_features] = StandardScaler().fit_transform(data[quanti_features])"
   ]
  },
  {
   "cell_type": "code",
   "execution_count": 57,
   "id": "be7a0c65-0bcc-43f8-aedb-389416026855",
   "metadata": {
    "tags": []
   },
   "outputs": [
    {
     "data": {
      "text/html": [
       "<div>\n",
       "<style scoped>\n",
       "    .dataframe tbody tr th:only-of-type {\n",
       "        vertical-align: middle;\n",
       "    }\n",
       "\n",
       "    .dataframe tbody tr th {\n",
       "        vertical-align: top;\n",
       "    }\n",
       "\n",
       "    .dataframe thead th {\n",
       "        text-align: right;\n",
       "    }\n",
       "</style>\n",
       "<table border=\"1\" class=\"dataframe\">\n",
       "  <thead>\n",
       "    <tr style=\"text-align: right;\">\n",
       "      <th></th>\n",
       "      <th>QT_VENDA_BRUTO</th>\n",
       "      <th>QT_DEVOLUCAO</th>\n",
       "      <th>VL_RECEITA_BRUTA</th>\n",
       "      <th>VL_RECEITA_LIQUIDA</th>\n",
       "      <th>PCT_DESCONTO</th>\n",
       "      <th>VL_PRECO</th>\n",
       "    </tr>\n",
       "  </thead>\n",
       "  <tbody>\n",
       "    <tr>\n",
       "      <th>count</th>\n",
       "      <td>1.739230e+05</td>\n",
       "      <td>1.739230e+05</td>\n",
       "      <td>1.739230e+05</td>\n",
       "      <td>1.739230e+05</td>\n",
       "      <td>1.739230e+05</td>\n",
       "      <td>1.739230e+05</td>\n",
       "    </tr>\n",
       "    <tr>\n",
       "      <th>mean</th>\n",
       "      <td>4.739049e-18</td>\n",
       "      <td>-1.086713e-17</td>\n",
       "      <td>-2.941479e-17</td>\n",
       "      <td>3.080382e-17</td>\n",
       "      <td>7.762235e-19</td>\n",
       "      <td>1.374324e-16</td>\n",
       "    </tr>\n",
       "    <tr>\n",
       "      <th>std</th>\n",
       "      <td>1.000003e+00</td>\n",
       "      <td>1.000003e+00</td>\n",
       "      <td>1.000003e+00</td>\n",
       "      <td>1.000003e+00</td>\n",
       "      <td>1.000003e+00</td>\n",
       "      <td>1.000003e+00</td>\n",
       "    </tr>\n",
       "    <tr>\n",
       "      <th>min</th>\n",
       "      <td>-3.086128e-01</td>\n",
       "      <td>-4.341223e-01</td>\n",
       "      <td>-2.319759e-01</td>\n",
       "      <td>-2.308795e-01</td>\n",
       "      <td>-5.996371e-01</td>\n",
       "      <td>-1.269167e+00</td>\n",
       "    </tr>\n",
       "    <tr>\n",
       "      <th>25%</th>\n",
       "      <td>-3.037608e-01</td>\n",
       "      <td>-4.341223e-01</td>\n",
       "      <td>-2.297771e-01</td>\n",
       "      <td>-2.287074e-01</td>\n",
       "      <td>-5.996371e-01</td>\n",
       "      <td>-6.324600e-01</td>\n",
       "    </tr>\n",
       "    <tr>\n",
       "      <th>50%</th>\n",
       "      <td>-2.534533e-01</td>\n",
       "      <td>-2.196912e-02</td>\n",
       "      <td>-2.079129e-01</td>\n",
       "      <td>-2.069981e-01</td>\n",
       "      <td>-5.996371e-01</td>\n",
       "      <td>-3.373466e-01</td>\n",
       "    </tr>\n",
       "    <tr>\n",
       "      <th>75%</th>\n",
       "      <td>-5.619059e-02</td>\n",
       "      <td>4.143907e-02</td>\n",
       "      <td>-1.077660e-01</td>\n",
       "      <td>-1.076962e-01</td>\n",
       "      <td>7.616310e-01</td>\n",
       "      <td>2.036946e-01</td>\n",
       "    </tr>\n",
       "    <tr>\n",
       "      <th>max</th>\n",
       "      <td>5.575763e+01</td>\n",
       "      <td>5.533338e+01</td>\n",
       "      <td>8.192184e+01</td>\n",
       "      <td>8.221750e+01</td>\n",
       "      <td>2.576655e+00</td>\n",
       "      <td>2.047725e+01</td>\n",
       "    </tr>\n",
       "  </tbody>\n",
       "</table>\n",
       "</div>"
      ],
      "text/plain": [
       "       QT_VENDA_BRUTO  QT_DEVOLUCAO  VL_RECEITA_BRUTA  VL_RECEITA_LIQUIDA  \\\n",
       "count    1.739230e+05  1.739230e+05      1.739230e+05        1.739230e+05   \n",
       "mean     4.739049e-18 -1.086713e-17     -2.941479e-17        3.080382e-17   \n",
       "std      1.000003e+00  1.000003e+00      1.000003e+00        1.000003e+00   \n",
       "min     -3.086128e-01 -4.341223e-01     -2.319759e-01       -2.308795e-01   \n",
       "25%     -3.037608e-01 -4.341223e-01     -2.297771e-01       -2.287074e-01   \n",
       "50%     -2.534533e-01 -2.196912e-02     -2.079129e-01       -2.069981e-01   \n",
       "75%     -5.619059e-02  4.143907e-02     -1.077660e-01       -1.076962e-01   \n",
       "max      5.575763e+01  5.533338e+01      8.192184e+01        8.221750e+01   \n",
       "\n",
       "       PCT_DESCONTO      VL_PRECO  \n",
       "count  1.739230e+05  1.739230e+05  \n",
       "mean   7.762235e-19  1.374324e-16  \n",
       "std    1.000003e+00  1.000003e+00  \n",
       "min   -5.996371e-01 -1.269167e+00  \n",
       "25%   -5.996371e-01 -6.324600e-01  \n",
       "50%   -5.996371e-01 -3.373466e-01  \n",
       "75%    7.616310e-01  2.036946e-01  \n",
       "max    2.576655e+00  2.047725e+01  "
      ]
     },
     "execution_count": 57,
     "metadata": {},
     "output_type": "execute_result"
    }
   ],
   "source": [
    "preprocessed_data.describe()"
   ]
  },
  {
   "cell_type": "code",
   "execution_count": 118,
   "id": "6fc633ec-8172-468e-bb05-02fe87f03bd1",
   "metadata": {
    "tags": []
   },
   "outputs": [],
   "source": [
    "# Salvando o objeto de padronização para uso posterior\n",
    "with open('scaler.pickle', 'wb') as handle:\n",
    "    pickle.dump(StandardScaler().fit(data[quanti_features]), handle, protocol=pickle.HIGHEST_PROTOCOL)"
   ]
  },
  {
   "cell_type": "markdown",
   "id": "78a11921-f02a-4743-8647-d30470e18aa2",
   "metadata": {},
   "source": [
    "## Criação de Variáveis Dummy"
   ]
  },
  {
   "cell_type": "code",
   "execution_count": 59,
   "id": "1c2febcd-7bef-48ce-973f-3104e6e19068",
   "metadata": {
    "tags": []
   },
   "outputs": [],
   "source": [
    "cols_to_dummy = [\n",
    "    \"COD_CICLO\", \n",
    "    \"COD_MATERIAL\", \n",
    "    \"COD_CANAL\", \n",
    "    \"DES_CATEGORIA_MATERIAL\", \n",
    "    \"DES_MARCA_MATERIAL\",\n",
    "    \"COD_REGIAO\"]"
   ]
  },
  {
   "cell_type": "code",
   "execution_count": 60,
   "id": "aa09ecaf-f288-464c-9b35-99be87ca0e46",
   "metadata": {
    "tags": []
   },
   "outputs": [],
   "source": [
    "# Criando variáveis dummies\n",
    "preprocessed_data = pd.get_dummies(preprocessed_data, columns=cols_to_dummy,\n",
    "                                      dtype=int,\n",
    "                                      drop_first=True)"
   ]
  },
  {
   "cell_type": "code",
   "execution_count": 61,
   "id": "edfb12a3-cb4b-457a-91ff-c92d4efb8a81",
   "metadata": {
    "tags": []
   },
   "outputs": [
    {
     "data": {
      "text/html": [
       "<div>\n",
       "<style scoped>\n",
       "    .dataframe tbody tr th:only-of-type {\n",
       "        vertical-align: middle;\n",
       "    }\n",
       "\n",
       "    .dataframe tbody tr th {\n",
       "        vertical-align: top;\n",
       "    }\n",
       "\n",
       "    .dataframe thead th {\n",
       "        text-align: right;\n",
       "    }\n",
       "</style>\n",
       "<table border=\"1\" class=\"dataframe\">\n",
       "  <thead>\n",
       "    <tr style=\"text-align: right;\">\n",
       "      <th></th>\n",
       "      <th>FLG_DATA</th>\n",
       "      <th>QT_VENDA_BRUTO</th>\n",
       "      <th>QT_DEVOLUCAO</th>\n",
       "      <th>VL_RECEITA_BRUTA</th>\n",
       "      <th>VL_RECEITA_LIQUIDA</th>\n",
       "      <th>FLG_CAMPANHA_MKT_A</th>\n",
       "      <th>FLG_CAMPANHA_MKT_B</th>\n",
       "      <th>FLG_CAMPANHA_MKT_C</th>\n",
       "      <th>FLG_CAMPANHA_MKT_D</th>\n",
       "      <th>FLG_CAMPANHA_MKT_E</th>\n",
       "      <th>...</th>\n",
       "      <th>DES_MARCA_MATERIAL_anon_S87</th>\n",
       "      <th>DES_MARCA_MATERIAL_anon_S88</th>\n",
       "      <th>DES_MARCA_MATERIAL_anon_S89</th>\n",
       "      <th>DES_MARCA_MATERIAL_anon_S9</th>\n",
       "      <th>DES_MARCA_MATERIAL_anon_S90</th>\n",
       "      <th>DES_MARCA_MATERIAL_anon_S91</th>\n",
       "      <th>DES_MARCA_MATERIAL_anon_S92</th>\n",
       "      <th>DES_MARCA_MATERIAL_anon_S93</th>\n",
       "      <th>DES_MARCA_MATERIAL_anon_S94</th>\n",
       "      <th>COD_REGIAO_anon_S10</th>\n",
       "    </tr>\n",
       "  </thead>\n",
       "  <tbody>\n",
       "    <tr>\n",
       "      <th>0</th>\n",
       "      <td>1</td>\n",
       "      <td>0.042982</td>\n",
       "      <td>0.295072</td>\n",
       "      <td>-0.077293</td>\n",
       "      <td>-0.075642</td>\n",
       "      <td>0</td>\n",
       "      <td>0</td>\n",
       "      <td>0</td>\n",
       "      <td>0</td>\n",
       "      <td>0</td>\n",
       "      <td>...</td>\n",
       "      <td>0</td>\n",
       "      <td>0</td>\n",
       "      <td>0</td>\n",
       "      <td>0</td>\n",
       "      <td>0</td>\n",
       "      <td>0</td>\n",
       "      <td>0</td>\n",
       "      <td>0</td>\n",
       "      <td>0</td>\n",
       "      <td>0</td>\n",
       "    </tr>\n",
       "    <tr>\n",
       "      <th>1</th>\n",
       "      <td>0</td>\n",
       "      <td>-0.299433</td>\n",
       "      <td>0.009735</td>\n",
       "      <td>-0.222117</td>\n",
       "      <td>-0.220986</td>\n",
       "      <td>0</td>\n",
       "      <td>0</td>\n",
       "      <td>0</td>\n",
       "      <td>0</td>\n",
       "      <td>0</td>\n",
       "      <td>...</td>\n",
       "      <td>0</td>\n",
       "      <td>0</td>\n",
       "      <td>0</td>\n",
       "      <td>0</td>\n",
       "      <td>0</td>\n",
       "      <td>0</td>\n",
       "      <td>0</td>\n",
       "      <td>0</td>\n",
       "      <td>0</td>\n",
       "      <td>0</td>\n",
       "    </tr>\n",
       "    <tr>\n",
       "      <th>2</th>\n",
       "      <td>0</td>\n",
       "      <td>1.307519</td>\n",
       "      <td>2.049365</td>\n",
       "      <td>0.112996</td>\n",
       "      <td>0.115330</td>\n",
       "      <td>0</td>\n",
       "      <td>1</td>\n",
       "      <td>0</td>\n",
       "      <td>0</td>\n",
       "      <td>0</td>\n",
       "      <td>...</td>\n",
       "      <td>0</td>\n",
       "      <td>0</td>\n",
       "      <td>0</td>\n",
       "      <td>0</td>\n",
       "      <td>0</td>\n",
       "      <td>0</td>\n",
       "      <td>0</td>\n",
       "      <td>0</td>\n",
       "      <td>0</td>\n",
       "      <td>0</td>\n",
       "    </tr>\n",
       "    <tr>\n",
       "      <th>3</th>\n",
       "      <td>0</td>\n",
       "      <td>-0.302499</td>\n",
       "      <td>-0.434122</td>\n",
       "      <td>-0.229333</td>\n",
       "      <td>-0.228227</td>\n",
       "      <td>0</td>\n",
       "      <td>0</td>\n",
       "      <td>0</td>\n",
       "      <td>0</td>\n",
       "      <td>0</td>\n",
       "      <td>...</td>\n",
       "      <td>0</td>\n",
       "      <td>0</td>\n",
       "      <td>0</td>\n",
       "      <td>0</td>\n",
       "      <td>0</td>\n",
       "      <td>0</td>\n",
       "      <td>0</td>\n",
       "      <td>0</td>\n",
       "      <td>0</td>\n",
       "      <td>0</td>\n",
       "    </tr>\n",
       "    <tr>\n",
       "      <th>4</th>\n",
       "      <td>1</td>\n",
       "      <td>-0.232717</td>\n",
       "      <td>-0.011401</td>\n",
       "      <td>-0.202194</td>\n",
       "      <td>-0.200991</td>\n",
       "      <td>0</td>\n",
       "      <td>0</td>\n",
       "      <td>0</td>\n",
       "      <td>0</td>\n",
       "      <td>0</td>\n",
       "      <td>...</td>\n",
       "      <td>0</td>\n",
       "      <td>0</td>\n",
       "      <td>0</td>\n",
       "      <td>1</td>\n",
       "      <td>0</td>\n",
       "      <td>0</td>\n",
       "      <td>0</td>\n",
       "      <td>0</td>\n",
       "      <td>0</td>\n",
       "      <td>0</td>\n",
       "    </tr>\n",
       "    <tr>\n",
       "      <th>...</th>\n",
       "      <td>...</td>\n",
       "      <td>...</td>\n",
       "      <td>...</td>\n",
       "      <td>...</td>\n",
       "      <td>...</td>\n",
       "      <td>...</td>\n",
       "      <td>...</td>\n",
       "      <td>...</td>\n",
       "      <td>...</td>\n",
       "      <td>...</td>\n",
       "      <td>...</td>\n",
       "      <td>...</td>\n",
       "      <td>...</td>\n",
       "      <td>...</td>\n",
       "      <td>...</td>\n",
       "      <td>...</td>\n",
       "      <td>...</td>\n",
       "      <td>...</td>\n",
       "      <td>...</td>\n",
       "      <td>...</td>\n",
       "      <td>...</td>\n",
       "    </tr>\n",
       "    <tr>\n",
       "      <th>173918</th>\n",
       "      <td>1</td>\n",
       "      <td>-0.187459</td>\n",
       "      <td>-0.434122</td>\n",
       "      <td>-0.195461</td>\n",
       "      <td>-0.194234</td>\n",
       "      <td>0</td>\n",
       "      <td>0</td>\n",
       "      <td>0</td>\n",
       "      <td>0</td>\n",
       "      <td>0</td>\n",
       "      <td>...</td>\n",
       "      <td>0</td>\n",
       "      <td>0</td>\n",
       "      <td>0</td>\n",
       "      <td>0</td>\n",
       "      <td>0</td>\n",
       "      <td>0</td>\n",
       "      <td>0</td>\n",
       "      <td>0</td>\n",
       "      <td>0</td>\n",
       "      <td>1</td>\n",
       "    </tr>\n",
       "    <tr>\n",
       "      <th>173919</th>\n",
       "      <td>1</td>\n",
       "      <td>-0.098564</td>\n",
       "      <td>-0.434122</td>\n",
       "      <td>-0.126015</td>\n",
       "      <td>-0.124539</td>\n",
       "      <td>0</td>\n",
       "      <td>0</td>\n",
       "      <td>0</td>\n",
       "      <td>0</td>\n",
       "      <td>0</td>\n",
       "      <td>...</td>\n",
       "      <td>0</td>\n",
       "      <td>0</td>\n",
       "      <td>0</td>\n",
       "      <td>0</td>\n",
       "      <td>0</td>\n",
       "      <td>0</td>\n",
       "      <td>0</td>\n",
       "      <td>0</td>\n",
       "      <td>0</td>\n",
       "      <td>0</td>\n",
       "    </tr>\n",
       "    <tr>\n",
       "      <th>173920</th>\n",
       "      <td>1</td>\n",
       "      <td>-0.304843</td>\n",
       "      <td>-0.434122</td>\n",
       "      <td>-0.228291</td>\n",
       "      <td>-0.227182</td>\n",
       "      <td>0</td>\n",
       "      <td>0</td>\n",
       "      <td>0</td>\n",
       "      <td>0</td>\n",
       "      <td>0</td>\n",
       "      <td>...</td>\n",
       "      <td>0</td>\n",
       "      <td>0</td>\n",
       "      <td>0</td>\n",
       "      <td>0</td>\n",
       "      <td>0</td>\n",
       "      <td>0</td>\n",
       "      <td>0</td>\n",
       "      <td>0</td>\n",
       "      <td>0</td>\n",
       "      <td>0</td>\n",
       "    </tr>\n",
       "    <tr>\n",
       "      <th>173921</th>\n",
       "      <td>0</td>\n",
       "      <td>-0.304121</td>\n",
       "      <td>-0.434122</td>\n",
       "      <td>-0.230066</td>\n",
       "      <td>-0.228963</td>\n",
       "      <td>0</td>\n",
       "      <td>0</td>\n",
       "      <td>0</td>\n",
       "      <td>0</td>\n",
       "      <td>0</td>\n",
       "      <td>...</td>\n",
       "      <td>0</td>\n",
       "      <td>0</td>\n",
       "      <td>0</td>\n",
       "      <td>0</td>\n",
       "      <td>0</td>\n",
       "      <td>0</td>\n",
       "      <td>0</td>\n",
       "      <td>0</td>\n",
       "      <td>0</td>\n",
       "      <td>1</td>\n",
       "    </tr>\n",
       "    <tr>\n",
       "      <th>173922</th>\n",
       "      <td>0</td>\n",
       "      <td>-0.288975</td>\n",
       "      <td>-0.011401</td>\n",
       "      <td>-0.225906</td>\n",
       "      <td>-0.226431</td>\n",
       "      <td>0</td>\n",
       "      <td>0</td>\n",
       "      <td>0</td>\n",
       "      <td>0</td>\n",
       "      <td>0</td>\n",
       "      <td>...</td>\n",
       "      <td>0</td>\n",
       "      <td>0</td>\n",
       "      <td>0</td>\n",
       "      <td>0</td>\n",
       "      <td>0</td>\n",
       "      <td>0</td>\n",
       "      <td>0</td>\n",
       "      <td>0</td>\n",
       "      <td>0</td>\n",
       "      <td>1</td>\n",
       "    </tr>\n",
       "  </tbody>\n",
       "</table>\n",
       "<p>173923 rows × 2406 columns</p>\n",
       "</div>"
      ],
      "text/plain": [
       "       FLG_DATA  QT_VENDA_BRUTO  QT_DEVOLUCAO  VL_RECEITA_BRUTA  \\\n",
       "0             1        0.042982      0.295072         -0.077293   \n",
       "1             0       -0.299433      0.009735         -0.222117   \n",
       "2             0        1.307519      2.049365          0.112996   \n",
       "3             0       -0.302499     -0.434122         -0.229333   \n",
       "4             1       -0.232717     -0.011401         -0.202194   \n",
       "...         ...             ...           ...               ...   \n",
       "173918        1       -0.187459     -0.434122         -0.195461   \n",
       "173919        1       -0.098564     -0.434122         -0.126015   \n",
       "173920        1       -0.304843     -0.434122         -0.228291   \n",
       "173921        0       -0.304121     -0.434122         -0.230066   \n",
       "173922        0       -0.288975     -0.011401         -0.225906   \n",
       "\n",
       "        VL_RECEITA_LIQUIDA FLG_CAMPANHA_MKT_A FLG_CAMPANHA_MKT_B  \\\n",
       "0                -0.075642                  0                  0   \n",
       "1                -0.220986                  0                  0   \n",
       "2                 0.115330                  0                  1   \n",
       "3                -0.228227                  0                  0   \n",
       "4                -0.200991                  0                  0   \n",
       "...                    ...                ...                ...   \n",
       "173918           -0.194234                  0                  0   \n",
       "173919           -0.124539                  0                  0   \n",
       "173920           -0.227182                  0                  0   \n",
       "173921           -0.228963                  0                  0   \n",
       "173922           -0.226431                  0                  0   \n",
       "\n",
       "       FLG_CAMPANHA_MKT_C FLG_CAMPANHA_MKT_D FLG_CAMPANHA_MKT_E  ...  \\\n",
       "0                       0                  0                  0  ...   \n",
       "1                       0                  0                  0  ...   \n",
       "2                       0                  0                  0  ...   \n",
       "3                       0                  0                  0  ...   \n",
       "4                       0                  0                  0  ...   \n",
       "...                   ...                ...                ...  ...   \n",
       "173918                  0                  0                  0  ...   \n",
       "173919                  0                  0                  0  ...   \n",
       "173920                  0                  0                  0  ...   \n",
       "173921                  0                  0                  0  ...   \n",
       "173922                  0                  0                  0  ...   \n",
       "\n",
       "        DES_MARCA_MATERIAL_anon_S87  DES_MARCA_MATERIAL_anon_S88  \\\n",
       "0                                 0                            0   \n",
       "1                                 0                            0   \n",
       "2                                 0                            0   \n",
       "3                                 0                            0   \n",
       "4                                 0                            0   \n",
       "...                             ...                          ...   \n",
       "173918                            0                            0   \n",
       "173919                            0                            0   \n",
       "173920                            0                            0   \n",
       "173921                            0                            0   \n",
       "173922                            0                            0   \n",
       "\n",
       "        DES_MARCA_MATERIAL_anon_S89  DES_MARCA_MATERIAL_anon_S9  \\\n",
       "0                                 0                           0   \n",
       "1                                 0                           0   \n",
       "2                                 0                           0   \n",
       "3                                 0                           0   \n",
       "4                                 0                           1   \n",
       "...                             ...                         ...   \n",
       "173918                            0                           0   \n",
       "173919                            0                           0   \n",
       "173920                            0                           0   \n",
       "173921                            0                           0   \n",
       "173922                            0                           0   \n",
       "\n",
       "        DES_MARCA_MATERIAL_anon_S90  DES_MARCA_MATERIAL_anon_S91  \\\n",
       "0                                 0                            0   \n",
       "1                                 0                            0   \n",
       "2                                 0                            0   \n",
       "3                                 0                            0   \n",
       "4                                 0                            0   \n",
       "...                             ...                          ...   \n",
       "173918                            0                            0   \n",
       "173919                            0                            0   \n",
       "173920                            0                            0   \n",
       "173921                            0                            0   \n",
       "173922                            0                            0   \n",
       "\n",
       "        DES_MARCA_MATERIAL_anon_S92  DES_MARCA_MATERIAL_anon_S93  \\\n",
       "0                                 0                            0   \n",
       "1                                 0                            0   \n",
       "2                                 0                            0   \n",
       "3                                 0                            0   \n",
       "4                                 0                            0   \n",
       "...                             ...                          ...   \n",
       "173918                            0                            0   \n",
       "173919                            0                            0   \n",
       "173920                            0                            0   \n",
       "173921                            0                            0   \n",
       "173922                            0                            0   \n",
       "\n",
       "        DES_MARCA_MATERIAL_anon_S94  COD_REGIAO_anon_S10  \n",
       "0                                 0                    0  \n",
       "1                                 0                    0  \n",
       "2                                 0                    0  \n",
       "3                                 0                    0  \n",
       "4                                 0                    0  \n",
       "...                             ...                  ...  \n",
       "173918                            0                    1  \n",
       "173919                            0                    0  \n",
       "173920                            0                    0  \n",
       "173921                            0                    1  \n",
       "173922                            0                    1  \n",
       "\n",
       "[173923 rows x 2406 columns]"
      ]
     },
     "execution_count": 61,
     "metadata": {},
     "output_type": "execute_result"
    }
   ],
   "source": [
    "preprocessed_data"
   ]
  },
  {
   "cell_type": "code",
   "execution_count": null,
   "id": "cb6c4c22-eb8c-4f5c-96f5-8c0bd7b958ba",
   "metadata": {
    "tags": []
   },
   "outputs": [],
   "source": [
    "# Salvando os dados pré-processados para uso posterior\n",
    "preprocessed_data.to_parquet(\"preprocessed_dataset.parquet\", engine=\"pyarrow\")"
   ]
  },
  {
   "cell_type": "markdown",
   "id": "f423bdec-be02-4949-83cd-e029f9c6e15d",
   "metadata": {},
   "source": [
    "# Próximos Passos\n",
    "A análise exploratória e descritiva dos dados foi finalizada. Sendo assim, agora é hora de explorar possíveis modelos para resolverem o problema proposto."
   ]
  }
 ],
 "metadata": {
  "kernelspec": {
   "display_name": "Python 3 (ipykernel)",
   "language": "python",
   "name": "python3"
  },
  "language_info": {
   "codemirror_mode": {
    "name": "ipython",
    "version": 3
   },
   "file_extension": ".py",
   "mimetype": "text/x-python",
   "name": "python",
   "nbconvert_exporter": "python",
   "pygments_lexer": "ipython3",
   "version": "3.9.19"
  }
 },
 "nbformat": 4,
 "nbformat_minor": 5
}
