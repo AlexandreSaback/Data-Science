{
 "metadata": {
  "language_info": {
   "codemirror_mode": {
    "name": "ipython",
    "version": 3
   },
   "file_extension": ".py",
   "mimetype": "text/x-python",
   "name": "python",
   "nbconvert_exporter": "python",
   "pygments_lexer": "ipython3",
   "version": "3.8.3-final"
  },
  "orig_nbformat": 2,
  "kernelspec": {
   "name": "python3",
   "display_name": "Python 3.8.3 64-bit ('env')",
   "metadata": {
    "interpreter": {
     "hash": "8fc92de129eeba634e8c07dff8062289bf19841fa1be745062001f65dabf07c0"
    }
   }
  }
 },
 "nbformat": 4,
 "nbformat_minor": 2,
 "cells": [
  {
   "source": [
    "# Desafio Data Science - OniMusic #
   ],
   "cell_type": "markdown",
   "metadata": {}
  },
  {
   "cell_type": "code",
   "execution_count": 169,
   "metadata": {},
   "outputs": [],
   "source": [
    "# Importações\n",
    "import deezer as deezer\n",
    "import pandas as pd"
   ]
  },
  {
   "cell_type": "code",
   "execution_count": 170,
   "metadata": {},
   "outputs": [],
   "source": [
    "# Instanciando um objeto da classe da API\n",
    "client = deezer.Client()"
   ]
  },
  {
   "cell_type": "code",
   "execution_count": 171,
   "metadata": {},
   "outputs": [],
   "source": [
    "# Chamando a API\n",
    "name = 'Andre Valadao'\n",
    "tracks = []\n",
    "for i in range(0,25):   \n",
    "    query = client.search(name)[i]\n",
    "    tracks.append(query.asdict())"
   ]
  },
  {
   "cell_type": "code",
   "execution_count": 173,
   "metadata": {},
   "outputs": [],
   "source": [
    "# Transformando o resultado da chamada em um DataFrame do Pandas\n",
    "tracks = pd.DataFrame(tracks)"
   ]
  },
  {
   "cell_type": "code",
   "execution_count": 174,
   "metadata": {},
   "outputs": [
    {
     "output_type": "execute_result",
     "data": {
      "text/plain": [
       "          id  readable              title title_short  \\\n",
       "0  440609502      True           Muralhas    Muralhas   \n",
       "1   71733037      True  Milagre (Ao Vivo)     Milagre   \n",
       "\n",
       "                                     link  duration    rank  explicit_lyrics  \\\n",
       "0  https://www.deezer.com/track/440609502       295  688335            False   \n",
       "1   https://www.deezer.com/track/71733037       446  677550            False   \n",
       "\n",
       "   explicit_content_lyrics  explicit_content_cover  \\\n",
       "0                        0                       2   \n",
       "1                        0                       2   \n",
       "\n",
       "                                             preview  \\\n",
       "0  https://cdns-preview-6.dzcdn.net/stream/c-62d1...   \n",
       "1  https://cdns-preview-7.dzcdn.net/stream/c-7362...   \n",
       "\n",
       "                          md5_image  \\\n",
       "0  51fd1e43e3477b7451f65765f58d3fe6   \n",
       "1  260339fce9b51346af47671d49789a6f   \n",
       "\n",
       "                                              artist  \\\n",
       "0  {'id': 1263295, 'name': 'André Valadão', 'link...   \n",
       "1  {'id': 1263295, 'name': 'André Valadão', 'link...   \n",
       "\n",
       "                                               album   type title_version  \n",
       "0  {'id': 53433692, 'title': 'Muralhas', 'cover':...  track           NaN  \n",
       "1  {'id': 7048614, 'title': 'Milagres - Ao Vivo',...  track     (Ao Vivo)  "
      ],
      "text/html": "<div>\n<style scoped>\n    .dataframe tbody tr th:only-of-type {\n        vertical-align: middle;\n    }\n\n    .dataframe tbody tr th {\n        vertical-align: top;\n    }\n\n    .dataframe thead th {\n        text-align: right;\n    }\n</style>\n<table border=\"1\" class=\"dataframe\">\n  <thead>\n    <tr style=\"text-align: right;\">\n      <th></th>\n      <th>id</th>\n      <th>readable</th>\n      <th>title</th>\n      <th>title_short</th>\n      <th>link</th>\n      <th>duration</th>\n      <th>rank</th>\n      <th>explicit_lyrics</th>\n      <th>explicit_content_lyrics</th>\n      <th>explicit_content_cover</th>\n      <th>preview</th>\n      <th>md5_image</th>\n      <th>artist</th>\n      <th>album</th>\n      <th>type</th>\n      <th>title_version</th>\n    </tr>\n  </thead>\n  <tbody>\n    <tr>\n      <th>0</th>\n      <td>440609502</td>\n      <td>True</td>\n      <td>Muralhas</td>\n      <td>Muralhas</td>\n      <td>https://www.deezer.com/track/440609502</td>\n      <td>295</td>\n      <td>688335</td>\n      <td>False</td>\n      <td>0</td>\n      <td>2</td>\n      <td>https://cdns-preview-6.dzcdn.net/stream/c-62d1...</td>\n      <td>51fd1e43e3477b7451f65765f58d3fe6</td>\n      <td>{'id': 1263295, 'name': 'André Valadão', 'link...</td>\n      <td>{'id': 53433692, 'title': 'Muralhas', 'cover':...</td>\n      <td>track</td>\n      <td>NaN</td>\n    </tr>\n    <tr>\n      <th>1</th>\n      <td>71733037</td>\n      <td>True</td>\n      <td>Milagre (Ao Vivo)</td>\n      <td>Milagre</td>\n      <td>https://www.deezer.com/track/71733037</td>\n      <td>446</td>\n      <td>677550</td>\n      <td>False</td>\n      <td>0</td>\n      <td>2</td>\n      <td>https://cdns-preview-7.dzcdn.net/stream/c-7362...</td>\n      <td>260339fce9b51346af47671d49789a6f</td>\n      <td>{'id': 1263295, 'name': 'André Valadão', 'link...</td>\n      <td>{'id': 7048614, 'title': 'Milagres - Ao Vivo',...</td>\n      <td>track</td>\n      <td>(Ao Vivo)</td>\n    </tr>\n  </tbody>\n</table>\n</div>"
     },
     "metadata": {},
     "execution_count": 174
    }
   ],
   "source": [
    "# Verificando rapidamente os dados\n",
    "tracks.head(2)"
   ]
  },
  {
   "cell_type": "code",
   "execution_count": 175,
   "metadata": {},
   "outputs": [
    {
     "output_type": "execute_result",
     "data": {
      "text/plain": [
       "Index(['id', 'readable', 'title', 'title_short', 'link', 'duration', 'rank',\n",
       "       'explicit_lyrics', 'explicit_content_lyrics', 'explicit_content_cover',\n",
       "       'preview', 'md5_image', 'artist', 'album', 'type', 'title_version'],\n",
       "      dtype='object')"
      ]
     },
     "metadata": {},
     "execution_count": 175
    }
   ],
   "source": [
    "# Verificando as features do dataset\n",
    "tracks.columns"
   ]
  },
  {
   "cell_type": "code",
   "execution_count": 176,
   "metadata": {},
   "outputs": [],
   "source": [
    "# Retirando as features desnecessárias do dataset\n",
    "tracks = tracks.drop(['id', 'readable', 'title_short', 'explicit_lyrics','explicit_content_lyrics', 'explicit_content_cover', 'preview', \n",
    "'md5_image', 'artist', 'album', 'type', 'title_version'], axis = 1)"
   ]
  },
  {
   "cell_type": "code",
   "execution_count": 177,
   "metadata": {},
   "outputs": [
    {
     "output_type": "execute_result",
     "data": {
      "text/plain": [
       "                          title                                    link  \\\n",
       "0                      Muralhas  https://www.deezer.com/track/440609502   \n",
       "1             Milagre (Ao Vivo)   https://www.deezer.com/track/71733037   \n",
       "2                       Pela Fé   https://www.deezer.com/track/70792967   \n",
       "3                     Abraça-Me   https://www.deezer.com/track/70754918   \n",
       "4  Como Ninguém Me Vê (Ao Vivo)  https://www.deezer.com/track/880797362   \n",
       "\n",
       "   duration    rank  \n",
       "0       295  688335  \n",
       "1       446  677550  \n",
       "2       218  586437  \n",
       "3       313  573402  \n",
       "4       337  534732  "
      ],
      "text/html": "<div>\n<style scoped>\n    .dataframe tbody tr th:only-of-type {\n        vertical-align: middle;\n    }\n\n    .dataframe tbody tr th {\n        vertical-align: top;\n    }\n\n    .dataframe thead th {\n        text-align: right;\n    }\n</style>\n<table border=\"1\" class=\"dataframe\">\n  <thead>\n    <tr style=\"text-align: right;\">\n      <th></th>\n      <th>title</th>\n      <th>link</th>\n      <th>duration</th>\n      <th>rank</th>\n    </tr>\n  </thead>\n  <tbody>\n    <tr>\n      <th>0</th>\n      <td>Muralhas</td>\n      <td>https://www.deezer.com/track/440609502</td>\n      <td>295</td>\n      <td>688335</td>\n    </tr>\n    <tr>\n      <th>1</th>\n      <td>Milagre (Ao Vivo)</td>\n      <td>https://www.deezer.com/track/71733037</td>\n      <td>446</td>\n      <td>677550</td>\n    </tr>\n    <tr>\n      <th>2</th>\n      <td>Pela Fé</td>\n      <td>https://www.deezer.com/track/70792967</td>\n      <td>218</td>\n      <td>586437</td>\n    </tr>\n    <tr>\n      <th>3</th>\n      <td>Abraça-Me</td>\n      <td>https://www.deezer.com/track/70754918</td>\n      <td>313</td>\n      <td>573402</td>\n    </tr>\n    <tr>\n      <th>4</th>\n      <td>Como Ninguém Me Vê (Ao Vivo)</td>\n      <td>https://www.deezer.com/track/880797362</td>\n      <td>337</td>\n      <td>534732</td>\n    </tr>\n  </tbody>\n</table>\n</div>"
     },
     "metadata": {},
     "execution_count": 177
    }
   ],
   "source": [
    "# Verificando o resultado final\n",
    "tracks.head()"
   ]
  },
  {
   "cell_type": "code",
   "execution_count": 190,
   "metadata": {},
   "outputs": [],
   "source": [
    "# Chamando a API para buscar albúns\n",
    "name = 'Andre Valadao'\n",
    "albuns = client.search(name, relation = 'artist')[0]\n",
    "albuns = pd.DataFrame(albuns.get_albums())\n",
    "albuns.columns = ['Album']\n"
   ]
  },
  {
   "cell_type": "code",
   "execution_count": 191,
   "metadata": {},
   "outputs": [
    {
     "output_type": "execute_result",
     "data": {
      "text/plain": [
       "                          Album\n",
       "0                <Album: Happy>\n",
       "1  <Album: Flashback Fé (Live)>\n",
       "2     <Album: Renovo (Ao Vivo)>\n",
       "3             <Album: Adoração>\n",
       "4        <Album: Bossa Worship>"
      ],
      "text/html": "<div>\n<style scoped>\n    .dataframe tbody tr th:only-of-type {\n        vertical-align: middle;\n    }\n\n    .dataframe tbody tr th {\n        vertical-align: top;\n    }\n\n    .dataframe thead th {\n        text-align: right;\n    }\n</style>\n<table border=\"1\" class=\"dataframe\">\n  <thead>\n    <tr style=\"text-align: right;\">\n      <th></th>\n      <th>Album</th>\n    </tr>\n  </thead>\n  <tbody>\n    <tr>\n      <th>0</th>\n      <td>&lt;Album: Happy&gt;</td>\n    </tr>\n    <tr>\n      <th>1</th>\n      <td>&lt;Album: Flashback Fé (Live)&gt;</td>\n    </tr>\n    <tr>\n      <th>2</th>\n      <td>&lt;Album: Renovo (Ao Vivo)&gt;</td>\n    </tr>\n    <tr>\n      <th>3</th>\n      <td>&lt;Album: Adoração&gt;</td>\n    </tr>\n    <tr>\n      <th>4</th>\n      <td>&lt;Album: Bossa Worship&gt;</td>\n    </tr>\n  </tbody>\n</table>\n</div>"
     },
     "metadata": {},
     "execution_count": 191
    }
   ],
   "source": [
    "# Verificando os albúns\n",
    "albuns.head()"
   ]
  },
  {
   "cell_type": "code",
   "execution_count": 125,
   "metadata": {},
   "outputs": [],
   "source": [
    "# Instanciando um objeto writer\n",
    "writer = pd.ExcelWriter('Andre_Valadao.xlsx', engine='xlsxwriter')"
   ]
  },
  {
   "cell_type": "code",
   "execution_count": 126,
   "metadata": {},
   "outputs": [],
   "source": [
    "# Transformando os DataFrames em uma planilha do Excel\n",
    "tracks.to_excel(writer, sheet_name='Musicas', index = False)\n",
    "albuns.to_excel(writer, sheet_name='Albuns', index = False)"
   ]
  },
  {
   "cell_type": "code",
   "execution_count": 127,
   "metadata": {},
   "outputs": [],
   "source": [
    "writer.save()"
   ]
  }
 ]
}
