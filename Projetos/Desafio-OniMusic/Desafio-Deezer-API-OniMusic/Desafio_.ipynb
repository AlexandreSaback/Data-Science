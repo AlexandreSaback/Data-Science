{
 "metadata": {
  "language_info": {
   "codemirror_mode": {
    "name": "ipython",
    "version": 3
   },
   "file_extension": ".py",
   "mimetype": "text/x-python",
   "name": "python",
   "nbconvert_exporter": "python",
   "pygments_lexer": "ipython3",
   "version": "3.8.3-final"
  },
  "orig_nbformat": 2,
  "kernelspec": {
   "name": "python3",
   "display_name": "Python 3",
   "language": "python"
  }
 },
 "nbformat": 4,
 "nbformat_minor": 2,
 "cells": [
  {
   "source": [
    "# Desafio Data Science - OniMusic - Deezer API #"
   ],
   "cell_type": "markdown",
   "metadata": {}
  },
  {
   "source": [
    "Neste notebook o desafio foi solucionado sem utilizar a biblioteca Deezer Python. Para visualizar a solução realizada com a biblioteca mencionada, clique [aqui]()."
   ],
   "cell_type": "markdown",
   "metadata": {}
  },
  {
   "cell_type": "code",
   "execution_count": 114,
   "metadata": {},
   "outputs": [],
   "source": [
    "# Importações\n",
    "import pandas as pd\n",
    "import requests\n",
    "import json"
   ]
  },
  {
   "source": [
    "## Carregando os dados - Músicas"
   ],
   "cell_type": "markdown",
   "metadata": {}
  },
  {
   "cell_type": "code",
   "execution_count": 115,
   "metadata": {
    "tags": []
   },
   "outputs": [],
   "source": [
    "# Realizando uma chamada a API do Deezer e transformando os dados em um objeto json\n",
    "api = requests.get(\"https://api.deezer.com/playlist/5103169784/tracks\")\n",
    "text_data = api.text\n",
    "json_dict = json.loads(text_data)"
   ]
  },
  {
   "cell_type": "code",
   "execution_count": 116,
   "metadata": {},
   "outputs": [],
   "source": [
    "# Transformando os dados em um DataFrame do Pandas\n",
    "playlist = pd.DataFrame.from_dict(json_dict['data'])"
   ]
  },
  {
   "cell_type": "code",
   "execution_count": 117,
   "metadata": {},
   "outputs": [
    {
     "output_type": "execute_result",
     "data": {
      "text/plain": [
       "          id  readable                         title         title_short  \\\n",
       "0  901417982      True  Como Ninguém Me Vê (Ao Vivo)  Como Ninguém Me Vê   \n",
       "1  901417972      True        Confio Em Ti (Ao Vivo)        Confio Em Ti   \n",
       "\n",
       "  title_version                                    link  duration    rank  \\\n",
       "0     (Ao Vivo)  https://www.deezer.com/track/901417982       337  372719   \n",
       "1     (Ao Vivo)  https://www.deezer.com/track/901417972       265  417956   \n",
       "\n",
       "   explicit_lyrics  explicit_content_lyrics  explicit_content_cover  \\\n",
       "0            False                        0                       2   \n",
       "1            False                        0                       2   \n",
       "\n",
       "                                             preview  \\\n",
       "0  https://cdns-preview-d.dzcdn.net/stream/c-d0b2...   \n",
       "1  https://cdns-preview-b.dzcdn.net/stream/c-b098...   \n",
       "\n",
       "                          md5_image    time_add  \\\n",
       "0  c67535f12d3c5aaefed1e822b228da37  1592490780   \n",
       "1  c67535f12d3c5aaefed1e822b228da37  1592490759   \n",
       "\n",
       "                                              artist  \\\n",
       "0  {'id': 1263295, 'name': 'André Valadão', 'link...   \n",
       "1  {'id': 1263295, 'name': 'André Valadão', 'link...   \n",
       "\n",
       "                                               album   type  \n",
       "0  {'id': 135907912, 'title': 'Renovo (Ao Vivo)',...  track  \n",
       "1  {'id': 135907912, 'title': 'Renovo (Ao Vivo)',...  track  "
      ],
      "text/html": "<div>\n<style scoped>\n    .dataframe tbody tr th:only-of-type {\n        vertical-align: middle;\n    }\n\n    .dataframe tbody tr th {\n        vertical-align: top;\n    }\n\n    .dataframe thead th {\n        text-align: right;\n    }\n</style>\n<table border=\"1\" class=\"dataframe\">\n  <thead>\n    <tr style=\"text-align: right;\">\n      <th></th>\n      <th>id</th>\n      <th>readable</th>\n      <th>title</th>\n      <th>title_short</th>\n      <th>title_version</th>\n      <th>link</th>\n      <th>duration</th>\n      <th>rank</th>\n      <th>explicit_lyrics</th>\n      <th>explicit_content_lyrics</th>\n      <th>explicit_content_cover</th>\n      <th>preview</th>\n      <th>md5_image</th>\n      <th>time_add</th>\n      <th>artist</th>\n      <th>album</th>\n      <th>type</th>\n    </tr>\n  </thead>\n  <tbody>\n    <tr>\n      <th>0</th>\n      <td>901417982</td>\n      <td>True</td>\n      <td>Como Ninguém Me Vê (Ao Vivo)</td>\n      <td>Como Ninguém Me Vê</td>\n      <td>(Ao Vivo)</td>\n      <td>https://www.deezer.com/track/901417982</td>\n      <td>337</td>\n      <td>372719</td>\n      <td>False</td>\n      <td>0</td>\n      <td>2</td>\n      <td>https://cdns-preview-d.dzcdn.net/stream/c-d0b2...</td>\n      <td>c67535f12d3c5aaefed1e822b228da37</td>\n      <td>1592490780</td>\n      <td>{'id': 1263295, 'name': 'André Valadão', 'link...</td>\n      <td>{'id': 135907912, 'title': 'Renovo (Ao Vivo)',...</td>\n      <td>track</td>\n    </tr>\n    <tr>\n      <th>1</th>\n      <td>901417972</td>\n      <td>True</td>\n      <td>Confio Em Ti (Ao Vivo)</td>\n      <td>Confio Em Ti</td>\n      <td>(Ao Vivo)</td>\n      <td>https://www.deezer.com/track/901417972</td>\n      <td>265</td>\n      <td>417956</td>\n      <td>False</td>\n      <td>0</td>\n      <td>2</td>\n      <td>https://cdns-preview-b.dzcdn.net/stream/c-b098...</td>\n      <td>c67535f12d3c5aaefed1e822b228da37</td>\n      <td>1592490759</td>\n      <td>{'id': 1263295, 'name': 'André Valadão', 'link...</td>\n      <td>{'id': 135907912, 'title': 'Renovo (Ao Vivo)',...</td>\n      <td>track</td>\n    </tr>\n  </tbody>\n</table>\n</div>"
     },
     "metadata": {},
     "execution_count": 117
    }
   ],
   "source": [
    "# Uma rápida olhada nos dados\n",
    "playlist.head(2)"
   ]
  },
  {
   "source": [
    "## Transformando os dados - Músicas"
   ],
   "cell_type": "markdown",
   "metadata": {}
  },
  {
   "cell_type": "code",
   "execution_count": 118,
   "metadata": {},
   "outputs": [],
   "source": [
    "# Deixando somente as features necessárias do dataset\n",
    "cols_to_keep = ['title', 'link', 'duration', 'rank']\n",
    "playlist = playlist[cols_to_keep]"
   ]
  },
  {
   "cell_type": "code",
   "execution_count": 119,
   "metadata": {},
   "outputs": [
    {
     "output_type": "execute_result",
     "data": {
      "text/plain": [
       "                                  title  \\\n",
       "0          Como Ninguém Me Vê (Ao Vivo)   \n",
       "1                Confio Em Ti (Ao Vivo)   \n",
       "2                     Amigo Fiel (Live)   \n",
       "3                  Nasci de Novo (Live)   \n",
       "4                              Muralhas   \n",
       "5                        Milagre (Live)   \n",
       "6                             Abraça-Me   \n",
       "7                        Pela Fé (Live)   \n",
       "8   Criatura Igual ao Criador (Ao Vivo)   \n",
       "9                  Sua Glória (Ao Vivo)   \n",
       "10         Como Ninguém Me Vê (Ao Vivo)   \n",
       "11                       Minha Vida Dou   \n",
       "12                 Que Se Abram Os Céus   \n",
       "13                    Milagre (Ao Vivo)   \n",
       "14                       Santo Espírito   \n",
       "15                            Abraça-Me   \n",
       "16                   Teu Amor Não Falha   \n",
       "17                               Me Ama   \n",
       "18                      Porque Ele Vive   \n",
       "19      Quando o Mundo Cai Ao Meu Redor   \n",
       "20                             Acredito   \n",
       "21                        Rendido Estou   \n",
       "22              Crer para Ver (Ao Vivo)   \n",
       "23                          Não Temerei   \n",
       "24                    Pela Fé (Ao Vivo)   \n",
       "\n",
       "                                      link  duration    rank  \n",
       "0   https://www.deezer.com/track/901417982       337  372719  \n",
       "1   https://www.deezer.com/track/901417972       265  417956  \n",
       "2   https://www.deezer.com/track/960061732       450  599576  \n",
       "3   https://www.deezer.com/track/960061692       628  335115  \n",
       "4   https://www.deezer.com/track/440609502       295  682520  \n",
       "5   https://www.deezer.com/track/960061712       943  346057  \n",
       "6    https://www.deezer.com/track/70754918       313  573402  \n",
       "7   https://www.deezer.com/track/960061702       731  299543  \n",
       "8   https://www.deezer.com/track/901417952       341  434803  \n",
       "9   https://www.deezer.com/track/901417962       303  361300  \n",
       "10  https://www.deezer.com/track/880797362       337  534732  \n",
       "11  https://www.deezer.com/track/566719602       292  329384  \n",
       "12  https://www.deezer.com/track/401013442       307  416860  \n",
       "13   https://www.deezer.com/track/71733037       446  677550  \n",
       "14  https://www.deezer.com/track/414493982       368  357762  \n",
       "15  https://www.deezer.com/track/362702181       304  301064  \n",
       "16   https://www.deezer.com/track/83068786       333  480713  \n",
       "17  https://www.deezer.com/track/362702191       273  249957  \n",
       "18  https://www.deezer.com/track/101503328       268  546393  \n",
       "19   https://www.deezer.com/track/83068782       230  472411  \n",
       "20  https://www.deezer.com/track/409683902       258  312337  \n",
       "21   https://www.deezer.com/track/83068792       331  470605  \n",
       "22  https://www.deezer.com/track/119319912       353  438592  \n",
       "23   https://www.deezer.com/track/70721557       267  427624  \n",
       "24  https://www.deezer.com/track/388631971       279  393576  "
      ],
      "text/html": "<div>\n<style scoped>\n    .dataframe tbody tr th:only-of-type {\n        vertical-align: middle;\n    }\n\n    .dataframe tbody tr th {\n        vertical-align: top;\n    }\n\n    .dataframe thead th {\n        text-align: right;\n    }\n</style>\n<table border=\"1\" class=\"dataframe\">\n  <thead>\n    <tr style=\"text-align: right;\">\n      <th></th>\n      <th>title</th>\n      <th>link</th>\n      <th>duration</th>\n      <th>rank</th>\n    </tr>\n  </thead>\n  <tbody>\n    <tr>\n      <th>0</th>\n      <td>Como Ninguém Me Vê (Ao Vivo)</td>\n      <td>https://www.deezer.com/track/901417982</td>\n      <td>337</td>\n      <td>372719</td>\n    </tr>\n    <tr>\n      <th>1</th>\n      <td>Confio Em Ti (Ao Vivo)</td>\n      <td>https://www.deezer.com/track/901417972</td>\n      <td>265</td>\n      <td>417956</td>\n    </tr>\n    <tr>\n      <th>2</th>\n      <td>Amigo Fiel (Live)</td>\n      <td>https://www.deezer.com/track/960061732</td>\n      <td>450</td>\n      <td>599576</td>\n    </tr>\n    <tr>\n      <th>3</th>\n      <td>Nasci de Novo (Live)</td>\n      <td>https://www.deezer.com/track/960061692</td>\n      <td>628</td>\n      <td>335115</td>\n    </tr>\n    <tr>\n      <th>4</th>\n      <td>Muralhas</td>\n      <td>https://www.deezer.com/track/440609502</td>\n      <td>295</td>\n      <td>682520</td>\n    </tr>\n    <tr>\n      <th>5</th>\n      <td>Milagre (Live)</td>\n      <td>https://www.deezer.com/track/960061712</td>\n      <td>943</td>\n      <td>346057</td>\n    </tr>\n    <tr>\n      <th>6</th>\n      <td>Abraça-Me</td>\n      <td>https://www.deezer.com/track/70754918</td>\n      <td>313</td>\n      <td>573402</td>\n    </tr>\n    <tr>\n      <th>7</th>\n      <td>Pela Fé (Live)</td>\n      <td>https://www.deezer.com/track/960061702</td>\n      <td>731</td>\n      <td>299543</td>\n    </tr>\n    <tr>\n      <th>8</th>\n      <td>Criatura Igual ao Criador (Ao Vivo)</td>\n      <td>https://www.deezer.com/track/901417952</td>\n      <td>341</td>\n      <td>434803</td>\n    </tr>\n    <tr>\n      <th>9</th>\n      <td>Sua Glória (Ao Vivo)</td>\n      <td>https://www.deezer.com/track/901417962</td>\n      <td>303</td>\n      <td>361300</td>\n    </tr>\n    <tr>\n      <th>10</th>\n      <td>Como Ninguém Me Vê (Ao Vivo)</td>\n      <td>https://www.deezer.com/track/880797362</td>\n      <td>337</td>\n      <td>534732</td>\n    </tr>\n    <tr>\n      <th>11</th>\n      <td>Minha Vida Dou</td>\n      <td>https://www.deezer.com/track/566719602</td>\n      <td>292</td>\n      <td>329384</td>\n    </tr>\n    <tr>\n      <th>12</th>\n      <td>Que Se Abram Os Céus</td>\n      <td>https://www.deezer.com/track/401013442</td>\n      <td>307</td>\n      <td>416860</td>\n    </tr>\n    <tr>\n      <th>13</th>\n      <td>Milagre (Ao Vivo)</td>\n      <td>https://www.deezer.com/track/71733037</td>\n      <td>446</td>\n      <td>677550</td>\n    </tr>\n    <tr>\n      <th>14</th>\n      <td>Santo Espírito</td>\n      <td>https://www.deezer.com/track/414493982</td>\n      <td>368</td>\n      <td>357762</td>\n    </tr>\n    <tr>\n      <th>15</th>\n      <td>Abraça-Me</td>\n      <td>https://www.deezer.com/track/362702181</td>\n      <td>304</td>\n      <td>301064</td>\n    </tr>\n    <tr>\n      <th>16</th>\n      <td>Teu Amor Não Falha</td>\n      <td>https://www.deezer.com/track/83068786</td>\n      <td>333</td>\n      <td>480713</td>\n    </tr>\n    <tr>\n      <th>17</th>\n      <td>Me Ama</td>\n      <td>https://www.deezer.com/track/362702191</td>\n      <td>273</td>\n      <td>249957</td>\n    </tr>\n    <tr>\n      <th>18</th>\n      <td>Porque Ele Vive</td>\n      <td>https://www.deezer.com/track/101503328</td>\n      <td>268</td>\n      <td>546393</td>\n    </tr>\n    <tr>\n      <th>19</th>\n      <td>Quando o Mundo Cai Ao Meu Redor</td>\n      <td>https://www.deezer.com/track/83068782</td>\n      <td>230</td>\n      <td>472411</td>\n    </tr>\n    <tr>\n      <th>20</th>\n      <td>Acredito</td>\n      <td>https://www.deezer.com/track/409683902</td>\n      <td>258</td>\n      <td>312337</td>\n    </tr>\n    <tr>\n      <th>21</th>\n      <td>Rendido Estou</td>\n      <td>https://www.deezer.com/track/83068792</td>\n      <td>331</td>\n      <td>470605</td>\n    </tr>\n    <tr>\n      <th>22</th>\n      <td>Crer para Ver (Ao Vivo)</td>\n      <td>https://www.deezer.com/track/119319912</td>\n      <td>353</td>\n      <td>438592</td>\n    </tr>\n    <tr>\n      <th>23</th>\n      <td>Não Temerei</td>\n      <td>https://www.deezer.com/track/70721557</td>\n      <td>267</td>\n      <td>427624</td>\n    </tr>\n    <tr>\n      <th>24</th>\n      <td>Pela Fé (Ao Vivo)</td>\n      <td>https://www.deezer.com/track/388631971</td>\n      <td>279</td>\n      <td>393576</td>\n    </tr>\n  </tbody>\n</table>\n</div>"
     },
     "metadata": {},
     "execution_count": 119
    }
   ],
   "source": [
    "# Verificando o resultado final\n",
    "playlist"
   ]
  },
  {
   "source": [
    "## Carregando os dados - Álbum"
   ],
   "cell_type": "markdown",
   "metadata": {}
  },
  {
   "cell_type": "code",
   "execution_count": 120,
   "metadata": {},
   "outputs": [],
   "source": [
    "# Relizando outra chamada a API do Deezer, dessa vez para buscar um álbum.\n",
    "api2 = requests.get(\"https://api.deezer.com/album/190730632\")\n",
    "text_data2 = api2.text\n",
    "json_dict2 = json.loads(text_data2)"
   ]
  },
  {
   "cell_type": "code",
   "execution_count": 130,
   "metadata": {},
   "outputs": [],
   "source": [
    "# Transformando os dados em um DataFrame do Pandas\n",
    "album = pd.DataFrame.from_dict(json_dict2, orient = 'index').T"
   ]
  },
  {
   "cell_type": "code",
   "execution_count": 131,
   "metadata": {},
   "outputs": [
    {
     "output_type": "execute_result",
     "data": {
      "text/plain": [
       "Index(['id', 'title', 'upc', 'link', 'share', 'cover', 'cover_small',\n",
       "       'cover_medium', 'cover_big', 'cover_xl', 'md5_image', 'genre_id',\n",
       "       'genres', 'label', 'nb_tracks', 'duration', 'fans', 'rating',\n",
       "       'release_date', 'record_type', 'available', 'tracklist',\n",
       "       'explicit_lyrics', 'explicit_content_lyrics', 'explicit_content_cover',\n",
       "       'contributors', 'artist', 'type', 'tracks'],\n",
       "      dtype='object')"
      ]
     },
     "metadata": {},
     "execution_count": 131
    }
   ],
   "source": [
    "# Verificando as features do dataset\n",
    "album.columns"
   ]
  },
  {
   "source": [
    "## Transformando os dados - Álbum"
   ],
   "cell_type": "markdown",
   "metadata": {}
  },
  {
   "cell_type": "code",
   "execution_count": 133,
   "metadata": {},
   "outputs": [],
   "source": [
    "# Deixando somente as features necessárias do dataset\n",
    "cols_to_keep2 = ['title', 'link', 'label', 'nb_tracks', 'duration', 'fans', 'release_date']\n",
    "album = album[cols_to_keep2]"
   ]
  },
  {
   "cell_type": "code",
   "execution_count": 126,
   "metadata": {},
   "outputs": [
    {
     "output_type": "execute_result",
     "data": {
      "text/plain": [
       "   title                                    link     label nb_tracks duration  \\\n",
       "0  Happy  https://www.deezer.com/album/190730632  Onimusic         8     1702   \n",
       "\n",
       "  fans release_date  \n",
       "0  427   2020-12-17  "
      ],
      "text/html": "<div>\n<style scoped>\n    .dataframe tbody tr th:only-of-type {\n        vertical-align: middle;\n    }\n\n    .dataframe tbody tr th {\n        vertical-align: top;\n    }\n\n    .dataframe thead th {\n        text-align: right;\n    }\n</style>\n<table border=\"1\" class=\"dataframe\">\n  <thead>\n    <tr style=\"text-align: right;\">\n      <th></th>\n      <th>title</th>\n      <th>link</th>\n      <th>label</th>\n      <th>nb_tracks</th>\n      <th>duration</th>\n      <th>fans</th>\n      <th>release_date</th>\n    </tr>\n  </thead>\n  <tbody>\n    <tr>\n      <th>0</th>\n      <td>Happy</td>\n      <td>https://www.deezer.com/album/190730632</td>\n      <td>Onimusic</td>\n      <td>8</td>\n      <td>1702</td>\n      <td>427</td>\n      <td>2020-12-17</td>\n    </tr>\n  </tbody>\n</table>\n</div>"
     },
     "metadata": {},
     "execution_count": 126
    }
   ],
   "source": [
    "# Verificando o resultado final\n",
    "album"
   ]
  },
  {
   "source": [
    "## Exportando para Excel"
   ],
   "cell_type": "markdown",
   "metadata": {}
  },
  {
   "cell_type": "code",
   "execution_count": 127,
   "metadata": {},
   "outputs": [],
   "source": [
    "# Instanciando um objeto writer e definindo o nome da planilha (Andre_Valadao_2)\n",
    "writer = pd.ExcelWriter('Andre_Valadao_2.xlsx', engine='xlsxwriter')"
   ]
  },
  {
   "cell_type": "code",
   "execution_count": 128,
   "metadata": {},
   "outputs": [],
   "source": [
    "# Transformando os DataFrames em uma planilha do Excel\n",
    "playlist.to_excel(writer, sheet_name='Musicas', index = False)\n",
    "album.to_excel(writer, sheet_name='Albuns', index = False)"
   ]
  },
  {
   "cell_type": "code",
   "execution_count": 129,
   "metadata": {},
   "outputs": [],
   "source": [
    "# Terminando a criação da planilha\n",
    "writer.save()"
   ]
  }
 ]
}